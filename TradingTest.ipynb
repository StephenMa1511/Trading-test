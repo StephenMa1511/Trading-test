{
 "cells": [
  {
   "cell_type": "markdown",
   "id": "17f24ea0",
   "metadata": {
    "tags": []
   },
   "source": [
    "# Import"
   ]
  },
  {
   "cell_type": "code",
   "execution_count": null,
   "id": "0a3c0233",
   "metadata": {},
   "outputs": [],
   "source": [
    "import pandas as pd\n",
    "import numpy as np\n",
    "pd.options.display.float_format = '{:.4f}'.format\n",
    "import pandas_ta as ta\n",
    "import os\n",
    "import plotly.graph_objects as go\n",
    "from plotly.subplots import make_subplots\n",
    "from datetime import datetime\n",
    "import warnings\n",
    "import matplotlib.pyplot as plt\n",
    "import matplotlib.patches as mpatches\n",
    "import datetime\n",
    "\n",
    "%matplotlib inline"
   ]
  },
  {
   "cell_type": "code",
   "execution_count": null,
   "id": "a0463f11-e142-48e8-a172-165aed6605fa",
   "metadata": {},
   "outputs": [],
   "source": [
    "# pd.set_option('display.max_columns', None)\n",
    "# pd.set_option('display.max_rows', None)"
   ]
  },
  {
   "cell_type": "markdown",
   "id": "8e9e40c3-a903-49e9-a9f8-033d4e8be3a3",
   "metadata": {},
   "source": [
    "# test a a aa"
   ]
  },
  {
   "cell_type": "markdown",
   "id": "21856ee6-faf8-4ae8-81dc-4c91985bc9d8",
   "metadata": {},
   "source": [
    "### tset bbb"
   ]
  },
  {
   "cell_type": "markdown",
   "id": "156f8227-f5fa-43f5-81cc-d0cb29cb66cc",
   "metadata": {
    "tags": []
   },
   "source": [
    "# Declare global variable:\n",
    "    "
   ]
  },
  {
   "cell_type": "code",
   "execution_count": null,
   "id": "91fc2861",
   "metadata": {},
   "outputs": [],
   "source": [
    "log_return_masking = ['LogReturn_1bar','LogReturn_3bar','LogReturn_10bar','LogReturn_20bar']\n",
    "pip_return_masking = ['PipReturn_1bar','PipReturn_3bar','PipReturn_5bar','PipReturn_10bar',\n",
    "                      'PipReturn_15bar','PipReturn_20bar']"
   ]
  },
  {
   "cell_type": "markdown",
   "id": "2aa6869e",
   "metadata": {
    "tags": []
   },
   "source": [
    "# Functions"
   ]
  },
  {
   "cell_type": "markdown",
   "id": "816806d3-e2aa-4f4c-b450-3cd7bb844d64",
   "metadata": {},
   "source": [
    "## Generate points Functions"
   ]
  },
  {
   "cell_type": "markdown",
   "id": "1c707937",
   "metadata": {
    "tags": []
   },
   "source": [
    "### Generate pivotID Function"
   ]
  },
  {
   "cell_type": "code",
   "execution_count": null,
   "id": "5b2901d9",
   "metadata": {},
   "outputs": [],
   "source": [
    "def pivotid(df1, l, n1, n2): #n1 n2 before and after candle l\n",
    "    if l-n1 < 0 or l+n2 >= len(df1):\n",
    "        return 0\n",
    "    \n",
    "    pividlow=1\n",
    "    pividhigh=1\n",
    "    for i in range(l-n1, l+n2+1):\n",
    "        if(df1.low[l]>df1.low[i]):\n",
    "            pividlow=0\n",
    "        if(df1.high[l]<df1.high[i]):\n",
    "            pividhigh=0\n",
    "    if pividlow and pividhigh:\n",
    "        return 3\n",
    "    elif pividlow:\n",
    "        return 1\n",
    "    elif pividhigh:\n",
    "        return 2\n",
    "    else:\n",
    "        return 0\n",
    "\n",
    "def RSIpivotid(df1, l, n1, n2): #n1 n2 before and after candle l\n",
    "    if l-n1 < 0 or l+n2 >= len(df1):\n",
    "        return 0\n",
    "\n",
    "    pividlow=1\n",
    "    pividhigh=1\n",
    "    for i in range(l-n1, l+n2+1):\n",
    "        if(df1.RSI[l]>df1.RSI[i]):\n",
    "            pividlow=0\n",
    "        if(df1.RSI[l]<df1.RSI[i]):\n",
    "            pividhigh=0\n",
    "    if pividlow and pividhigh:\n",
    "        return 3\n",
    "    elif pividlow:\n",
    "        return 1\n",
    "    elif pividhigh:\n",
    "        return 2\n",
    "    else:\n",
    "        return 0 \n",
    "    \n",
    "def MACDpivotid(df1, l, n1, n2): #n1 n2 before and after candle l\n",
    "    if l-n1 < 0 or l+n2 >= len(df1):\n",
    "        return 0\n",
    "\n",
    "    pividlow=1\n",
    "    pividhigh=1\n",
    "    for i in range(l-n1, l+n2+1):\n",
    "        if(df1.MACD[l]>df1.MACD[i]):\n",
    "            pividlow=0\n",
    "        if(df1.MACD[l]<df1.MACD[i]):\n",
    "            pividhigh=0\n",
    "    if pividlow and pividhigh:\n",
    "        return 3\n",
    "    elif pividlow:\n",
    "        return 1\n",
    "    elif pividhigh:\n",
    "        return 2\n",
    "    else:\n",
    "        return 0 "
   ]
  },
  {
   "cell_type": "markdown",
   "id": "56516f09",
   "metadata": {
    "tags": []
   },
   "source": [
    "### Generate pointPosition to graph Function"
   ]
  },
  {
   "cell_type": "code",
   "execution_count": null,
   "id": "12cf70c2",
   "metadata": {},
   "outputs": [],
   "source": [
    "def pointpos(x):\n",
    "    if x['pivot']==1:\n",
    "        return x['low']-1e-4\n",
    "    elif x['pivot']==2:\n",
    "        return x['high']+1e-4\n",
    "    else:\n",
    "        return np.nan\n",
    "\n",
    "def RSIpointpos(x):\n",
    "    if x['RSIpivot']==1:\n",
    "        return x['RSI']-1e-4\n",
    "    elif x['RSIpivot']==2:\n",
    "        return x['RSI']+1e-4\n",
    "    else:\n",
    "        return np.nan\n",
    "    \n",
    "def MACDpointpos(x):\n",
    "    if x['MACDpivot']==1:\n",
    "        return x['MACD']-1e-4\n",
    "    elif x['MACDpivot']==2:\n",
    "        return x['MACD']+1e-4\n",
    "    else:\n",
    "        return np.nan"
   ]
  },
  {
   "cell_type": "markdown",
   "id": "12230b0a-c386-4f20-9c7f-7d72ea46f3c9",
   "metadata": {},
   "source": [
    "### Generate price slope for each bar"
   ]
  },
  {
   "cell_type": "code",
   "execution_count": null,
   "id": "04625d77-058c-4c60-8ea8-6cb957dca0f9",
   "metadata": {},
   "outputs": [],
   "source": [
    "def slopeGenerate(df, x, nbackcandles):\n",
    "    backcandles=nbackcandles \n",
    "    candleid = int(x.name)\n",
    "\n",
    "    closp = np.array([])\n",
    "    xxclos = np.array([])\n",
    "\n",
    "    for i in range(candleid-backcandles, candleid+1):\n",
    "        closp = np.append(closp, df.iloc[i].close)\n",
    "        xxclos = np.append(xxclos, i)\n",
    "\n",
    "    slclos, interclos = np.polyfit(xxclos, closp,1)\n",
    "    \n",
    "    return slclos"
   ]
  },
  {
   "cell_type": "markdown",
   "id": "67b05c13-1dd0-443f-9019-c82fd1ce6c8f",
   "metadata": {
    "tags": []
   },
   "source": [
    "### Generate divergence signal Function"
   ]
  },
  {
   "cell_type": "code",
   "execution_count": null,
   "id": "1569091c",
   "metadata": {},
   "outputs": [],
   "source": [
    "# RSi ------------------\n",
    "def divsignalRSI(df, x, nbackcandles):\n",
    "    backcandles=nbackcandles \n",
    "    candleid = int(x.name)\n",
    "\n",
    "    maxim = np.array([])\n",
    "    minim = np.array([])\n",
    "    xxmin = np.array([])\n",
    "    xxmax = np.array([])\n",
    "\n",
    "    maximRSI = np.array([])\n",
    "    minimRSI = np.array([])\n",
    "    xxminRSI = np.array([])\n",
    "    xxmaxRSI = np.array([])\n",
    "\n",
    "    for i in range(candleid-backcandles, candleid+1):\n",
    "        if df.iloc[i].pivot == 1:\n",
    "            minim = np.append(minim, df.iloc[i].low)\n",
    "            xxmin = np.append(xxmin, i) #could be i instead df.iloc[i].name\n",
    "        if df.iloc[i].pivot == 2:\n",
    "            maxim = np.append(maxim, df.iloc[i].high)\n",
    "            xxmax = np.append(xxmax, i) # df.iloc[i].name\n",
    "        if df.iloc[i].RSIpivot == 1:\n",
    "            minimRSI = np.append(minimRSI, df.iloc[i].RSI)\n",
    "            xxminRSI = np.append(xxminRSI, df.iloc[i].name)\n",
    "        if df.iloc[i].RSIpivot == 2:\n",
    "            maximRSI = np.append(maximRSI, df.iloc[i].RSI)\n",
    "            xxmaxRSI = np.append(xxmaxRSI, df.iloc[i].name)\n",
    "\n",
    "    if maxim.size<2 or minim.size<2 or maximRSI.size<2 or minimRSI.size<2:\n",
    "        return 0\n",
    "    \n",
    "    slmin, intercmin = np.polyfit(xxmin, minim,1)\n",
    "    slmax, intercmax = np.polyfit(xxmax, maxim,1)\n",
    "    slminRSI, intercminRSI = np.polyfit(xxminRSI, minimRSI,1)\n",
    "    slmaxRSI, intercmaxRSI = np.polyfit(xxmaxRSI, maximRSI,1)\n",
    "    \n",
    "    \n",
    "    if slmin > 1e-4 and slmax > 1e-4 and slmaxRSI <-0.1:\n",
    "        return 1\n",
    "    elif slmin < -1e-4 and slmax < -1e-4 and slminRSI > 0.1:\n",
    "        return 2\n",
    "    else:\n",
    "        return 0\n",
    "# MACD---------------------------------\n",
    "    \n",
    "def divsignalMACD(df, x, nbackcandles):\n",
    "    backcandles=nbackcandles \n",
    "    candleid = int(x.name)\n",
    "\n",
    "    maxim = np.array([])\n",
    "    minim = np.array([])\n",
    "    xxmin = np.array([])\n",
    "    xxmax = np.array([])\n",
    "\n",
    "    maximMACD = np.array([])\n",
    "    minimMACD = np.array([])\n",
    "    xxminMACD = np.array([])\n",
    "    xxmaxMACD = np.array([])\n",
    "\n",
    "    for i in range(candleid-backcandles, candleid+1):\n",
    "        if df.iloc[i].pivot == 1:\n",
    "            minim = np.append(minim, df.iloc[i].low)\n",
    "            xxmin = np.append(xxmin, i) #could be i instead df.iloc[i].name\n",
    "        if df.iloc[i].pivot == 2:\n",
    "            maxim = np.append(maxim, df.iloc[i].high)\n",
    "            xxmax = np.append(xxmax, i) # df.iloc[i].name\n",
    "        if df.iloc[i].MACDpivot == 1:\n",
    "            minimMACD = np.append(minimMACD, df.iloc[i].MACD)\n",
    "            xxminMACD = np.append(xxminMACD, df.iloc[i].name)\n",
    "        if df.iloc[i].MACDpivot == 2:\n",
    "            maximMACD = np.append(maximMACD, df.iloc[i].MACD)\n",
    "            xxmaxMACD = np.append(xxmaxMACD, df.iloc[i].name)\n",
    "\n",
    "    if maxim.size<2 or minim.size<2 or maximMACD.size<2 or minimMACD.size<2:\n",
    "        return 0\n",
    "    \n",
    "    slmin, intercmin = np.polyfit(xxmin, minim,1)\n",
    "    slmax, intercmax = np.polyfit(xxmax, maxim,1)\n",
    "    slminMACD, intercminMACD = np.polyfit(xxminMACD, minimMACD,1)\n",
    "    slmaxMACD, intercmaxMACD = np.polyfit(xxmaxMACD, maximMACD,1)\n",
    "    \n",
    "    \n",
    "    if slmin > 1e-4 and slmax > 1e-4 and slmaxMACD <-0.1:\n",
    "        return 1\n",
    "    elif slmin < -1e-4 and slmax < -1e-4 and slminMACD > 0.1:\n",
    "        return 2\n",
    "    else:\n",
    "        return 0"
   ]
  },
  {
   "cell_type": "markdown",
   "id": "19583ad6",
   "metadata": {
    "tags": []
   },
   "source": [
    "### Generate div signal 2 (without slopes of indicator piv point) Function"
   ]
  },
  {
   "cell_type": "markdown",
   "id": "c0cd434b",
   "metadata": {},
   "source": [
    "##### MACD"
   ]
  },
  {
   "cell_type": "code",
   "execution_count": null,
   "id": "a4e07960",
   "metadata": {},
   "outputs": [],
   "source": [
    "def divsignal2MACD(df, x, nbackcandles, startRange):\n",
    "    backcandles=nbackcandles \n",
    "    candleid = int(x.name)\n",
    "\n",
    "    closp = np.array([])\n",
    "    xxclos = np.array([])\n",
    "    \n",
    "    maxim = np.array([])\n",
    "    minim = np.array([])\n",
    "    xxmin = np.array([])\n",
    "    xxmax = np.array([])\n",
    "\n",
    "    maximMACD = np.array([])\n",
    "    minimMACD = np.array([])\n",
    "    xxminMACD = np.array([])\n",
    "    xxmaxMACD = np.array([])\n",
    "\n",
    "    for i in range(candleid-backcandles, candleid+1):\n",
    "        closp = np.append(closp, df.iloc[i].close)\n",
    "        xxclos = np.append(xxclos, i)\n",
    "        \n",
    "    for i in range(candleid-backcandles-startRange, candleid+1 - startRange):\n",
    "        if df.iloc[i].pivot == 1:\n",
    "            minim = np.append(minim, df.iloc[i].low)\n",
    "            xxmin = np.append(xxmin, i) #could be i instead df.iloc[i].name\n",
    "        if df.iloc[i].pivot == 2:\n",
    "            maxim = np.append(maxim, df.iloc[i].high)\n",
    "            xxmax = np.append(xxmax, i) # df.iloc[i].name\n",
    "        if df.iloc[i].MACDpivot == 1:\n",
    "            minimMACD = np.append(minimMACD, df.iloc[i].MACD)\n",
    "            xxminMACD = np.append(xxminMACD, df.iloc[i].name)\n",
    "        if df.iloc[i].MACDpivot == 2:\n",
    "            maximMACD = np.append(maximMACD, df.iloc[i].MACD)\n",
    "            xxmaxMACD = np.append(xxmaxMACD, df.iloc[i].name)\n",
    "\n",
    "    slclos, interclos = np.polyfit(xxclos, closp,1)\n",
    "    \n",
    "    if slclos > 1e-4 and (maximMACD.size<2 or maxim.size<2):\n",
    "        return 0\n",
    "    if slclos < -1e-4 and (minimMACD.size<2 or minim.size<2):\n",
    "        return 0\n",
    "# signal decisions here !!!\n",
    "    if (slclos > 1e-4):\n",
    "        if maximMACD[-1]<maximMACD[-2] and maxim[-1]>maxim[-2]:\n",
    "            return 1\n",
    "    elif (slclos < -1e-4):\n",
    "        if minimMACD[-1]>minimMACD[-2] and minim[-1]<minim[-2]:\n",
    "            return 2\n",
    "    else:\n",
    "        return 0"
   ]
  },
  {
   "cell_type": "markdown",
   "id": "e07c2982",
   "metadata": {},
   "source": [
    "##### RSI"
   ]
  },
  {
   "cell_type": "code",
   "execution_count": null,
   "id": "c92af730",
   "metadata": {},
   "outputs": [],
   "source": [
    "def divsignal2RSI(df, x, nbackcandles):\n",
    "    backcandles=nbackcandles \n",
    "    candleid = int(x.name)\n",
    "\n",
    "    closp = np.array([])\n",
    "    xxclos = np.array([])\n",
    "    \n",
    "    maxim = np.array([])\n",
    "    minim = np.array([])\n",
    "    xxmin = np.array([])\n",
    "    xxmax = np.array([])\n",
    "\n",
    "    maximRSI = np.array([])\n",
    "    minimRSI = np.array([])\n",
    "    xxminRSI = np.array([])\n",
    "    xxmaxRSI = np.array([])\n",
    "\n",
    "    for i in range(candleid-backcandles, candleid+1):\n",
    "        closp = np.append(closp, df.iloc[i].close)\n",
    "        xxclos = np.append(xxclos, i)\n",
    "        if df.iloc[i].pivot == 1:\n",
    "            minim = np.append(minim, df.iloc[i].low)\n",
    "            xxmin = np.append(xxmin, i) #could be i instead df.iloc[i].name\n",
    "        if df.iloc[i].pivot == 2:\n",
    "            maxim = np.append(maxim, df.iloc[i].high)\n",
    "            xxmax = np.append(xxmax, i) # df.iloc[i].name\n",
    "        if df.iloc[i].RSIpivot == 1:\n",
    "            minimRSI = np.append(minimRSI, df.iloc[i].RSI)\n",
    "            xxminRSI = np.append(xxminRSI, df.iloc[i].name)\n",
    "        if df.iloc[i].RSIpivot == 2:\n",
    "            maximRSI = np.append(maximRSI, df.iloc[i].RSI)\n",
    "            xxmaxRSI = np.append(xxmaxRSI, df.iloc[i].name)\n",
    "\n",
    "    slclos, interclos = np.polyfit(xxclos, closp,1)\n",
    "    \n",
    "    if slclos > 1e-4 and (maximRSI.size<2 or maxim.size<2):\n",
    "        return 0\n",
    "    if slclos < -1e-4 and (minimRSI.size<2 or minim.size<2):\n",
    "        return 0\n",
    "# signal decisions here !!!\n",
    "    if slclos > 1e-4:\n",
    "        if maximRSI[-1]<maximRSI[-2] and maxim[-1]>maxim[-2]:\n",
    "            return 1\n",
    "    elif slclos < -1e-4:\n",
    "        if minimRSI[-1]>minimRSI[-2] and minim[-1]<minim[-2]:\n",
    "            return 2\n",
    "    else:\n",
    "        return 0"
   ]
  },
  {
   "cell_type": "markdown",
   "id": "b07a603a-f68e-411e-8b76-148350e2db3e",
   "metadata": {
    "tags": [],
    "toc-hr-collapsed": true
   },
   "source": [
    "### Generate div signal 3 (without slopes of anything) Function"
   ]
  },
  {
   "cell_type": "markdown",
   "id": "76fa5a95-4058-4892-9cfe-91a986782f35",
   "metadata": {},
   "source": [
    "##### MACD"
   ]
  },
  {
   "cell_type": "code",
   "execution_count": null,
   "id": "2c64768b-80a0-4ed7-b390-b46637743af7",
   "metadata": {},
   "outputs": [],
   "source": [
    "def divsignal3MACD(df, x, nbackcandles, startRange, thresholdRSI_up, thresholdRSI_down):\n",
    "    '''\n",
    "    startRange: number of bar in one side of the compared range of the pivor, ig. pivot (10,10)=> startRange = 10\n",
    "    '''\n",
    "    backcandles=nbackcandles \n",
    "    candleid = int(x.name)\n",
    " \n",
    "    maxim = np.array([])\n",
    "    minim = np.array([])\n",
    "    # xxmin = np.array([])\n",
    "    # xxmax = np.array([])\n",
    "\n",
    "    maximMACD = np.array([])\n",
    "    minimMACD = np.array([])\n",
    "    # xxminMACD = np.array([])\n",
    "    # xxmaxMACD = np.array([])\n",
    "\n",
    "    for i in range(candleid-backcandles - startRange, candleid+1 - startRange):\n",
    "        if df.iloc[i].pivot == 1:\n",
    "            minim = np.append(minim, df.iloc[i].low)\n",
    "            # xxmin = np.append(xxmin, i) #could be i instead df.iloc[i].name\n",
    "        if df.iloc[i].pivot == 2:\n",
    "            maxim = np.append(maxim, df.iloc[i].high)\n",
    "            # xxmax = np.append(xxmax, i) # df.iloc[i].name\n",
    "        if df.iloc[i].MACDpivot == 1:\n",
    "            minimMACD = np.append(minimMACD, df.iloc[i].MACD)\n",
    "            # xxminMACD = np.append(xxminMACD, df.iloc[i].name)\n",
    "        if df.iloc[i].MACDpivot == 2:\n",
    "            maximMACD = np.append(maximMACD, df.iloc[i].MACD)\n",
    "            # xxmaxMACD = np.append(xxmaxMACD, df.iloc[i].name)\n",
    "   \n",
    "    if minimMACD.size< 2 or minim.size<2:\n",
    "        return 0\n",
    "    if maximMACD.size< 2 or maxim.size<2:\n",
    "        return 0\n",
    "    \n",
    "# signal decisions here !!!\n",
    "\n",
    "    if x.RSI > thresholdRSI_up and maximMACD[-1] < maximMACD[-2] and maxim[-1] > maxim[-2]:\n",
    "        return 1\n",
    "    elif x.RSI < thresholdRSI_down and minimMACD[-1] > minimMACD[-2] and minim[-1] < minim[-2]:\n",
    "        return 2\n",
    "    else:\n",
    "        return 0"
   ]
  },
  {
   "cell_type": "markdown",
   "id": "36a60122-877a-471d-92a9-ee404947a526",
   "metadata": {
    "tags": []
   },
   "source": [
    "## Trade adjustment functions"
   ]
  },
  {
   "cell_type": "markdown",
   "id": "e20b76eb-c139-44b3-b5d5-365ebfc92afb",
   "metadata": {
    "tags": []
   },
   "source": [
    "#### Eliminate consecutive trades function"
   ]
  },
  {
   "cell_type": "code",
   "execution_count": null,
   "id": "c691d991",
   "metadata": {},
   "outputs": [],
   "source": [
    "def elimConsTrades(df, elim_return_type = pip_return_masking):\n",
    "    '''\n",
    "    return_type = 'log' or 'pip'\n",
    "    elim_return_type = pip_return_masking or log_return_masking\n",
    "    '''\n",
    "    \n",
    "    df =  df.reset_index()\n",
    "    \n",
    "    for i in df['index'][:-3].index:\n",
    "        if df['index'][i+1] == (df['index'][i] +1):\n",
    "            df['index'][i+1] = 0\n",
    "        if df['index'][i+2] == (df['index'][i] +2):\n",
    "            df['index'][i+2] = 0\n",
    "        if df['index'][i+3] == (df['index'][i] +3):\n",
    "            df['index'][i+3] = 0\n",
    "                      \n",
    "    elim_stat_df = df[df['index']!= 0][elim_return_type].describe().T\n",
    "    elim_stat_df['Sharpe ratio'] = elim_stat_df['mean']/elim_stat_df['std']\n",
    "    elim_stat_df['Count x Sharpe'] = elim_stat_df['count']*elim_stat_df['Sharpe ratio']        \n",
    "      \n",
    "    elim_result_df = df[df['index']!= 0]\n",
    "\n",
    "    return elim_result_df, elim_stat_df"
   ]
  },
  {
   "cell_type": "markdown",
   "id": "4455d885-6f8b-42c9-9ae3-bc02b4a781e3",
   "metadata": {},
   "source": [
    "## Test Function"
   ]
  },
  {
   "cell_type": "markdown",
   "id": "1a7c1b5e",
   "metadata": {
    "tags": []
   },
   "source": [
    "#### falsebreak_wDiv_test(): ===> False_break_test Functions"
   ]
  },
  {
   "cell_type": "code",
   "execution_count": null,
   "id": "34f6db13",
   "metadata": {
    "tags": []
   },
   "outputs": [],
   "source": [
    "# ver 2\n",
    "def falsebreak_wDiv_test(dfpl,side, fwdCandle, div_indi = \"MACD\", falsebreak_bar = 0, \n",
    "                         ATR_surpass = 0, ATR_commpare_range = 0, div_signal = 'divSignal2MACD',\n",
    "                         elim_cons_trade = True, return_type = pip_return_masking):\n",
    "    '''\n",
    "    side: 'buy' or 'sell'\n",
    "    Test false break signal on divergence\n",
    "    \n",
    "    div_indi : indicator used for divergence signal.\n",
    "    \n",
    "    ATR_surpass: distance between high of break bar and currHigh as multipler of ATR\n",
    "    \n",
    "    falsebreak_bar: number of bars after false break considered to be signal\n",
    "    \n",
    "    fwdCandle: num of candles to add to Pivot before considered currHigh/Low\n",
    "    \n",
    "    div_signal: type of divergence signal: divSignalMACD, divSignal2MACD, divSignal3MACD, or 'No' to not use divergence vv..\n",
    "    \n",
    "    elim_cons_trade: eliminate consecutive trades, one trade per time\n",
    "    \n",
    "    return_type = pip_return_masking or log_return_masking\n",
    "    '''\n",
    "    dfpl['CurrLow'] = 0\n",
    "    dfpl['CurrHigh'] = 0\n",
    "    fwdCandle = fwdCandle\n",
    "    for i in dfpl['pivot'].index:\n",
    "        if dfpl['pivot'][i] == 1:\n",
    "            dfpl['CurrLow'][i+fwdCandle:] = dfpl.low[i]\n",
    "        elif dfpl['pivot'][i] == 2:\n",
    "            dfpl['CurrHigh'][i+fwdCandle:] = dfpl.high[i]\n",
    "    dfpl[f'maxHi{fwdCandle}bar'] = dfpl.high.rolling(fwdCandle).max()\n",
    "    dfpl[f'maxLo{fwdCandle}bar'] = dfpl.low.rolling(fwdCandle).min()\n",
    " \n",
    "           \n",
    "    # ----Sell side------------------\n",
    "        \n",
    "    if side.lower() == \"sell\":    \n",
    "        \n",
    "        false_break_masking_0bar =  (dfpl.high > dfpl.CurrHigh) & (\n",
    "                                    dfpl.close < dfpl.CurrHigh) & (\n",
    "                                    dfpl.high == dfpl[f'maxHi{fwdCandle}bar']) & (\n",
    "                                    dfpl.UpperWick > ATR_commpare_range * dfpl['ATR']) & (\n",
    "                                    # dfpl.UpperWick >dfpl.OpenCloseRange) & ( # adding this condition refine the result but too few trades\n",
    "                                    # abs(dfpl.high - dfpl.low) >= ATR_commpare_range*dfpl['ATR']) & (\n",
    "                                    # dfpl.close > dfpl.EMA20) & (\n",
    "                                    # dfpl.open > dfpl.EMA20) & (\n",
    "                                    # dfpl.close < dfpl.open) & (\n",
    "                                    # abs(dfpl.high - dfpl.close) > abs(dfpl.close - dfpl.open)) & (\n",
    "\n",
    "                                    \n",
    "                                    dfpl.high.shift(periods = 1) < dfpl.CurrHigh) & (\n",
    "                                    dfpl.HiLowRange.shift(periods = 1) < dfpl.HiLowRange) & (\n",
    "                                    # dfpl.close.shift(periods = 1) < dfpl.CurrHigh) & (\n",
    "                                    # dfpl.open.shift(periods = 1) < dfpl.CurrHigh) & (\n",
    "            \n",
    "                                    dfpl.high.shift(periods = 2) < dfpl.CurrHigh) & (\n",
    "                                    dfpl.HiLowRange.shift(periods = 2) < dfpl.HiLowRange) & (\n",
    "                                    # dfpl.close.shift(periods = 2) < dfpl.CurrHigh) & (\n",
    "                                    # dfpl.open.shift(periods = 2) < dfpl.CurrHigh) & (\n",
    "                                    # dfpl.close.shift(periods = 3) < dfpl.CurrHigh) & (\n",
    "                                    # dfpl.close < dfpl.open.shift(periods = 1)) & (\n",
    "            \n",
    "                                    abs(dfpl.high-dfpl.CurrHigh) >= ATR_surpass * dfpl['ATR'])\n",
    "                                    # abs(dfpl.high - dfpl.close) > abs(dfpl.open - dfpl.close))  & (\n",
    "        \n",
    "        false_break_masking_1bar =  (dfpl.open > dfpl.CurrHigh) & (\n",
    "                                    dfpl.close < dfpl.CurrHigh) & (                                    \n",
    "                                    dfpl.close < (dfpl.high.shift(periods = 1) - dfpl.low.shift(periods = 1))/2) & (\n",
    "            \n",
    "                                    dfpl.open.shift(periods = 1) <dfpl.CurrHigh) & (\n",
    "                                    dfpl.close.shift(periods = 1) >dfpl.CurrHigh) & (\n",
    "                                    dfpl.high.shift(periods = 1) == dfpl[f'maxHi{fwdCandle}bar']) & (\n",
    "                                    \n",
    "                                    dfpl.high.shift(periods = 2) < dfpl.CurrHigh) & (\n",
    "                                    # dfpl.close.shift(periods = 2) < dfpl.CurrHigh) & (\n",
    "                                    # dfpl.open.shift(periods = 2) < dfpl.CurrHigh) & (\n",
    "            \n",
    "                                    dfpl.high.shift(periods = 3) < dfpl.CurrHigh) & ( \n",
    "                                    # dfpl.close.shift(periods = 3) < dfpl.CurrHigh) & (\n",
    "                                    # dfpl.open.shift(periods = 3) < dfpl.CurrHigh) \n",
    "                                    # dfpl.close.shift(periods = 4) < dfpl.CurrHigh)\n",
    "                                    abs(dfpl.high.shift(periods = 1)-dfpl.CurrHigh) >= ATR_surpass * dfpl['ATR']) \n",
    "\n",
    "        \n",
    "        if falsebreak_bar == 0:\n",
    "            false_break_masking = false_break_masking_0bar\n",
    "        elif falsebreak_bar == 1:\n",
    "            false_break_masking = false_break_masking_1bar \n",
    "        elif falsebreak_bar == 100:\n",
    "            false_break_masking = false_break_masking_0bar | false_break_masking_1bar\n",
    "        else :\n",
    "            warnings.warn(\"Warning : maximum falsebreak_bar is currrently <= 2 \")\n",
    "            \n",
    "        if div_signal.lower() == 'no':\n",
    "            masking =  false_break_masking\n",
    "        else:\n",
    "            divSignal_masking  = dfpl[div_signal] == 1\n",
    "            masking = divSignal_masking & false_break_masking        \n",
    "               \n",
    "        \n",
    "        #  -------------reuslt----------------------\n",
    "        \n",
    "        result_dfpl = dfpl[masking]        \n",
    "        stat_df = result_dfpl[return_type].describe().T\n",
    "        stat_df['Sharpe ratio'] = stat_df['mean']/stat_df['std']\n",
    "        stat_df['Count x Sharpe'] = stat_df['count']*stat_df['Sharpe ratio']\n",
    "        \n",
    "# ----Buy side-------------------------------------------------------\n",
    "\n",
    "    elif side.lower() == 'buy':\n",
    "           \n",
    "        false_break_masking_0bar =  (dfpl.low < dfpl.CurrLow) & (\n",
    "                                    dfpl.close > dfpl.CurrLow) & (\n",
    "                                    dfpl.low == dfpl[f'maxLo{fwdCandle}bar']) & (\n",
    "                                    # dfpl.LowerWick >dfpl.OpenCloseRange) & ( # adding this condition refine the result but too few trades\n",
    "                                    dfpl.LowerWick > ATR_commpare_range * dfpl['ATR']) & (\n",
    "                                    # abs(dfpl.high - dfpl.low) >= ATR_commpare_range*dfpl['ATR']) & (\n",
    "            \n",
    "                                    # dfpl.close < dfpl.EMA20) & ( \n",
    "                                    # dfpl.open < dfpl.EMA20) & ( \n",
    "                                    # dfpl.close > dfpl.open) & (                                    \n",
    "                                    # abs(dfpl.low - dfpl.close) > abs(dfpl.close - dfpl.open)) & (\n",
    "                                    # dfpl.close > dfpl.open) & (\n",
    "                                    \n",
    "                                    dfpl.low.shift(periods = 1) > dfpl.CurrLow) & (\n",
    "                                    dfpl.HiLowRange.shift(periods = 1) < dfpl.HiLowRange) & (\n",
    "                                    # dfpl.close.shift(periods = 1) > dfpl.CurrLow) & (\n",
    "                                    # dfpl.open.shift(periods = 1) > dfpl.CurrLow) & (\n",
    "            \n",
    "                                    dfpl.low.shift(periods = 2) > dfpl.CurrLow) & (\n",
    "                                    dfpl.HiLowRange.shift(periods = 2) < dfpl.HiLowRange) & (\n",
    "                                    # dfpl.close.shift(periods = 2) > dfpl.CurrLow) & (\n",
    "                                    # dfpl.open.shift(periods = 2) > dfpl.CurrLow) & (\n",
    "                                    # dfpl.close.shift(periods = 3) > dfpl.CurrLow) & (\n",
    "                                    # dfpl.close > dfpl.open.shift(periods = 1)) & (\n",
    "            \n",
    "                                    abs(dfpl.low - dfpl.CurrLow) >= ATR_surpass * dfpl['ATR']) \n",
    "                                    # abs(dfpl.low - dfpl.close) > abs(dfpl.open - dfpl.close))& (\n",
    "                                    \n",
    "                    \n",
    "        false_break_masking_1bar = (dfpl.open < dfpl.CurrLow) & (\n",
    "                                    dfpl.close > dfpl.CurrLow) & (\n",
    "                                    dfpl.close > (dfpl.high.shift(periods = 1) - dfpl.low.shift(periods = 1))/2) & (\n",
    "                                    # dfpl.close > dfpl.open.shift(periods = 1)) & (                      \n",
    "\n",
    "\n",
    "                                    dfpl.open.shift(periods = 1) > dfpl.CurrLow) & (\n",
    "                                    dfpl.close.shift(periods = 1) < dfpl.CurrLow) & (\n",
    "                                    dfpl.low.shift(periods = 1) == dfpl[f'maxLo{fwdCandle}bar']) & (\n",
    "            \n",
    "                                    dfpl.low.shift(periods = 2) > dfpl.CurrLow) & (\n",
    "                                    # dfpl.close.shift(periods = 2) > dfpl.CurrLow) & (\n",
    "                                    # dfpl.open.shift(periods = 2) > dfpl.CurrLow) & (\n",
    "                            \n",
    "                                    dfpl.low.shift(periods = 3) > dfpl.CurrLow) & (\n",
    "                                    # dfpl.close.shift(periods = 3) > dfpl.CurrLow) & (\n",
    "                                    # dfpl.open.shift(periods = 3) > dfpl.CurrLow) & (\n",
    "            \n",
    "                                    # dfpl.close.shift(periods = 4) > dfpl.CurrLow) & (\n",
    "                                    abs(dfpl.low.shift(periods = 1) - dfpl.CurrLow) >= ATR_surpass * dfpl['ATR'])\n",
    "        \n",
    "        if falsebreak_bar == 0:\n",
    "            false_break_masking = false_break_masking_0bar\n",
    "        elif falsebreak_bar == 1:\n",
    "            false_break_masking = false_break_masking_1bar \n",
    "        elif falsebreak_bar == 100:\n",
    "            false_break_masking = false_break_masking_0bar | false_break_masking_1bar\n",
    "        else :\n",
    "            warnings.warn(\"Warning : maximum falsebreak_bar is currrently <= 2 \")  \n",
    "            \n",
    "        if div_signal.lower() == \"no\":\n",
    "            masking =  false_break_masking\n",
    "        else:\n",
    "            divSignal_masking  = dfpl[div_signal] == 2\n",
    "            masking = divSignal_masking & false_break_masking   \n",
    "        \n",
    "        #-------------reuslt----------------------\n",
    "\n",
    "        result_dfpl = dfpl[masking] # result_df of the test         \n",
    "        stat_df = result_dfpl[return_type].describe().T\n",
    "        stat_df['Sharpe ratio'] = stat_df['mean']/stat_df['std']\n",
    "        stat_df['Count x Sharpe'] = stat_df['count']*stat_df['Sharpe ratio'] # stat df of the test\n",
    "        \n",
    "#         -------eliminate consecutive trades------------\n",
    "        \n",
    "    print ( f'result of {side} falsebreak with falsebreak bar = {falsebreak_bar},\\n, ATR_Surpass = {ATR_surpass}, div_signal = {div_signal}, elim_cons_trade = {elim_cons_trade},return_type = {return_type} ')\n",
    "    \n",
    "    if elim_cons_trade:        \n",
    "        elim_result_df, elim_stat_df = elimConsTrades(result_dfpl, elim_return_type = return_type)\n",
    "        return  elim_result_df, elim_stat_df\n",
    "    else:          \n",
    "        return result_dfpl, stat_df\n",
    "        \n",
    "    \n",
    "    "
   ]
  },
  {
   "cell_type": "code",
   "execution_count": null,
   "id": "c83c0ba9-2e91-47be-8d75-1f7282cbec2b",
   "metadata": {},
   "outputs": [],
   "source": [
    "# Ver 3\n",
    "def falsebreak_wDiv_test_ver2(dfpl,side, fwdCandle, div_indi = \"MACD\", falsebreak_bar = 0, \n",
    "                         ATR_surpass = 0, ATR_commpare_range = 0, div_signal = 'divSignal2MACD',\n",
    "                         elim_cons_trade = True, return_type = pip_return_masking):\n",
    "    '''\n",
    "    side: 'buy' or 'sell'\n",
    "    Test false break signal on divergence\n",
    "    \n",
    "    div_indi : indicator used for divergence signal.\n",
    "    \n",
    "    ATR_surpass: distance between high of break bar and currHigh as multipler of ATR\n",
    "    \n",
    "    falsebreak_bar: number of bars after false break considered to be signal\n",
    "    \n",
    "    fwdCandle: num of candles to add to Pivot before considered currHigh/Low\n",
    "    \n",
    "    div_signal: type of divergence signal: divSignalMACD, divSignal2MACD, divSignal3MACD, or 'No' to not use divergence vv..\n",
    "    \n",
    "    elim_cons_trade: eliminate consecutive trades, one trade per time\n",
    "    \n",
    "    return_type = pip_return_masking or log_return_masking\n",
    "    '''\n",
    "    dfpl['CurrLow'] = 0\n",
    "    dfpl['CurrHigh'] = 0\n",
    "    fwdCandle = fwdCandle\n",
    "    for i in dfpl['pivot10bar'].index:\n",
    "        if dfpl['pivot10bar'][i] == 1:\n",
    "            dfpl['CurrLow'][i+fwdCandle:] = dfpl.low[i]\n",
    "        elif dfpl['pivot10bar'][i] == 2:\n",
    "            dfpl['CurrHigh'][i+fwdCandle:] = dfpl.high[i]\n",
    "    dfpl[f'maxHi{fwdCandle}bar'] = dfpl.high.rolling(fwdCandle).max()\n",
    "    dfpl[f'maxLo{fwdCandle}bar'] = dfpl.low.rolling(fwdCandle).min()\n",
    " \n",
    "           \n",
    "    # ----Sell side------------------\n",
    "        \n",
    "    if side.lower() == \"sell\":    \n",
    "        \n",
    "        false_break_masking_0bar =  (dfpl.high > dfpl.CurrHigh) & (\n",
    "                                    dfpl.close < dfpl.CurrHigh) & (\n",
    "                                    dfpl.high == dfpl[f'maxHi{fwdCandle}bar']) & (\n",
    "                                    dfpl.UpperWick > ATR_commpare_range * dfpl['ATR']) & (\n",
    "                                    # dfpl.UpperWick >dfpl.OpenCloseRange) & ( # adding this condition refine the result but too few trades\n",
    "                                    # abs(dfpl.high - dfpl.low) >= ATR_commpare_range*dfpl['ATR']) & (\n",
    "                                    # dfpl.close > dfpl.EMA20) & (\n",
    "                                    # dfpl.open > dfpl.EMA20) & (\n",
    "                                    # dfpl.close < dfpl.open) & (\n",
    "                                    # abs(dfpl.high - dfpl.close) > abs(dfpl.close - dfpl.open)) & (\n",
    "\n",
    "                                    \n",
    "                                    dfpl.high.shift(periods = 1) < dfpl.CurrHigh) & (\n",
    "                                    dfpl.HiLowRange.shift(periods = 1) < dfpl.HiLowRange) & (\n",
    "                                    # dfpl.close.shift(periods = 1) < dfpl.CurrHigh) & (\n",
    "                                    # dfpl.open.shift(periods = 1) < dfpl.CurrHigh) & (\n",
    "            \n",
    "                                    dfpl.high.shift(periods = 2) < dfpl.CurrHigh) & (\n",
    "                                    dfpl.HiLowRange.shift(periods = 2) < dfpl.HiLowRange) & (\n",
    "                                    # dfpl.close.shift(periods = 2) < dfpl.CurrHigh) & (\n",
    "                                    # dfpl.open.shift(periods = 2) < dfpl.CurrHigh) & (\n",
    "                                    # dfpl.close.shift(periods = 3) < dfpl.CurrHigh) & (\n",
    "                                    # dfpl.close < dfpl.open.shift(periods = 1)) & (\n",
    "            \n",
    "                                    abs(dfpl.high-dfpl.CurrHigh) >= ATR_surpass * dfpl['ATR'])\n",
    "                                    # abs(dfpl.high - dfpl.close) > abs(dfpl.open - dfpl.close))  & (\n",
    "        \n",
    "        false_break_masking_1bar =  (dfpl.open > dfpl.CurrHigh) & (\n",
    "                                    dfpl.close < dfpl.CurrHigh) & (                                    \n",
    "                                    dfpl.close < (dfpl.high.shift(periods = 1) - dfpl.low.shift(periods = 1))/2) & (\n",
    "            \n",
    "                                    dfpl.open.shift(periods = 1) <dfpl.CurrHigh) & (\n",
    "                                    dfpl.close.shift(periods = 1) >dfpl.CurrHigh) & (\n",
    "                                    dfpl.high.shift(periods = 1) == dfpl[f'maxHi{fwdCandle}bar']) & (\n",
    "                                    \n",
    "                                    dfpl.high.shift(periods = 2) < dfpl.CurrHigh) & (\n",
    "                                    # dfpl.close.shift(periods = 2) < dfpl.CurrHigh) & (\n",
    "                                    # dfpl.open.shift(periods = 2) < dfpl.CurrHigh) & (\n",
    "            \n",
    "                                    dfpl.high.shift(periods = 3) < dfpl.CurrHigh) & ( \n",
    "                                    # dfpl.close.shift(periods = 3) < dfpl.CurrHigh) & (\n",
    "                                    # dfpl.open.shift(periods = 3) < dfpl.CurrHigh) \n",
    "                                    # dfpl.close.shift(periods = 4) < dfpl.CurrHigh)\n",
    "                                    abs(dfpl.high.shift(periods = 1)-dfpl.CurrHigh) >= ATR_surpass * dfpl['ATR']) \n",
    "\n",
    "        \n",
    "        if falsebreak_bar == 0:\n",
    "            false_break_masking = false_break_masking_0bar\n",
    "        elif falsebreak_bar == 1:\n",
    "            false_break_masking = false_break_masking_1bar \n",
    "        elif falsebreak_bar == 100:\n",
    "            false_break_masking = false_break_masking_0bar | false_break_masking_1bar\n",
    "        else :\n",
    "            warnings.warn(\"Warning : maximum falsebreak_bar is currrently <= 2 \")\n",
    "            \n",
    "        if div_signal.lower() == 'no':\n",
    "            masking =  false_break_masking\n",
    "        else:\n",
    "            divSignal_masking  = dfpl[div_signal] == 1\n",
    "            masking = divSignal_masking & false_break_masking        \n",
    "               \n",
    "        \n",
    "        #  -------------reuslt----------------------\n",
    "        \n",
    "        result_dfpl = dfpl[masking]        \n",
    "        stat_df = result_dfpl[return_type].describe().T\n",
    "        stat_df['Sharpe ratio'] = stat_df['mean']/stat_df['std']\n",
    "        stat_df['Count x Sharpe'] = stat_df['count']*stat_df['Sharpe ratio']\n",
    "        \n",
    "# ----Buy side-------------------------------------------------------\n",
    "\n",
    "    elif side.lower() == 'buy':\n",
    "           \n",
    "        false_break_masking_0bar =  (dfpl.low < dfpl.CurrLow) & (\n",
    "                                    dfpl.close > dfpl.CurrLow) & (\n",
    "                                    dfpl.low == dfpl[f'maxLo{fwdCandle}bar']) & (\n",
    "                                    # dfpl.LowerWick >dfpl.OpenCloseRange) & ( # adding this condition refine the result but too few trades\n",
    "                                    dfpl.LowerWick > ATR_commpare_range * dfpl['ATR']) & (\n",
    "                                    # abs(dfpl.high - dfpl.low) >= ATR_commpare_range*dfpl['ATR']) & (\n",
    "            \n",
    "                                    # dfpl.close < dfpl.EMA20) & ( \n",
    "                                    # dfpl.open < dfpl.EMA20) & ( \n",
    "                                    # dfpl.close > dfpl.open) & (                                    \n",
    "                                    # abs(dfpl.low - dfpl.close) > abs(dfpl.close - dfpl.open)) & (\n",
    "                                    # dfpl.close > dfpl.open) & (\n",
    "                                    \n",
    "                                    dfpl.low.shift(periods = 1) > dfpl.CurrLow) & (\n",
    "                                    dfpl.HiLowRange.shift(periods = 1) < dfpl.HiLowRange) & (\n",
    "                                    # dfpl.close.shift(periods = 1) > dfpl.CurrLow) & (\n",
    "                                    # dfpl.open.shift(periods = 1) > dfpl.CurrLow) & (\n",
    "            \n",
    "                                    dfpl.low.shift(periods = 2) > dfpl.CurrLow) & (\n",
    "                                    dfpl.HiLowRange.shift(periods = 2) < dfpl.HiLowRange) & (\n",
    "                                    # dfpl.close.shift(periods = 2) > dfpl.CurrLow) & (\n",
    "                                    # dfpl.open.shift(periods = 2) > dfpl.CurrLow) & (\n",
    "                                    # dfpl.close.shift(periods = 3) > dfpl.CurrLow) & (\n",
    "                                    # dfpl.close > dfpl.open.shift(periods = 1)) & (\n",
    "            \n",
    "                                    abs(dfpl.low - dfpl.CurrLow) >= ATR_surpass * dfpl['ATR']) \n",
    "                                    # abs(dfpl.low - dfpl.close) > abs(dfpl.open - dfpl.close))& (\n",
    "                                    \n",
    "                    \n",
    "        false_break_masking_1bar = (dfpl.open < dfpl.CurrLow) & (\n",
    "                                    dfpl.close > dfpl.CurrLow) & (\n",
    "                                    dfpl.close > (dfpl.high.shift(periods = 1) - dfpl.low.shift(periods = 1))/2) & (\n",
    "                                    # dfpl.close > dfpl.open.shift(periods = 1)) & (                      \n",
    "\n",
    "\n",
    "                                    dfpl.open.shift(periods = 1) > dfpl.CurrLow) & (\n",
    "                                    dfpl.close.shift(periods = 1) < dfpl.CurrLow) & (\n",
    "                                    dfpl.low.shift(periods = 1) == dfpl[f'maxLo{fwdCandle}bar']) & (\n",
    "            \n",
    "                                    dfpl.low.shift(periods = 2) > dfpl.CurrLow) & (\n",
    "                                    # dfpl.close.shift(periods = 2) > dfpl.CurrLow) & (\n",
    "                                    # dfpl.open.shift(periods = 2) > dfpl.CurrLow) & (\n",
    "                            \n",
    "                                    dfpl.low.shift(periods = 3) > dfpl.CurrLow) & (\n",
    "                                    # dfpl.close.shift(periods = 3) > dfpl.CurrLow) & (\n",
    "                                    # dfpl.open.shift(periods = 3) > dfpl.CurrLow) & (\n",
    "            \n",
    "                                    # dfpl.close.shift(periods = 4) > dfpl.CurrLow) & (\n",
    "                                    abs(dfpl.low.shift(periods = 1) - dfpl.CurrLow) >= ATR_surpass * dfpl['ATR'])\n",
    "        \n",
    "        if falsebreak_bar == 0:\n",
    "            false_break_masking = false_break_masking_0bar\n",
    "        elif falsebreak_bar == 1:\n",
    "            false_break_masking = false_break_masking_1bar \n",
    "        elif falsebreak_bar == 100:\n",
    "            false_break_masking = false_break_masking_0bar | false_break_masking_1bar\n",
    "        else :\n",
    "            warnings.warn(\"Warning : maximum falsebreak_bar is currrently <= 2 \")  \n",
    "            \n",
    "        if div_signal.lower() == \"no\":\n",
    "            masking =  false_break_masking\n",
    "        else:\n",
    "            divSignal_masking  = dfpl[div_signal] == 2\n",
    "            masking = divSignal_masking & false_break_masking   \n",
    "        \n",
    "        #-------------reuslt----------------------\n",
    "\n",
    "        result_dfpl = dfpl[masking] # result_df of the test         \n",
    "        stat_df = result_dfpl[return_type].describe().T\n",
    "        stat_df['Sharpe ratio'] = stat_df['mean']/stat_df['std']\n",
    "        stat_df['Count x Sharpe'] = stat_df['count']*stat_df['Sharpe ratio'] # stat df of the test\n",
    "        \n",
    "#         -------eliminate consecutive trades------------\n",
    "        \n",
    "    print ( f'result of {side} falsebreak with falsebreak bar = {falsebreak_bar},\\n, ATR_Surpass = {ATR_surpass}, div_signal = {div_signal}, elim_cons_trade = {elim_cons_trade},return_type = {return_type} ')\n",
    "    \n",
    "    if elim_cons_trade:        \n",
    "        elim_result_df, elim_stat_df = elimConsTrades(result_dfpl, elim_return_type = return_type)\n",
    "        return  elim_result_df, elim_stat_df\n",
    "    else:          \n",
    "        return result_dfpl, stat_df"
   ]
  },
  {
   "cell_type": "markdown",
   "id": "3233117f-65a4-4aaa-b824-6488655f9bd5",
   "metadata": {},
   "source": [
    "## Plot Fuctions"
   ]
  },
  {
   "cell_type": "markdown",
   "id": "22850865",
   "metadata": {
    "tags": []
   },
   "source": [
    "#### Plot function: ===> Plot_csPipReturn()"
   ]
  },
  {
   "cell_type": "code",
   "execution_count": null,
   "id": "d4a14804",
   "metadata": {
    "tags": []
   },
   "outputs": [],
   "source": [
    "def Plot_csPipReturn(df, side, spread, return_bar, figsize = (10,6)):\n",
    "    '''\n",
    "    df: resulf_dataframe which already have signal\n",
    "    return_bar:  return after signal xx bar. Value = 1,3,10,20 or \"All\"\n",
    "    side: 'buy' or 'sell'\n",
    "    spread: spread to deduced from return, noting spread is set according to pip_return x multiplier (trading_test class)\n",
    "    '''\n",
    "    vnames = [name for name in globals() if globals()[name] is df]\n",
    "    fig, ax = plt.subplots(figsize = figsize)\n",
    "    if side == 'sell':\n",
    "        if return_bar == \"All\":\n",
    "            for rtBar in (1,3,5,10,15,20):\n",
    "                df[f'PipReturn_{rtBar}bar_cumsum'] = (df[f'PipReturn_{rtBar}bar'] + spread).cumsum()\n",
    "                ax.plot(df.index, -df[f'PipReturn_{rtBar}bar_cumsum'], label = f' return {rtBar} bar')\n",
    "        else:    \n",
    "            df[f'PipReturn_{return_bar}bar_cumsum'] = (df[f'PipReturn_{return_bar}bar'] + spread).cumsum()\n",
    "            ax.plot(df.index, -df[f'PipReturn_{return_bar}bar_cumsum'])\n",
    "        \n",
    "    elif side == 'buy' or side == 'All':\n",
    "        if return_bar == \"All\":\n",
    "            for rtBar in (1,3,5,10,15,20):\n",
    "                df[f'PipReturn_{rtBar}bar_cumsum'] = (df[f'PipReturn_{rtBar}bar'] - spread).cumsum()\n",
    "                ax.plot(df.index, df[f'PipReturn_{rtBar}bar_cumsum'],label = f' return {rtBar} bar')\n",
    "        else:\n",
    "            df[f'PipReturn_{return_bar}bar_cumsum'] = (df[f'PipReturn_{return_bar}bar'] - spread).cumsum()\n",
    "            ax.plot(df.index, df[f'PipReturn_{return_bar}bar_cumsum'])\n",
    "    \n",
    "    if side == \"All\":\n",
    "        ax.set_title(label = f' {vnames} Culmulative pip return after {return_bar} bars for both side, spread = {spread}, trades = {len(df)}', loc = 'center')\n",
    "    else:\n",
    "        ax.set_title(label = f' {vnames} Culmulative pip return after {return_bar} bars for {side} side, spread = {spread}, trades = {len(df)}', loc = 'center')\n",
    "    ax.set_xlabel(\"Trades\")\n",
    "    ax.set_ylabel('Culmulative return')\n",
    "#     patch1 = mpatches.Patch(color=\"blue\", label=\" Return 1 bar\")\n",
    "#     patch2 = mpatches.Patch(color=\"green\", label=\"Return 3 bar\")\n",
    "#     patch3 = mpatches.Patch(color=\"red\", label=\"Return 10 bar\")\n",
    "#     patch4 = mpatches.Patch(color=\"orange\", label=\"Return 20 bar\")\n",
    "\n",
    "    plt.legend()\n",
    "    plt.show()\n",
    "        \n",
    "        \n"
   ]
  },
  {
   "cell_type": "markdown",
   "id": "e238a6c6-3116-4ebd-80cb-076119f433fd",
   "metadata": {},
   "source": [
    "## Report Function"
   ]
  },
  {
   "cell_type": "markdown",
   "id": "197790dd",
   "metadata": {
    "tags": []
   },
   "source": [
    "#### GetStatAll() ==> Get stats for both buy and sell side of a result_df"
   ]
  },
  {
   "cell_type": "code",
   "execution_count": null,
   "id": "0ef89ed7",
   "metadata": {},
   "outputs": [],
   "source": [
    "def GetStatAll(resultAll_df):\n",
    "    statAll_df = resultAll_df[pip_return_masking].describe().T\n",
    "    statAll_df['Sharpe ratio'] = statAll_df['mean']/ statAll_df['std']\n",
    "    statAll_df['Count x Sharpe'] = statAll_df['Sharpe ratio'] * statAll_df['count']\n",
    "    return statAll_df"
   ]
  },
  {
   "cell_type": "markdown",
   "id": "8cf12ff0-8f3f-4900-bed1-6de329267047",
   "metadata": {
    "tags": []
   },
   "source": [
    "#### GetResultAll() ==> Get result_df for both side of trade"
   ]
  },
  {
   "cell_type": "code",
   "execution_count": null,
   "id": "765b9610-9d9e-4b7b-9b13-21581a0d2ffe",
   "metadata": {
    "tags": []
   },
   "outputs": [],
   "source": [
    "def GetResultAll(resultSell_df, resultBuy_df):\n",
    "    resultSell_df_copy = resultSell_df.copy()\n",
    "    resultSell_df_copy[pip_return_masking]  = resultSell_df_copy[pip_return_masking]*-1\n",
    "    resultAll_df = pd.concat([resultBuy_df, resultSell_df_copy])\n",
    "    try:\n",
    "        resultAll_df = resultAll_df.sort_values(by = \"gmt time\")\n",
    "    except :\n",
    "        try:\n",
    "            resultAll_df = resultAll_df.sort_values(by = \"local time\")\n",
    "        except:\n",
    "            resultAll_df = resultAll_df.sort_values(by = \"time\")\n",
    "    resultAll_df = resultAll_df.reset_index(drop = True)\n",
    "    \n",
    "    return resultAll_df"
   ]
  },
  {
   "cell_type": "code",
   "execution_count": null,
   "id": "e629f304-1123-42d3-a327-e9572fbbb3f1",
   "metadata": {},
   "outputs": [],
   "source": []
  },
  {
   "cell_type": "markdown",
   "id": "af7f5feb",
   "metadata": {
    "tags": []
   },
   "source": [
    "# Class TradingTest"
   ]
  },
  {
   "cell_type": "markdown",
   "id": "838443e4",
   "metadata": {
    "tags": []
   },
   "source": [
    "### Main class"
   ]
  },
  {
   "cell_type": "code",
   "execution_count": null,
   "id": "5ba4e15b",
   "metadata": {
    "tags": []
   },
   "outputs": [],
   "source": [
    "class TradingTest:\n",
    "        \n",
    "    def __init__(self, df, pipRetMulti, MACD = True, fastMACD = 3,\n",
    "                 slowMACD = 10,signalMACD = 16, RSI = True, lengthRSI = 30, lengthATR = 20):\n",
    "        '''\n",
    "        pipRetMulti: Multiplier of pip return to get pip value. 10 for XAUUSD:\n",
    "                        100 for JPY-based pairs,\n",
    "                        10.000 for USD,GBP,EUR,AUD,NZD,CHF based pairs\n",
    "                        0.1 for BTC-USD\n",
    "        '''\n",
    "        self.df = df.copy()\n",
    "        self.df.columns = list(map(str.lower,list(self.df.columns)))\n",
    "        self.pipRetMulti = pipRetMulti\n",
    "        self.compare_range = 0\n",
    "        \n",
    "        self.df['LogReturn_1bar'] = np.log(self.df['close'].shift(periods = -1 )/self.df['close'])\n",
    "        self.df['LogReturn_3bar'] = np.log(self.df['close'].shift(periods = -3 )/self.df['close'])\n",
    "        self.df['LogReturn_10bar'] = np.log(self.df['close'].shift(periods = -10 )/self.df['close'])\n",
    "        self.df['LogReturn_20bar'] = np.log(self.df['close'].shift(periods = -20)/self.df['close'])\n",
    "        self.log_return_masking = ['LogReturn_1bar','LogReturn_3bar','LogReturn_10bar','LogReturn_20bar']\n",
    "        \n",
    "        self.df['PipReturn_1bar'] = (self.df['close'].shift(periods = -1 ) - self.df['close']) * self.pipRetMulti\n",
    "        self.df['PipReturn_3bar'] = (self.df['close'].shift(periods = -3 ) - self.df['close']) * self.pipRetMulti\n",
    "        self.df['PipReturn_5bar'] = (self.df['close'].shift(periods = -5 ) - self.df['close']) * self.pipRetMulti\n",
    "        self.df['PipReturn_10bar'] = (self.df['close'].shift(periods = -10 ) - self.df['close']) * self.pipRetMulti\n",
    "        self.df['PipReturn_15bar'] = (self.df['close'].shift(periods = -15 ) - self.df['close']) * self.pipRetMulti\n",
    "        self.df['PipReturn_20bar'] = (self.df['close'].shift(periods = -20 ) - self.df['close']) * self.pipRetMulti\n",
    "        self.pip_return_masking = [['LogReturn_1bar','LogReturn_3bar','LogReturn_5bar','LogReturn_10bar',\n",
    "                                    'LogReturn_15bar','LogReturn_20bar']]\n",
    "        \n",
    "        self.df['EMA20'] =  self.df.ta.ema(length = 20)\n",
    "        self.df['HiLowRange'] =  abs(self.df.high - self.df.low)\n",
    "        self.df['OpenCloseRange'] =  abs(self.df.open - self.df.close)\n",
    "        self.df['UpperWick'] = self.df.high - self.df.close\n",
    "        self.df['LowerWick'] = self.df.close - self.df.low\n",
    "\n",
    "        if MACD:\n",
    "            self.df['MACD'] = self.df.ta.sma(length = fastMACD) - self.df.ta.sma(length = slowMACD)\n",
    "        if RSI:\n",
    "            self.df['RSI'] = df.ta.rsi(length=lengthRSI)\n",
    "        self.df['ATR'] = self.df.ta.atr(length = lengthATR)\n",
    "\n",
    "#   ---------------------------------------------------------------------------------------------------------\n",
    "            \n",
    "    def graph_Sample(self, startID, endID, MACD = True, RSI = False, \n",
    "                     slider = False, legend = False, width = 1100, height = 600,\n",
    "                     pp= True, RSIpp = False, MACDpp = True,\n",
    "                     CurrHigh = True, CurrLow = True):\n",
    "        \n",
    "        dfpl = self.df.iloc[startID:endID]\n",
    "        \n",
    "        fig = make_subplots(rows=3, cols=1, subplot_titles=(\"Price\", \"MACD\", \"RSI\"),\n",
    "                            row_heights = [0.6 ,0.2, 0.2],\n",
    "                            vertical_spacing= 0.02,\n",
    "                            shared_xaxes = True)\n",
    "        fig.append_trace(go.Candlestick(x=dfpl.index,\n",
    "                                        open=dfpl['open'],\n",
    "                                        high=dfpl['high'],\n",
    "                                        low=dfpl['low'], \n",
    "                                        close=dfpl['close']), row=1, col=1)\n",
    "        \n",
    "        fig.add_scatter(x=dfpl.index, y=dfpl['pointpos'],mode=\"markers\",\n",
    "                        marker=dict(size=5, color=\"MediumPurple\"),name=\"pivot\", row=1, col=1)\n",
    "        \n",
    "        if CurrHigh:\n",
    "            fig.add_scatter(x=dfpl.index, y=dfpl['CurrHigh'],mode=\"markers\",\n",
    "                            marker=dict(size=3, color=\"MediumPurple\"),\n",
    "                            name=\"CurrPivotHigh\", row=1, col=1)\n",
    "        if CurrLow:\n",
    "            fig.add_scatter(x=dfpl.index, y=dfpl['CurrLow'],mode=\"markers\",\n",
    "                            marker=dict(size=3, color=\"mediumvioletred\"),name=\"CurrPivotLow\", row=1, col=1)\n",
    "        if MACD:\n",
    "            fig.append_trace(go.Scatter(x=dfpl.index,y=dfpl['MACD']),row=2, col=1)\n",
    "            fig.add_scatter(x=dfpl.index, y=dfpl['MACDpointpos'],mode=\"markers\",\n",
    "                            marker=dict(size=4, color=\"MediumPurple\"),name=\"pivot\", row=2, col=1)\n",
    "        if RSI:\n",
    "            fig.append_trace(go.Scatter(x=dfpl.index,y=dfpl['RSI']),row=3, col=1)\n",
    "            fig.add_scatter(x=dfpl.index, y=dfpl['RSIpointpos'], mode=\"markers\",marker=dict(size=4, color=\"MediumPurple\"),\n",
    "                                name=\"pivot\", row=3, col=1)\n",
    "          \n",
    "        fig.update_layout(xaxis_rangeslider_visible = slider, showlegend = legend, height = height, width = width, margin=dict(l=20,r=20,b=20,t=20,pad=2))\n",
    "        return fig    \n",
    "    \n",
    "#   ---------------------------------------------------------------------------------------------------------\n",
    "\n",
    "    def gen_pivot(self, startRange, endRange , MACD = True, RSI = False, pp= True, RSIpp = False, MACDpp = True):\n",
    "        '''\n",
    "        rangeStart: number of previous bars to compare\n",
    "        rangeEnd: number of subseqence bars to compare\n",
    "        \n",
    "        return a dataframe with pivot point of price, macd, rsi columns\n",
    "        \n",
    "        '''\n",
    "        self.compare_range = startRange\n",
    "        \n",
    "        self.df['pivot'] = self.df.apply(lambda x: pivotid(self.df, x.name, startRange, endRange), axis=1)\n",
    "        if MACD: \n",
    "            self.df['MACDpivot'] = self.df.apply(lambda x: MACDpivotid(self.df, x.name, startRange, endRange), axis=1)\n",
    "        if RSI:\n",
    "            self.df['RSIpivot'] = self.df.apply(lambda x: RSIpivotid(self.df, x.name, startRange, endRange), axis=1)\n",
    "            \n",
    "        if pp:\n",
    "            self.df['pointpos'] =  self.df.apply(lambda row: pointpos(row), axis=1)\n",
    "        if RSIpp:\n",
    "            self.df['RSIpointpos'] =  self.df.apply(lambda row: RSIpointpos(row), axis=1)\n",
    "        if MACDpp:\n",
    "            self.df['MACDpointpos'] =  self.df.apply(lambda row: MACDpointpos(row), axis=1)\n",
    "\n",
    "        print (f'pivot point generated with comparative range of( {startRange}, {endRange} ) candle')\n",
    "    \n",
    "#   ---------------------------------------------------------------------------------------------------------\n",
    "\n",
    "    def gen_LrSlope(self,nbackcandles):\n",
    "        self.df[f'LrSlope_{nbackcandles}bar'] = self.df.apply(lambda row: slopeGenerate(self.df, row, nbackcandles), axis=1)\n",
    "        \n",
    "        \n",
    "#   ---------------------------------------------------------------------------------------------------------\n",
    "\n",
    "\n",
    "    def gen_divSignal1(self, nbackcandles, MACD = True, RSI = False):\n",
    "        if MACD:\n",
    "            self.df['divSignalMACD'] = self.df.apply(lambda row: divsignalMACD(self.df,row, nbackcandles), axis=1)\n",
    "        if RSI:\n",
    "            self.df['divSignalRSI'] = self.df.apply(lambda row: divsignalRSI(self.df, row, nbackcandles), axis=1)\n",
    "        return self.df\n",
    "    \n",
    "#   ---------------------------------------------------------------------------------------------------------\n",
    "\n",
    "    \n",
    "    def gen_divSignal2(self, nbackcandles, startRange = 10, MACD = True, RSI = False):\n",
    "        # self.gen_pivot(startRange = startRange, endRange = startRange, MACD = MACD, MACDpp = MACD, RSI = RSI,RSIpp = RSI)        \n",
    "        startRange = self.compare_range\n",
    "        \n",
    "        if MACD:\n",
    "            self.df['divSignal2MACD'] = self.df.apply(lambda row: divsignal2MACD(self.df,row,nbackcandles,startRange), axis=1)\n",
    "        if RSI:\n",
    "            self.df['divSignal2RSI'] = self.df.apply(lambda row: divsignal2RSI(self.df,row,nbackcandles,startRange), axis=1)\n",
    "        print(f'divergence signal 2 generated with comparative range of( {startRange}, {startRange} ) candle') \n",
    "\n",
    "#   ---------------------------------------------------------------------------------------------------------\n",
    "    \n",
    "    def gen_divSignal3(self, nbackcandles, startRange = 10, thresholdRSI_up = 0,thresholdRSI_down = 100):\n",
    "        \n",
    "        startRange = self.compare_range        \n",
    "        self.df['divSignal3MACD'] = self.df.apply(lambda row: divsignal3MACD(self.df, row, nbackcandles, startRange, thresholdRSI_up,thresholdRSI_down), axis=1)\n",
    "        \n",
    "        print(f'divergence signal 3 generated with comparative range of( {startRange}, {startRange} ) candle') \n",
    "    \n",
    "#   ---------------------------------------------------------------------------------------------------------\n",
    "\n",
    "      \n",
    "    \n",
    "#   ---------------------------------------------------------------------------------------------------------\n",
    "\n",
    "    def test_falseBreakSig2MACD(self,falsebreak_bar= 0,\n",
    "                                ATR_surpass = 0,\n",
    "                                ATR_commpare_range = 0,\n",
    "                                fwdCandle = 0,\n",
    "                                elim_cons_trade = True,\n",
    "                                div_signal = 'divSignal2MACD'):\n",
    "        \n",
    "        fwdCandle = self.compare_range\n",
    "        self.result_Sell, self.stats_Sell = falsebreak_wDiv_test(self.df, side = 'sell',\n",
    "                                                                falsebreak_bar = falsebreak_bar,\n",
    "                                                                ATR_surpass = ATR_surpass,\n",
    "                                                                ATR_commpare_range = ATR_commpare_range,\n",
    "                                                                fwdCandle = fwdCandle,\n",
    "                                                                elim_cons_trade = elim_cons_trade,\n",
    "                                                                div_signal = div_signal\n",
    "                                                                )\n",
    "        self.result_Buy, self.stats_Buy = falsebreak_wDiv_test(self.df,side = 'buy',\n",
    "                                                                falsebreak_bar = falsebreak_bar,\n",
    "                                                                ATR_surpass = ATR_surpass,\n",
    "                                                                ATR_commpare_range = ATR_commpare_range,\n",
    "                                                                fwdCandle = fwdCandle,\n",
    "                                                                elim_cons_trade = elim_cons_trade,\n",
    "                                                                div_signal = div_signal\n",
    "                                                                )      \n",
    "        self.result_All = GetResultAll(self.result_Sell,self.result_Buy)\n",
    "        self.stats_All = GetStatAll(self.result_All)\n",
    "        \n",
    "        print('Sell stats')\n",
    "        display(self.stats_Sell)\n",
    "        \n",
    "        print('Buy Stats')\n",
    "        display(self.stats_Buy)\n",
    "        \n",
    "        print('All Stats')\n",
    "        display(self.stats_All)\n",
    "        \n",
    "        display(self.plot_PipReturn())\n",
    "#   ---------------------------------------------------------------------------------------------------------\n",
    " \n",
    "    def plot_PipReturn(self, side = \"All\", spread = 2, return_bar = 'All'):\n",
    "        '''\n",
    "        side : 'All' or 'sell' or 'buy'\n",
    "        spread : int \n",
    "        return_bar : int or 'All'\n",
    "        \n",
    "        '''\n",
    "        if side == 'All':\n",
    "            Plot_csPipReturn(self.result_All, side = side, spread = spread, return_bar = return_bar, figsize=(10, 6))\n",
    "        elif side == 'sell':\n",
    "            Plot_csPipReturn(self.result_Sell, side = side, spread = spread, return_bar = return_bar, figsize=(10, 6))\n",
    "        elif side == 'buy':\n",
    "            Plot_csPipReturn(self.result_Buy, side = side, spread = spread, return_bar = return_bar, figsize=(10, 6))\n",
    "        \n",
    "\n"
   ]
  },
  {
   "cell_type": "markdown",
   "id": "f88cbe27",
   "metadata": {
    "tags": []
   },
   "source": [
    "# Load data and Test"
   ]
  },
  {
   "cell_type": "code",
   "execution_count": 1,
   "id": "5455d99e-4edc-47c1-b718-4d91e26f9a03",
   "metadata": {
    "tags": []
   },
   "outputs": [
    {
     "data": {
      "text/plain": [
       "'C:\\\\Users\\\\AMD G6\\\\Trading-test'"
      ]
     },
     "execution_count": 1,
     "metadata": {},
     "output_type": "execute_result"
    }
   ],
   "source": [
    "%pwd"
   ]
  },
  {
   "cell_type": "code",
   "execution_count": 2,
   "id": "ddfc0960-8bc2-4103-93c9-648ab497a7f1",
   "metadata": {
    "tags": []
   },
   "outputs": [
    {
     "name": "stdout",
     "output_type": "stream",
     "text": [
      "Stored variables and their in-db values:\n"
     ]
    }
   ],
   "source": [
    "%store"
   ]
  },
  {
   "cell_type": "code",
   "execution_count": null,
   "id": "f24cefed-d611-437f-8c86-3e03c6a9af9a",
   "metadata": {},
   "outputs": [],
   "source": [
    "%store -r EURAUD_15M_0822_0223_TDVIEW"
   ]
  },
  {
   "cell_type": "code",
   "execution_count": null,
   "id": "ad4a1067-5d4c-4a19-9fa1-c0481197d716",
   "metadata": {},
   "outputs": [],
   "source": [
    "EURAUD_15M_0822_0223_TDVIEW_test = EURAUD_15M_0822_0223_TDVIEW[0]"
   ]
  },
  {
   "cell_type": "code",
   "execution_count": null,
   "id": "a73b7204-38f9-43c7-b263-5331fc71a422",
   "metadata": {},
   "outputs": [],
   "source": [
    "EURAUD_15M_0822_0223_TDVIEW_test.test_falseBreakSig2MACD(ATR_surpass=0.3,ATR_commpare_range = 0.3)"
   ]
  },
  {
   "cell_type": "code",
   "execution_count": null,
   "id": "c4e00ce3-617c-4046-b349-0cba544ee835",
   "metadata": {},
   "outputs": [],
   "source": [
    "%store -r EURAUD15M_0722_1222_Dukas               "
   ]
  },
  {
   "cell_type": "code",
   "execution_count": null,
   "id": "8102e749-683f-4ec8-ab05-e14c0b7b34eb",
   "metadata": {},
   "outputs": [],
   "source": [
    "EURAUD15M_0722_1222_Dukas_test = EURAUD15M_0722_1222_Dukas[0]"
   ]
  },
  {
   "cell_type": "code",
   "execution_count": null,
   "id": "f5bce0e5-e427-4902-adcd-ff42c491f3da",
   "metadata": {
    "tags": []
   },
   "outputs": [],
   "source": [
    "ATR_surpass = 0.8\n",
    "selldf, statselldf = falsebreak_wDiv_test(EURAUD15M_0722_1222_Dukas_test.df,side = 'sEll',fwdCandle=10, ATR_surpass= ATR_surpass, elim_cons_trade=True, div_signal='NO')\n",
    "buydf, statbuydf = falsebreak_wDiv_test(EURAUD15M_0722_1222_Dukas_test.df,side = 'bUy',fwdCandle=10, ATR_surpass= ATR_surpass, elim_cons_trade=True, div_signal='NO')\n",
    "allsresulfdf = GetResultAll(selldf,buydf)\n",
    "statall = GetStatAll(allsresulfdf)\n",
    "display(statall)\n",
    "Plot_csPipReturn(allsresulfdf,side = 'All',spread = 2,return_bar='All')"
   ]
  },
  {
   "cell_type": "code",
   "execution_count": null,
   "id": "eb7bf34a-b8e0-4913-9a7e-ea6f1116ad46",
   "metadata": {},
   "outputs": [],
   "source": [
    "%store -r EURAUD15M_0122_0622_list                "
   ]
  },
  {
   "cell_type": "code",
   "execution_count": null,
   "id": "bd76277a-1acf-4935-be70-53dd336e908d",
   "metadata": {},
   "outputs": [],
   "source": [
    "EURAUD15M_0122_0622_test = EURAUD15M_0122_0622_list[1]"
   ]
  },
  {
   "cell_type": "code",
   "execution_count": null,
   "id": "791c0167-8346-4272-83d7-dbe4939d9dd5",
   "metadata": {},
   "outputs": [],
   "source": [
    "ATR_surpass = 0.8\n",
    "selldf, statselldf = falsebreak_wDiv_test(EURAUD15M_0122_0622_test.df,side = 'sEll',fwdCandle=10, ATR_surpass= ATR_surpass, elim_cons_trade=True, div_signal='NO')\n",
    "buydf, statbuydf = falsebreak_wDiv_test(EURAUD15M_0122_0622_test.df,side = 'bUy',fwdCandle=10, ATR_surpass= ATR_surpass, elim_cons_trade=True, div_signal='NO')\n",
    "allsresulfdf = GetResultAll(selldf,buydf)\n",
    "statall = GetStatAll(allsresulfdf)\n",
    "display(statall)\n",
    "Plot_csPipReturn(allsresulfdf,side = 'All',spread = 2,return_bar='All')"
   ]
  },
  {
   "cell_type": "code",
   "execution_count": null,
   "id": "edb3af3e-0f73-4241-86e7-f8dc61656682",
   "metadata": {},
   "outputs": [],
   "source": [
    "%store -r saved_list                              "
   ]
  },
  {
   "cell_type": "code",
   "execution_count": null,
   "id": "de87d3c6-c3e9-4530-aef5-d7a67971d9de",
   "metadata": {},
   "outputs": [],
   "source": [
    "saved_list"
   ]
  },
  {
   "cell_type": "markdown",
   "id": "606b4346-3169-4cbb-8449-030a42879b16",
   "metadata": {
    "toc-hr-collapsed": true
   },
   "source": [
    "## VN30F1M"
   ]
  },
  {
   "cell_type": "code",
   "execution_count": null,
   "id": "40733d5a-7cb9-4618-9450-60f895a7d511",
   "metadata": {},
   "outputs": [],
   "source": [
    "VM30F1_15M_2023 = pd.read_csv(\"D:Data/Stock/VN/Future/TDView_HNX_DLY_VN301!, 15, 20_23.csv\")"
   ]
  },
  {
   "cell_type": "code",
   "execution_count": null,
   "id": "0c576070-00b1-4a41-81a3-4c877a36c73f",
   "metadata": {},
   "outputs": [],
   "source": [
    "VM30F1_15M_2023_test = TradingTest(VM30F1_15M_2023,pipRetMulti=1)"
   ]
  },
  {
   "cell_type": "code",
   "execution_count": null,
   "id": "3cba89ef",
   "metadata": {},
   "outputs": [],
   "source": [
    "VM30F1_15M_2023_test"
   ]
  },
  {
   "cell_type": "code",
   "execution_count": null,
   "id": "c1706b91-2da6-4b20-8a2c-a90b6560d950",
   "metadata": {},
   "outputs": [],
   "source": [
    "compare_range = 10"
   ]
  },
  {
   "cell_type": "code",
   "execution_count": null,
   "id": "cfb60339-eb56-46b3-b7aa-b4a27d58472e",
   "metadata": {},
   "outputs": [],
   "source": [
    "VM30F1_15M_2023_test.gen_pivot(10,10)"
   ]
  },
  {
   "cell_type": "code",
   "execution_count": null,
   "id": "6266b377-c4c8-4229-bdf5-0499a6e37eb0",
   "metadata": {},
   "outputs": [],
   "source": [
    "datetime.datetime.today()"
   ]
  },
  {
   "cell_type": "code",
   "execution_count": null,
   "id": "4a64f8b7-243d-4226-b40c-0e1b577ffac3",
   "metadata": {},
   "outputs": [],
   "source": [
    "saved_list = [divsignal2MACD,VM30F1_15M_2023_test]\n",
    "%store saved_list"
   ]
  },
  {
   "cell_type": "code",
   "execution_count": null,
   "id": "d51cf3c5-cbb4-42c9-bad2-050c2170f8b6",
   "metadata": {},
   "outputs": [],
   "source": [
    "%store -r saved_list"
   ]
  },
  {
   "cell_type": "code",
   "execution_count": null,
   "id": "a2b9ce67-6b23-460b-8faf-1804aa2d2ba2",
   "metadata": {},
   "outputs": [],
   "source": [
    "a = saved_list[0]"
   ]
  },
  {
   "cell_type": "code",
   "execution_count": null,
   "id": "16a156c9-56e1-4150-a4d7-370f0ee81147",
   "metadata": {},
   "outputs": [],
   "source": [
    "VM30F1_15M_2023_test = saved_list[1]"
   ]
  },
  {
   "cell_type": "code",
   "execution_count": null,
   "id": "b2fe94fe-47d3-488a-9fae-f41f5f0f5eef",
   "metadata": {},
   "outputs": [],
   "source": [
    "VM30F1_15M_2023_test.graph_Sample(100,200,CurrHigh = False, CurrLow= False)"
   ]
  },
  {
   "cell_type": "code",
   "execution_count": null,
   "id": "297b023e-120c-49f9-ad1f-63034ed131a6",
   "metadata": {},
   "outputs": [],
   "source": [
    "VM30F1_15M_2023_test.gen_divSignal2(100,10)"
   ]
  },
  {
   "cell_type": "code",
   "execution_count": null,
   "id": "16102c44-b359-4430-ac46-d4654fef5028",
   "metadata": {},
   "outputs": [],
   "source": [
    "VM30F1_15M_2023_test.compare_range"
   ]
  },
  {
   "cell_type": "code",
   "execution_count": null,
   "id": "d34a6542-3281-4056-9f02-7c58d1f30455",
   "metadata": {
    "tags": []
   },
   "outputs": [],
   "source": [
    "VM30F1_15M_2023_test.test_falseBreakSig2MACD(ATR_surpass = 0.2)"
   ]
  },
  {
   "cell_type": "code",
   "execution_count": null,
   "id": "927bd1d0-55a1-400b-b1a0-e2c67637f279",
   "metadata": {},
   "outputs": [],
   "source": [
    "VM30F1_15M_2023_test.plot_PipReturn('All')"
   ]
  },
  {
   "cell_type": "code",
   "execution_count": null,
   "id": "9d20aae1-a51a-43ee-81b9-ece797caf155",
   "metadata": {},
   "outputs": [],
   "source": [
    "VM30F1_15M_2023_test.result_Sell"
   ]
  },
  {
   "cell_type": "code",
   "execution_count": null,
   "id": "40a71d6a-a2ae-41f8-8208-5bff2be00354",
   "metadata": {},
   "outputs": [],
   "source": [
    "VM30F1_15M_2023_test.graph_Sample(3566,3688)"
   ]
  },
  {
   "cell_type": "markdown",
   "id": "a7beb986",
   "metadata": {
    "tags": []
   },
   "source": [
    "## XAUUSD"
   ]
  },
  {
   "cell_type": "markdown",
   "id": "c128637f",
   "metadata": {
    "toc-hr-collapsed": true
   },
   "source": [
    "###  5 min"
   ]
  },
  {
   "cell_type": "markdown",
   "id": "ab4bfec9-d821-4496-9990-41f05e92b019",
   "metadata": {},
   "source": [
    "#### Trading view data- OANDA"
   ]
  },
  {
   "cell_type": "code",
   "execution_count": null,
   "id": "c5eb0637-2f9e-4245-b1bd-2ba014a8f0a8",
   "metadata": {},
   "outputs": [],
   "source": [
    "XAU5M_1222_0223 = pd.read_csv(\"D:Data/Forex/XAUUSD/OANDA_XAUUSD, 5, 1222_0223 .csv\")\n",
    "XAU5M_1222_0223_test = TradingTest(XAU5M_1222_0223, pipRetMulti= 10)"
   ]
  },
  {
   "cell_type": "code",
   "execution_count": null,
   "id": "1ce76861-6973-44bb-a188-350612f0cbc0",
   "metadata": {},
   "outputs": [],
   "source": [
    "compare_range = 10\n",
    "XAU5M_1222_0223_test.gen_pivot(compare_range,compare_range)"
   ]
  },
  {
   "cell_type": "code",
   "execution_count": null,
   "id": "036109c1-e6d2-421d-9343-a2025ac61ca0",
   "metadata": {},
   "outputs": [],
   "source": [
    "XAU5M_1222_0223_test.gen_divSignal2(compare_range*10, compare_range)"
   ]
  },
  {
   "cell_type": "code",
   "execution_count": null,
   "id": "9543eba0-68ba-4ba1-8ae1-8f35119032ae",
   "metadata": {
    "tags": []
   },
   "outputs": [],
   "source": [
    "XAU5M_1222_0223_test.test_falseBreakSig2MACD(ATR_surpass=0.3)"
   ]
  },
  {
   "cell_type": "code",
   "execution_count": null,
   "id": "71d40a8e-9dff-400f-8041-4c5c034ce277",
   "metadata": {},
   "outputs": [],
   "source": [
    "XAU5M_1222_0223_test.result_Sell"
   ]
  },
  {
   "cell_type": "code",
   "execution_count": null,
   "id": "000eee9d-d7eb-490c-a69a-d28b9defec60",
   "metadata": {},
   "outputs": [],
   "source": [
    "a = 363\n",
    "XAU5M_1222_0223_test.graph_Sample(a-100,a+20)"
   ]
  },
  {
   "cell_type": "code",
   "execution_count": null,
   "id": "8ba36c9d-8e27-48ab-9c0a-3401603db879",
   "metadata": {
    "tags": []
   },
   "outputs": [],
   "source": [
    "startID = 10732\n",
    "endID = 10843\n",
    "dfpl = XAU5M_1222_0223_test.df[startID:endID]\n",
    "width = 1100\n",
    "height = 600\n",
    "fig = make_subplots(rows=3, cols=1,\n",
    "                    subplot_titles=(\"Price\", \"MACD\", \"RSI\"),\n",
    "                    row_heights=[0.6, 0.2, 0.2], vertical_spacing= 0.02,shared_xaxes = True )\n",
    "fig.append_trace(go.Candlestick(x=dfpl.index,\n",
    "        open=dfpl['open'],\n",
    "        high=dfpl['high'],\n",
    "        low=dfpl['low'],\n",
    "        close=dfpl['close']), row=1, col=1)\n",
    "fig.add_scatter(x=dfpl.index, y=dfpl['pointpos'], mode=\"markers\",\n",
    "                marker=dict(size=5, color=\"MediumPurple\"),name=\"pivot\", row=1, col=1)\n",
    "fig.add_scatter(x=dfpl.index, y=dfpl['CurrHigh'],mode=\"markers\",\n",
    "                    marker=dict(size=3, color=\"MediumPurple\"),name=\"CurrPivotHigh\", row=1, col=1)\n",
    "fig.add_scatter(x=dfpl.index, y=dfpl['CurrLow'],mode=\"markers\",\n",
    "                    marker=dict(size=3, color=\"mediumvioletred\"),name=\"CurrPivotLow\", row=1, col=1)\n",
    "fig.append_trace(go.Scatter(x=dfpl.index,y=dfpl['MACD']),row=2, col=1)\n",
    "fig.add_scatter(x=dfpl.index, y=dfpl['MACDpointpos'],mode=\"markers\",\n",
    "                    marker=dict(size=4, color=\"MediumPurple\"),name=\"pivot\", row=2, col=1)\n",
    "\n",
    "fig.append_trace(go.Scatter(x=dfpl.index,y=dfpl['RSI']),row=3, col=1)\n",
    "# fig.add_scatter(x=dfpl.index, y=dfpl['RSIpointpos'], mode=\"markers\",marker=dict(size=4, color=\"MediumPurple\"),\n",
    "#                         name=\"pivot\", row=3, col=1)\n",
    "fig.update_layout(xaxis_rangeslider_visible= False, showlegend=False, height = height, width = width, margin=dict(l=50,r=50,b=0,t=0,pad=0))"
   ]
  },
  {
   "cell_type": "markdown",
   "id": "328c084e",
   "metadata": {
    "tags": []
   },
   "source": [
    "#### DUKASCOPY_XAUUSD_5M_BID_01.09.2022-14.01.2023"
   ]
  },
  {
   "cell_type": "code",
   "execution_count": null,
   "id": "da3de82d",
   "metadata": {
    "tags": []
   },
   "outputs": [],
   "source": [
    "df = pd.read_csv(\"D:Data/Forex/XAUUSD/OANDA_XAUUSD, 5, 1222_0223 .csv\")\n",
    "tradingTest_xau5min = TradingTest(df)\n",
    "tradingTest_xau5min.gen_pivot(5,5)"
   ]
  },
  {
   "cell_type": "code",
   "execution_count": null,
   "id": "c189e489",
   "metadata": {},
   "outputs": [],
   "source": [
    "tradingTest_xau5min.df.columns"
   ]
  },
  {
   "cell_type": "code",
   "execution_count": null,
   "id": "3617bb70",
   "metadata": {},
   "outputs": [],
   "source": [
    "tradingTest_xau5min.gen_divSignal2(30, RSI = False)"
   ]
  },
  {
   "cell_type": "code",
   "execution_count": null,
   "id": "8e395d74",
   "metadata": {},
   "outputs": [],
   "source": [
    "tradingTest_xau5min.df['divSignal2MACD'].value_counts()"
   ]
  },
  {
   "cell_type": "code",
   "execution_count": null,
   "id": "9e11dba2",
   "metadata": {
    "tags": []
   },
   "outputs": [],
   "source": [
    "sell_result_dfpl, sell_stat_df = falsebreak_wDiv_test(tradingTest_xau5min.df, side = 'sell', elim_cons_trade = False, ATR_surpass= 0.1)\n",
    "sell_stat_df"
   ]
  },
  {
   "cell_type": "code",
   "execution_count": null,
   "id": "e9248a24",
   "metadata": {},
   "outputs": [],
   "source": [
    "sell_result_dfpl, sell_stat_df = falsebreak_wDiv_test(tradingTest_xau5min.df, side = 'sell', elim_cons_trade = True)\n",
    "sell_stat_df"
   ]
  },
  {
   "cell_type": "code",
   "execution_count": null,
   "id": "1b264ff1",
   "metadata": {},
   "outputs": [],
   "source": [
    "buy_result_dfpl, buy_stat_df = falsebreak_wDiv_test(tradingTest_xau5min.df, side = 'buy', elim_cons_trade = True, ATR_surpass= 0.1)\n",
    "buy_stat_df"
   ]
  },
  {
   "cell_type": "markdown",
   "id": "5b520737",
   "metadata": {},
   "source": [
    "#### DUKASCOPY_XAUUSD_Candlestick_5_M_BID_01.05.2022-01.09.2022"
   ]
  },
  {
   "cell_type": "code",
   "execution_count": null,
   "id": "a58a8adb",
   "metadata": {},
   "outputs": [],
   "source": [
    "print(os.listdir(\"D:/5.Data center/Forex/XAUUSD/\"))"
   ]
  },
  {
   "cell_type": "code",
   "execution_count": null,
   "id": "0a3085e4",
   "metadata": {
    "tags": []
   },
   "outputs": [],
   "source": [
    "df = pd.read_csv(\"D:/5.Data center/Forex/XAUUSD/DUKASCOPY_XAUUSD_Candlestick_5_M_BID_01.05.2022-01.09.2022.csv\")\n",
    "df.columns = ['Gmt time', 'open', 'high', 'low', 'close', 'Volume']\n",
    "tradingTest_xau5min = TradingTest(df)\n",
    "tradingTest_xau5min.df"
   ]
  },
  {
   "cell_type": "code",
   "execution_count": null,
   "id": "0aae66e5",
   "metadata": {},
   "outputs": [],
   "source": [
    "tradingTest_xau5min.gen_pivot(5,5)"
   ]
  },
  {
   "cell_type": "code",
   "execution_count": null,
   "id": "7584bdf5",
   "metadata": {},
   "outputs": [],
   "source": [
    "tradingTest_xau5min.gen_divSignal2(30)"
   ]
  },
  {
   "cell_type": "code",
   "execution_count": null,
   "id": "0f89ab95",
   "metadata": {},
   "outputs": [],
   "source": [
    "tradingTest_xau5min.df.divSignal2MACD.value_counts()"
   ]
  },
  {
   "cell_type": "markdown",
   "id": "73fb8d3d",
   "metadata": {},
   "source": [
    "##### Sell"
   ]
  },
  {
   "cell_type": "code",
   "execution_count": null,
   "id": "4948ff41",
   "metadata": {},
   "outputs": [],
   "source": [
    "sell_result_dfpl, sell_stat_df = falsebreak_wDiv_test(tradingTest_xau5min.df, side = 'sell', elim_cons_trade = False , falsebreak_bar=0, ATR_surpass=0.1)\n",
    "sell_stat_df"
   ]
  },
  {
   "cell_type": "markdown",
   "id": "fbfa73c4",
   "metadata": {},
   "source": [
    "##### Buy"
   ]
  },
  {
   "cell_type": "code",
   "execution_count": null,
   "id": "024ee486",
   "metadata": {},
   "outputs": [],
   "source": [
    "buy_result_dfpl, buy_stat_df = falsebreak_wDiv_test(tradingTest_xau5min.df, side = 'buy', elim_cons_trade = True , falsebreak_bar=1, ATR_surpass=0.1)\n",
    "buy_stat_df"
   ]
  },
  {
   "cell_type": "markdown",
   "id": "6f7caf3c",
   "metadata": {
    "tags": []
   },
   "source": [
    "#### DUKAS_XAUUSD_Candlestick_5_M_BID_01.01.2021-01.05.2021"
   ]
  },
  {
   "cell_type": "code",
   "execution_count": null,
   "id": "47806e47",
   "metadata": {
    "tags": []
   },
   "outputs": [],
   "source": [
    "df = pd.read_csv(\"D:/Data/Forex/XAUUSD/DUKAS_XAUUSD_Candlestick_5_M_BID_01.01.2021-01.05.2021.csv\")\n",
    "df.columns = ['Gmt time', 'open', 'high', 'low', 'close', 'Volume']\n",
    "tradingTest_xau5min = TradingTest(df, pipRetMulti = 10)\n",
    "tradingTest_xau5min.df"
   ]
  },
  {
   "cell_type": "code",
   "execution_count": null,
   "id": "5fc2c2b5",
   "metadata": {},
   "outputs": [],
   "source": [
    "tradingTest_xau5min.gen_pivot(5,5)"
   ]
  },
  {
   "cell_type": "code",
   "execution_count": null,
   "id": "3af28844",
   "metadata": {
    "tags": []
   },
   "outputs": [],
   "source": [
    "tradingTest_xau5min.gen_divSignal2(30)"
   ]
  },
  {
   "cell_type": "code",
   "execution_count": null,
   "id": "cb6a608c",
   "metadata": {
    "tags": []
   },
   "outputs": [],
   "source": [
    "XAU_sell_result_dfpl, XAU_sell_stat_df = falsebreak_wDiv_test(tradingTest_xau5min.df, side = 'sell', elim_cons_trade = True , falsebreak_bar= 0, ATR_surpass=0.05)\n",
    "XAU_sell_stat_df"
   ]
  },
  {
   "cell_type": "code",
   "execution_count": null,
   "id": "15c0ed3e",
   "metadata": {},
   "outputs": [],
   "source": [
    "XAU_sell_result_dfpl['PipReturn_10bar_cumsum'] = (XAU_sell_result_dfpl['PipReturn_10bar']+2).cumsum()\n",
    "plt.plot(XAU_sell_result_dfpl.index, -XAU_sell_result_dfpl['PipReturn_10bar_cumsum'])"
   ]
  },
  {
   "cell_type": "markdown",
   "id": "b50dd2dd",
   "metadata": {},
   "source": [
    "##### buy"
   ]
  },
  {
   "cell_type": "code",
   "execution_count": null,
   "id": "0a9fe714",
   "metadata": {},
   "outputs": [],
   "source": [
    "XAU_buy_result_dfpl, XAU_buy_stat_df = falsebreak_wDiv_test(tradingTest_xau5min.df, side = 'buy', elim_cons_trade = True , falsebreak_bar= 0, ATR_surpass= 0.05)\n",
    "XAU_buy_stat_df"
   ]
  },
  {
   "cell_type": "code",
   "execution_count": null,
   "id": "e727f266",
   "metadata": {},
   "outputs": [],
   "source": [
    "XAU_buy_result_dfpl['PipReturn_10bar_cumsum'] = (XAU_buy_result_dfpl['PipReturn_10bar']-2).cumsum()\n",
    "plt.plot(XAU_buy_result_dfpl.index, XAU_buy_result_dfpl['PipReturn_10bar_cumsum'])"
   ]
  },
  {
   "cell_type": "markdown",
   "id": "2c1acb26",
   "metadata": {
    "tags": []
   },
   "source": [
    "### 15 Min"
   ]
  },
  {
   "cell_type": "code",
   "execution_count": null,
   "id": "c3fdabfc",
   "metadata": {
    "tags": []
   },
   "outputs": [],
   "source": [
    "XAU15M_20_23 = pd.read_csv(\"D:/Data/Forex/XAUUSD/DUKAS_XAUUSD_Candlestick_15_M_BID_01.01.2020-01.01.2023.csv\")"
   ]
  },
  {
   "cell_type": "code",
   "execution_count": null,
   "id": "d0702b65",
   "metadata": {
    "tags": []
   },
   "outputs": [],
   "source": [
    "XAU15M_20_23['Gmt time'] = pd.to_datetime(XAU15M_20_23['Gmt time'])\n",
    "XAU15M_20_23 = XAU15M_20_23.sort_values(by = 'Gmt time')"
   ]
  },
  {
   "cell_type": "code",
   "execution_count": null,
   "id": "a151b9e3",
   "metadata": {},
   "outputs": [],
   "source": [
    "XAU_15m2020 = XAU15M_20_23[XAU15M_20_23['Gmt time'] < '2021-1-1']\n",
    "XAU_15m2021 = XAU15M_20_23[(XAU15M_20_23['Gmt time'] > '2021-1-1') &  (XAU15M_20_23['Gmt time'] < '2022-1-1')]\n",
    "XAU_15m2022 = XAU15M_20_23[XAU15M_20_23['Gmt time'] >= '2022-1-1']"
   ]
  },
  {
   "cell_type": "code",
   "execution_count": null,
   "id": "3094ae79",
   "metadata": {},
   "outputs": [],
   "source": [
    "XAU15M_17_20 = pd.read_csv(\"D:/Data/Forex/XAUUSD/XAUUSD_Candlestick_15_M_BID_01.01.2017-01.01.2020.csv\")\n",
    "XAU15M_17_20['Gmt time'] = pd.to_datetime(XAU15M_17_20['Gmt time'])\n",
    "XAU15M_17_20 = XAU15M_17_20.sort_values(by = 'Gmt time')"
   ]
  },
  {
   "cell_type": "code",
   "execution_count": null,
   "id": "273560b9",
   "metadata": {},
   "outputs": [],
   "source": [
    "XAU_15m2017 = XAU15M_17_20[XAU15M_17_20['Gmt time'] < '2018-1-1']\n",
    "XAU_15m2018 = XAU15M_17_20[(XAU15M_17_20['Gmt time'] > '2017-12-30') &  (XAU15M_17_20['Gmt time'] < '2019-1-1')]\n",
    "XAU_15m2019 = XAU15M_17_20[XAU15M_17_20['Gmt time'] >= '2018-12-30']"
   ]
  },
  {
   "cell_type": "markdown",
   "id": "c21c2394",
   "metadata": {
    "tags": []
   },
   "source": [
    "#### 2017"
   ]
  },
  {
   "cell_type": "code",
   "execution_count": null,
   "id": "13d5875a",
   "metadata": {},
   "outputs": [],
   "source": [
    "XAU_15m2017_test = TradingTest(XAU_15m2017.reset_index().drop(columns = ['index']), pipRetMulti = 10)"
   ]
  },
  {
   "cell_type": "code",
   "execution_count": null,
   "id": "78b9fa4d",
   "metadata": {
    "tags": []
   },
   "outputs": [],
   "source": [
    "XAU_15m2017_test.gen_pivot(5,5)\n"
   ]
  },
  {
   "cell_type": "code",
   "execution_count": null,
   "id": "bd2a17c5",
   "metadata": {
    "scrolled": true
   },
   "outputs": [],
   "source": [
    "XAU_15m2017_test.gen_divSignal2(30,5)"
   ]
  },
  {
   "cell_type": "code",
   "execution_count": null,
   "id": "5c8b5473",
   "metadata": {},
   "outputs": [],
   "source": [
    "XAU_15m2017_test.df.divSignal2MACD.value_counts()"
   ]
  },
  {
   "cell_type": "code",
   "execution_count": null,
   "id": "6c52fb97",
   "metadata": {
    "tags": []
   },
   "outputs": [],
   "source": [
    "XAU_15m2017_resultS, XAU_15m2017_statS = falsebreak_wDiv_test(XAU_15m2017_test.df,side = 'sell', \n",
    "                                                             elim_cons_trade = True , falsebreak_bar= 1, ATR_surpass= 0.0)\n",
    "XAU_15m2017_resultB, XAU_15m2017_statB = falsebreak_wDiv_test(XAU_15m2017_test.df,side = 'buy', \n",
    "                                                             elim_cons_trade = True , falsebreak_bar= 1, ATR_surpass= 0.0)\n",
    "XAU_15m2017_resultAll = GetResultAll(XAU_15m2017_resultS,XAU_15m2017_resultB)\n",
    "XAU_15m2017_statAll = GetStatAll(XAU_15m2017_resultAll)"
   ]
  },
  {
   "cell_type": "code",
   "execution_count": null,
   "id": "69c4fee0-6755-49da-89f1-6a5f00970181",
   "metadata": {
    "tags": []
   },
   "outputs": [],
   "source": [
    "Plot_csPipReturn(XAU_15m2017_resultAll,side = 'All',spread = 2, return_bar='All')"
   ]
  },
  {
   "cell_type": "code",
   "execution_count": null,
   "id": "fddd7c22-1684-4bd9-adf4-07dfba884922",
   "metadata": {
    "tags": []
   },
   "outputs": [],
   "source": [
    "XAU_15m2017_statAll"
   ]
  },
  {
   "cell_type": "code",
   "execution_count": null,
   "id": "2a9318bd-7e33-41e8-89a7-5ff08ccf2bb8",
   "metadata": {},
   "outputs": [],
   "source": [
    "Plot_csPipReturn(XAU_15m2017_resultS, side = 'sell', spread = 2, return_bar = 'All')\n",
    "Plot_csPipReturn(XAU_15m2017_resultB, side = 'buy', spread = 2, return_bar = 'All')"
   ]
  },
  {
   "cell_type": "code",
   "execution_count": null,
   "id": "f0e6d81b",
   "metadata": {},
   "outputs": [],
   "source": [
    "dfpl = XAU_15m2017_resultAll\n",
    "fig = make_subplots()       \n",
    "fig.append_trace(go.Scatter(x=dfpl.index,y=dfpl['PipReturn_10bar_cumsum']), row = 1, col = 1)    \n",
    "            \n",
    "fig.update_layout(xaxis_rangeslider_visible= False, width= 1000 ,height= 600,margin=dict(l=50,r=50,b=100,t=100,pad=4))"
   ]
  },
  {
   "cell_type": "code",
   "execution_count": null,
   "id": "20016143",
   "metadata": {},
   "outputs": [],
   "source": [
    "XAU_15m2017_resultAll.loc[70]"
   ]
  },
  {
   "cell_type": "code",
   "execution_count": null,
   "id": "a634c96b",
   "metadata": {},
   "outputs": [],
   "source": [
    "XAU_15m2017_test.df.loc[11891]"
   ]
  },
  {
   "cell_type": "code",
   "execution_count": null,
   "id": "5781c30f",
   "metadata": {},
   "outputs": [],
   "source": [
    "XAU_15m2017_test.graph_init_Sample(11800, 11920,RSI=False)"
   ]
  },
  {
   "cell_type": "markdown",
   "id": "28896efc",
   "metadata": {
    "jp-MarkdownHeadingCollapsed": true,
    "tags": []
   },
   "source": [
    "#### 2018"
   ]
  },
  {
   "cell_type": "code",
   "execution_count": null,
   "id": "fb37d9f9",
   "metadata": {},
   "outputs": [],
   "source": [
    "XAU_15m2018_test = TradingTest(XAU_15m2018.reset_index(drop = True), pipRetMulti = 10)"
   ]
  },
  {
   "cell_type": "code",
   "execution_count": null,
   "id": "cd695dd9",
   "metadata": {
    "scrolled": true,
    "tags": []
   },
   "outputs": [],
   "source": [
    "XAU_15m2018_test.gen_pivot(5,5)\n",
    "XAU_15m2018_test.gen_divSignal2(30,5)"
   ]
  },
  {
   "cell_type": "code",
   "execution_count": null,
   "id": "8ac5e3cf",
   "metadata": {},
   "outputs": [],
   "source": [
    "XAU_15m2018_test.df.divSignal2MACD.value_counts()"
   ]
  },
  {
   "cell_type": "code",
   "execution_count": null,
   "id": "0c15ccbb",
   "metadata": {
    "tags": []
   },
   "outputs": [],
   "source": [
    "XAU_15m2018_resultS, XAU_15m2018_statS = falsebreak_wDiv_test(XAU_15m2018_test.df,side = 'sell', \n",
    "                                                             elim_cons_trade = True , falsebreak_bar= 0, ATR_surpass= 0.0)\n",
    "XAU_15m2018_resultB, XAU_15m2018_statB = falsebreak_wDiv_test(XAU_15m2018_test.df,side = 'buy', \n",
    "                                                             elim_cons_trade = True , falsebreak_bar= 0, ATR_surpass= 0.0)\n",
    "XAU_15m2018_resultAll = GetResultAll(XAU_15m2018_resultS,XAU_15m2018_resultB)\n",
    "XAU_15m2018_statAll = GetStatAll(XAU_15m2018_resultAll)"
   ]
  },
  {
   "cell_type": "code",
   "execution_count": null,
   "id": "632741f7-c800-400a-a1fc-d84711124fcc",
   "metadata": {
    "tags": []
   },
   "outputs": [],
   "source": [
    "Plot_csPipReturn(XAU_15m2018_resultAll,side = 'All',spread = 2, return_bar='All')"
   ]
  },
  {
   "cell_type": "code",
   "execution_count": null,
   "id": "6de1a079-a4ef-4287-8695-41d1723f1f02",
   "metadata": {},
   "outputs": [],
   "source": [
    "XAU_15m2018_statAll"
   ]
  },
  {
   "cell_type": "code",
   "execution_count": null,
   "id": "2fbf9a12-0c4a-4b13-9321-7d84320b3c6e",
   "metadata": {},
   "outputs": [],
   "source": [
    "dfpl = XAU_15m2018_resultAll\n",
    "fig = make_subplots()       \n",
    "fig.append_trace(go.Scatter(x=dfpl['gmt time'],y=dfpl['PipReturn_3bar_cumsum']), row = 1, col = 1)\n",
    "# fig.add_scatter(x = GJ1H_18_23_resultAll.iloc[138:]['gmt time'], y= GJ1H_18_23_resultAll.iloc[138:]['PipReturn_20bar_cumsum'],mode=\"markers\",\n",
    "#                             marker=dict(size=4, color=\"MediumPurple\"),name=\"pivot\", row=2, col=1)\n",
    "       \n",
    "            \n",
    "fig.update_layout(xaxis_rangeslider_visible= False, width= 1000 ,height= 600,margin=dict(l=50,r=50,b=100,t=100,pad=4))"
   ]
  },
  {
   "cell_type": "markdown",
   "id": "49c6c1eb",
   "metadata": {
    "jp-MarkdownHeadingCollapsed": true,
    "tags": []
   },
   "source": [
    "#### 2019"
   ]
  },
  {
   "cell_type": "code",
   "execution_count": null,
   "id": "8e839278",
   "metadata": {},
   "outputs": [],
   "source": [
    "XAU_15m2019_test = TradingTest(XAU_15m2019.reset_index().drop(columns = ['index']), pipRetMulti = 10)"
   ]
  },
  {
   "cell_type": "code",
   "execution_count": null,
   "id": "dc9cb52d",
   "metadata": {
    "tags": []
   },
   "outputs": [],
   "source": [
    "XAU_15m2019_test.gen_pivot(5,5)\n",
    "XAU_15m2019_test.gen_divSignal2(30)"
   ]
  },
  {
   "cell_type": "code",
   "execution_count": null,
   "id": "ae999533",
   "metadata": {},
   "outputs": [],
   "source": [
    "XAU_15m2019_test.df.divSignal2MACD.value_counts()"
   ]
  },
  {
   "cell_type": "code",
   "execution_count": null,
   "id": "a02e508c",
   "metadata": {
    "tags": []
   },
   "outputs": [],
   "source": [
    "XAU_15m2019_resultS, XAU_15m2019_statS = falsebreak_wDiv_test(XAU_15m2019_test.df,side = 'sell', \n",
    "                                                             elim_cons_trade = True , falsebreak_bar= 1, ATR_surpass= 0)\n",
    "XAU_15m2019_resultB, XAU_15m2019_statB = falsebreak_wDiv_test(XAU_15m2019_test.df,side = 'buy', \n",
    "                                                             elim_cons_trade = True , falsebreak_bar= 1, ATR_surpass= 0)\n",
    "XAU_15m2019_resultAll = GetResultAll(XAU_15m2019_resultS,XAU_15m2019_resultB)\n",
    "XAU_15m2019_statAll = GetStatAll(XAU_15m2019_resultAll)"
   ]
  },
  {
   "cell_type": "code",
   "execution_count": null,
   "id": "57ead3c8-e570-4843-9955-86d3076eed81",
   "metadata": {
    "tags": []
   },
   "outputs": [],
   "source": [
    "Plot_csPipReturn(XAU_15m2019_resultAll,'All',2,'All')"
   ]
  },
  {
   "cell_type": "code",
   "execution_count": null,
   "id": "9ceac00e-6a2c-4939-b7dc-1eab30ce7654",
   "metadata": {},
   "outputs": [],
   "source": [
    "dfpl = XAU_15m2019_resultAll\n",
    "fig = make_subplots()       \n",
    "fig.append_trace(go.Scatter(x=dfpl['gmt time'],y=dfpl['PipReturn_3bar_cumsum']), row = 1, col = 1)    \n",
    "            \n",
    "fig.update_layout(xaxis_rangeslider_visible= False, width= 1000 ,height= 600,margin=dict(l=50,r=50,b=100,t=100,pad=4))"
   ]
  },
  {
   "cell_type": "code",
   "execution_count": null,
   "id": "772532cb-6022-4892-98b5-f5f866daef75",
   "metadata": {},
   "outputs": [],
   "source": [
    "XAU_15m2019_statAll"
   ]
  },
  {
   "cell_type": "code",
   "execution_count": null,
   "id": "ba82e19f-77b2-4f22-aa85-23f78d5279e7",
   "metadata": {
    "tags": []
   },
   "outputs": [],
   "source": [
    "Plot_csPipReturn(XAU_15m2019_resultS, side = 'sell', spread = 2, return_bar = 'All')\n",
    "Plot_csPipReturn(XAU_15m2019_resultB, side = 'buy', spread = 2, return_bar = 'All')"
   ]
  },
  {
   "cell_type": "code",
   "execution_count": null,
   "id": "769f048f-ea0f-42be-9c8f-cb1f30e69a57",
   "metadata": {},
   "outputs": [],
   "source": [
    "XAU_15m2019_statS"
   ]
  },
  {
   "cell_type": "code",
   "execution_count": null,
   "id": "5354ad62-f02f-4257-b74f-569660c137d7",
   "metadata": {},
   "outputs": [],
   "source": [
    "XAU_15m2019_statB"
   ]
  },
  {
   "cell_type": "markdown",
   "id": "a885db3e",
   "metadata": {
    "jp-MarkdownHeadingCollapsed": true,
    "tags": []
   },
   "source": [
    "#### 2020"
   ]
  },
  {
   "cell_type": "code",
   "execution_count": null,
   "id": "11e210a9",
   "metadata": {},
   "outputs": [],
   "source": [
    "XAU_15m2020_test = TradingTest(XAU_15m2020.reset_index().drop(columns = ['index']), pipRetMulti = 10)"
   ]
  },
  {
   "cell_type": "code",
   "execution_count": null,
   "id": "2be7c2ba",
   "metadata": {
    "tags": []
   },
   "outputs": [],
   "source": [
    "XAU_15m2020_test.gen_pivot(5,5)\n",
    "XAU_15m2020_test.gen_divSignal2(30)"
   ]
  },
  {
   "cell_type": "code",
   "execution_count": null,
   "id": "14eb4d6b",
   "metadata": {},
   "outputs": [],
   "source": [
    "XAU_15m2020_test.df.divSignal2MACD.value_counts()"
   ]
  },
  {
   "cell_type": "code",
   "execution_count": null,
   "id": "a04d621e",
   "metadata": {
    "tags": []
   },
   "outputs": [],
   "source": [
    "XAU_15m2020_resultS, XAU_15m2020_statS = falsebreak_wDiv_test(XAU_15m2020_test.df,side = 'sell', \n",
    "                                                             elim_cons_trade = True , falsebreak_bar= 1, ATR_surpass= 0)\n",
    "XAU_15m2020_resultB, XAU_15m2020_statB = falsebreak_wDiv_test(XAU_15m2020_test.df,side = 'buy', \n",
    "                                                             elim_cons_trade = True , falsebreak_bar= 1, ATR_surpass= 0)\n",
    "XAU_15m2020_resultAll = GetResultAll(XAU_15m2020_resultS,XAU_15m2020_resultB)\n",
    "XAU_15m2020_statAll = GetStatAll(XAU_15m2020_resultAll)"
   ]
  },
  {
   "cell_type": "code",
   "execution_count": null,
   "id": "e75ceb88-7e09-4d54-a1e3-6166448b892b",
   "metadata": {},
   "outputs": [],
   "source": [
    "Plot_csPipReturn(XAU_15m2020_resultAll,'All',2,'All')"
   ]
  },
  {
   "cell_type": "code",
   "execution_count": null,
   "id": "11d684fb-a795-4aa0-951f-a0ea0064868f",
   "metadata": {},
   "outputs": [],
   "source": [
    "XAU_15m2020_statAll"
   ]
  },
  {
   "cell_type": "code",
   "execution_count": null,
   "id": "ad935e8e",
   "metadata": {
    "tags": []
   },
   "outputs": [],
   "source": [
    "dfpl = XAU_15m2020_resultAll\n",
    "fig = make_subplots()       \n",
    "fig.append_trace(go.Scatter(x=dfpl['gmt time'],y=dfpl['PipReturn_20bar_cumsum']), row = 1, col = 1)    \n",
    "            \n",
    "fig.update_layout(xaxis_rangeslider_visible= False, width= 1000 ,height= 600,margin=dict(l=50,r=50,b=100,t=100,pad=4))"
   ]
  },
  {
   "cell_type": "code",
   "execution_count": null,
   "id": "83f34894-8357-4331-9828-5b26c1f99c87",
   "metadata": {
    "tags": []
   },
   "outputs": [],
   "source": [
    "XAU_15m2020_resultAll[XAU_15m2020_resultAll['gmt time'] >= '2020-2-11']"
   ]
  },
  {
   "cell_type": "code",
   "execution_count": null,
   "id": "6b11cd88-6813-45db-a3b5-efd34968e76e",
   "metadata": {
    "tags": []
   },
   "outputs": [],
   "source": [
    "XAU_15m2020[XAU_15m2020['Gmt time'] >= '2020-2-12 20:30:00']"
   ]
  },
  {
   "cell_type": "code",
   "execution_count": null,
   "id": "1fb4e882-5085-493e-9508-0a9610e3f066",
   "metadata": {},
   "outputs": [],
   "source": [
    "XAU_15m2020_test.graph_init_Sample(2800,2850,RSI = False,RSIpp=False,height=2000)"
   ]
  },
  {
   "cell_type": "code",
   "execution_count": null,
   "id": "115d809e-d9b1-4502-8736-5b732144e0a3",
   "metadata": {},
   "outputs": [],
   "source": [
    "Plot_csPipReturn(XAU_15m2020_resultS, side = 'sell', spread = 2, return_bar = 'All')\n",
    "Plot_csPipReturn(XAU_15m2020_resultB, side = 'buy', spread = 2, return_bar = 'All')"
   ]
  },
  {
   "cell_type": "markdown",
   "id": "6afa6c88",
   "metadata": {
    "jp-MarkdownHeadingCollapsed": true,
    "tags": []
   },
   "source": [
    "#### 2021"
   ]
  },
  {
   "cell_type": "code",
   "execution_count": null,
   "id": "344c2766",
   "metadata": {},
   "outputs": [],
   "source": [
    "XAU_15m2021_test = TradingTest(XAU_15m2021.reset_index().drop(columns = ['index']), pipRetMulti = 10)"
   ]
  },
  {
   "cell_type": "code",
   "execution_count": null,
   "id": "152dcccc",
   "metadata": {
    "tags": []
   },
   "outputs": [],
   "source": [
    "XAU_15m2021_test.gen_pivot(5,5)\n",
    "XAU_15m2021_test.gen_divSignal2(30)"
   ]
  },
  {
   "cell_type": "code",
   "execution_count": null,
   "id": "c561c01b",
   "metadata": {},
   "outputs": [],
   "source": [
    "XAU_15m2021_test.df.divSignal2MACD.value_counts()"
   ]
  },
  {
   "cell_type": "code",
   "execution_count": null,
   "id": "e9dc37bc",
   "metadata": {
    "tags": []
   },
   "outputs": [],
   "source": [
    "XAU_15m2021_resultS, XAU_15m2021_statS = falsebreak_wDiv_test(XAU_15m2021_test.df,side = 'sell', \n",
    "                                                             elim_cons_trade = True , falsebreak_bar= 1, ATR_surpass= 0)\n",
    "XAU_15m2021_resultB, XAU_15m2021_statB = falsebreak_wDiv_test(XAU_15m2021_test.df,side = 'buy', \n",
    "                                                             elim_cons_trade = True , falsebreak_bar= 1, ATR_surpass= 0)\n",
    "XAU_15m2021_resultS_copy = XAU_15m2021_resultS.copy()\n",
    "XAU_15m2021_resultS_copy[pip_return_masking]  = XAU_15m2021_resultS_copy[pip_return_masking]*-1\n",
    "XAU_15m2021_resultAll = pd.concat([XAU_15m2021_resultB, XAU_15m2021_resultS_copy])\n",
    "XAU_15m2021_resultAll = XAU_15m2021_resultAll.reset_index().drop(columns = ['level_0'])\n",
    "Plot_csPipReturn(XAU_15m2021_resultAll, 'buy', 2, \"All\")\n"
   ]
  },
  {
   "cell_type": "code",
   "execution_count": null,
   "id": "cb39aefa",
   "metadata": {},
   "outputs": [],
   "source": [
    "XAU_15m2021_statAll = XAU_15m2021_resultAll[pip_return_masking].describe().T\n",
    "XAU_15m2021_statAll['Sharpe ratio'] = XAU_15m2021_statAll['mean']/ XAU_15m2021_statAll['std']\n",
    "XAU_15m2021_statAll['Count x Sharpe'] = XAU_15m2021_statAll['Sharpe ratio'] * XAU_15m2021_statAll['count']\n",
    "XAU_15m2021_statAll"
   ]
  },
  {
   "cell_type": "code",
   "execution_count": null,
   "id": "a83a7554",
   "metadata": {},
   "outputs": [],
   "source": [
    "XAU_15m2021_statS"
   ]
  },
  {
   "cell_type": "code",
   "execution_count": null,
   "id": "c3d45e4a",
   "metadata": {
    "tags": []
   },
   "outputs": [],
   "source": [
    "XAU_15m2021_statB"
   ]
  },
  {
   "cell_type": "code",
   "execution_count": null,
   "id": "d881d534",
   "metadata": {},
   "outputs": [],
   "source": [
    "Plot_csPipReturn(XAU_15m2021_resultS, 'sell', 2, 'All')"
   ]
  },
  {
   "cell_type": "code",
   "execution_count": null,
   "id": "3af5d533",
   "metadata": {},
   "outputs": [],
   "source": [
    "Plot_csPipReturn(XAU_15m2021_resultB, 'buy', 2, 'All')"
   ]
  },
  {
   "cell_type": "markdown",
   "id": "ec161f50-97ff-42b3-8348-6d67ebef5798",
   "metadata": {
    "tags": []
   },
   "source": [
    "#### 2022"
   ]
  },
  {
   "cell_type": "markdown",
   "id": "b724edc1-c979-435a-9c78-fe19523f26e0",
   "metadata": {},
   "source": [
    "##### Dukas Data"
   ]
  },
  {
   "cell_type": "code",
   "execution_count": null,
   "id": "43b0da6d-b670-496e-973d-4f6f11c9a9f0",
   "metadata": {},
   "outputs": [],
   "source": [
    "XAU_15m2022 = pd.read_csv('D:Data/Forex/XAUUSD/DUKAS_XAUUSD_Candlestick_15_M_BID_01.01.2022-14.01.2023.csv')\n",
    "XAU_15m2022['Gmt time'] = pd.to_datetime(XAU_15m2022['Gmt time'], dayfirst=True)\n",
    "XAU_15m2022 = XAU_15m2022.sort_values(by = 'Gmt time')\n",
    "XAU_15m2022 = XAU_15m2022.reset_index(drop = True)"
   ]
  },
  {
   "cell_type": "code",
   "execution_count": null,
   "id": "40bab598-c14b-4dc0-936c-6a2bf30fdde5",
   "metadata": {
    "tags": []
   },
   "outputs": [],
   "source": [
    "XAU_15m2022"
   ]
  },
  {
   "cell_type": "code",
   "execution_count": null,
   "id": "f299288e",
   "metadata": {},
   "outputs": [],
   "source": [
    "XAU_15m2022_test = TradingTest(XAU_15m2022, pipRetMulti = 10)"
   ]
  },
  {
   "cell_type": "code",
   "execution_count": null,
   "id": "bc2a5d95-7c60-4a2c-b918-0b90442c4b39",
   "metadata": {},
   "outputs": [],
   "source": [
    "compare_range = 10"
   ]
  },
  {
   "cell_type": "code",
   "execution_count": null,
   "id": "41af02ee",
   "metadata": {
    "tags": []
   },
   "outputs": [],
   "source": [
    "XAU_15m2022_test.gen_pivot(compare_range,compare_range)\n"
   ]
  },
  {
   "cell_type": "code",
   "execution_count": null,
   "id": "3932913d-bb4d-48eb-b061-a516a7a0b82e",
   "metadata": {},
   "outputs": [],
   "source": [
    "XAU_15m2022_test.gen_divSignal2(compare_range*10, compare_range)"
   ]
  },
  {
   "cell_type": "code",
   "execution_count": null,
   "id": "59996f08-a809-4f59-aad0-7d52e88d8a64",
   "metadata": {},
   "outputs": [],
   "source": [
    "XAU_15m2022_Dukas_TdTest_saved = [XAU_15m2022_test]"
   ]
  },
  {
   "cell_type": "code",
   "execution_count": null,
   "id": "840f10b1-682d-4ad9-9cb9-c5a7fa81cc5b",
   "metadata": {},
   "outputs": [],
   "source": [
    "%store XAU_15m2022_Dukas_TdTest_saved\n",
    "exit"
   ]
  },
  {
   "cell_type": "code",
   "execution_count": null,
   "id": "2770609e",
   "metadata": {},
   "outputs": [],
   "source": [
    "XAU_15m2022_test.df.divSignal2MACD.value_counts()"
   ]
  },
  {
   "cell_type": "code",
   "execution_count": null,
   "id": "4b480ba6-4487-4c0d-9f25-3d6d8ea4a897",
   "metadata": {
    "tags": []
   },
   "outputs": [],
   "source": [
    "XAU_15m2022_test.test_falseBreakSig2MACD(ATR_surpass = 0.3, div_signal = 'no',ATR_commpare_range = 1)"
   ]
  },
  {
   "cell_type": "code",
   "execution_count": null,
   "id": "e8b6eb80",
   "metadata": {
    "tags": []
   },
   "outputs": [],
   "source": [
    "XAU_15m2022_test.test_falseBreakSig2MACD(ATR_surpass=0.3, falsebreak_bar = 0)"
   ]
  },
  {
   "cell_type": "code",
   "execution_count": null,
   "id": "332c0669-9dbc-4800-af80-c3ecb875bd86",
   "metadata": {},
   "outputs": [],
   "source": [
    "XAU_15m2022_test.result_Sell"
   ]
  },
  {
   "cell_type": "code",
   "execution_count": null,
   "id": "2739b46c-85c3-45c8-ae2f-a6b0bad84484",
   "metadata": {
    "tags": []
   },
   "outputs": [],
   "source": [
    "a = 15774\n",
    "XAU_15m2022_test.graph_Sample(a-100,a+20)"
   ]
  },
  {
   "cell_type": "code",
   "execution_count": null,
   "id": "2cabcb2b-e9e9-4ce6-b2da-90046cb9bbd1",
   "metadata": {},
   "outputs": [],
   "source": [
    "XAU_15m2022_test.df.loc[15769]"
   ]
  },
  {
   "cell_type": "code",
   "execution_count": null,
   "id": "ca487019-080c-4c4c-bbcd-c9f86c679326",
   "metadata": {},
   "outputs": [],
   "source": [
    "XAU_15m2022_test.df[XAU_15m2022_test.df['gmt time'] == datetime.datetime(2022,8,31,23,30)]"
   ]
  },
  {
   "cell_type": "code",
   "execution_count": null,
   "id": "6640dab5-8e8b-4f9c-9f0c-60794166315f",
   "metadata": {},
   "outputs": [],
   "source": [
    "XAU_15m2022_test.df['gmt time']"
   ]
  },
  {
   "cell_type": "code",
   "execution_count": null,
   "id": "1167642b-d328-432e-adaf-7fb5a4f73fea",
   "metadata": {},
   "outputs": [],
   "source": [
    "XAU_15m2022_test.result_Buy"
   ]
  },
  {
   "cell_type": "code",
   "execution_count": null,
   "id": "0ef49540-ddb0-430a-8d15-a670c429ce06",
   "metadata": {},
   "outputs": [],
   "source": [
    "a = 15531\n",
    "XAU_15m2022_test.graph_Sample(a-100,a+20)"
   ]
  },
  {
   "cell_type": "markdown",
   "id": "087b0a3f",
   "metadata": {
    "tags": []
   },
   "source": [
    "#### 2022 - 2023 Oanda - Tradingview data"
   ]
  },
  {
   "cell_type": "code",
   "execution_count": null,
   "id": "24fac72f-fd12-4319-a490-d86137082d63",
   "metadata": {},
   "outputs": [],
   "source": [
    "print(os.listdir(\"D:/Data/Forex/XAUUSD/\"))"
   ]
  },
  {
   "cell_type": "code",
   "execution_count": null,
   "id": "075a06f0-46bc-4676-9370-08ff8eec6b52",
   "metadata": {},
   "outputs": [],
   "source": [
    "XAU15M_121322_012723 = pd.read_csv(\"D:/Data/Forex/XAUUSD/OANDA_XAUUSD, 15, 0822_0223.csv\")\n",
    "XAU15M_121322_012723_test = TradingTest(XAU15M_121322_012723,pipRetMulti=10)"
   ]
  },
  {
   "cell_type": "code",
   "execution_count": null,
   "id": "335ba8b3-1476-441e-900a-fcd3d68cef28",
   "metadata": {},
   "outputs": [],
   "source": [
    "compare_range = 10"
   ]
  },
  {
   "cell_type": "code",
   "execution_count": null,
   "id": "5ed03739-6aff-45bb-a271-177081f2e8a1",
   "metadata": {
    "tags": []
   },
   "outputs": [],
   "source": [
    "XAU15M_121322_012723_test.gen_pivot(compare_range,compare_range)"
   ]
  },
  {
   "cell_type": "code",
   "execution_count": null,
   "id": "609f00a9-bfd5-4fec-a698-417519ed179a",
   "metadata": {},
   "outputs": [],
   "source": [
    "XAU15M_121322_012723_test.gen_divSignal2(100)"
   ]
  },
  {
   "cell_type": "code",
   "execution_count": null,
   "id": "c0daeb9e-7ad6-412e-ac1b-2c78f5010e4c",
   "metadata": {
    "tags": []
   },
   "outputs": [],
   "source": [
    "XAU15M_121322_012723_test.test_falseBreakSig2MACD(ATR_surpass=0)"
   ]
  },
  {
   "cell_type": "code",
   "execution_count": null,
   "id": "5eef8d4b-64a3-4a2a-979b-145bd479881a",
   "metadata": {},
   "outputs": [],
   "source": [
    "XAU15M_121322_012723_test.df.time = pd.to_datetime(XAU15M_121322_012723_test.df.time)"
   ]
  },
  {
   "cell_type": "code",
   "execution_count": null,
   "id": "2444377b-29c6-4042-a336-97b7aeaf64a2",
   "metadata": {
    "tags": []
   },
   "outputs": [],
   "source": [
    "XAU15M_121322_012723_test.df[XAU15M_121322_012723_test.df.time.dt.date == datetime.date(2022,11,16)]"
   ]
  },
  {
   "cell_type": "code",
   "execution_count": null,
   "id": "498fa53c-3311-4fab-b9e7-5f4f2941996c",
   "metadata": {
    "tags": []
   },
   "outputs": [],
   "source": [
    "XAU15M_121322_012723_test.df.loc[7097:7100]"
   ]
  },
  {
   "cell_type": "code",
   "execution_count": null,
   "id": "f5a47b09-35d7-4d4e-a333-e9dd1d786dd5",
   "metadata": {},
   "outputs": [],
   "source": [
    "a = 7097"
   ]
  },
  {
   "cell_type": "code",
   "execution_count": null,
   "id": "ae489655-a13a-4a04-947a-0d914057d7f8",
   "metadata": {},
   "outputs": [],
   "source": [
    "XAU15M_121322_012723_test.graph_Sample(a-100, a+20)"
   ]
  },
  {
   "cell_type": "code",
   "execution_count": null,
   "id": "eb01d534-07ea-42c9-bfc5-6982877589de",
   "metadata": {
    "tags": []
   },
   "outputs": [],
   "source": [
    "XAU15M_121322_012723_test.df.time"
   ]
  },
  {
   "cell_type": "code",
   "execution_count": null,
   "id": "49fa4353-93bd-4991-9668-e1fd2bde985c",
   "metadata": {},
   "outputs": [],
   "source": []
  },
  {
   "cell_type": "code",
   "execution_count": null,
   "id": "1638d233-099d-4c97-bc1b-ec45696570aa",
   "metadata": {
    "tags": []
   },
   "outputs": [],
   "source": [
    "a = 592\n",
    "XAU15M_121322_012723_test.graph_Sample(a -100, a+20)"
   ]
  },
  {
   "cell_type": "code",
   "execution_count": null,
   "id": "02611049-e1b2-4929-9945-7c3bde31e59d",
   "metadata": {},
   "outputs": [],
   "source": [
    "XAU15M_0822_0223_TDVIEW_test_saved = [XAU15M_121322_012723_test]"
   ]
  },
  {
   "cell_type": "code",
   "execution_count": null,
   "id": "55c5e36b-220f-4458-addc-62aa8f436cb2",
   "metadata": {},
   "outputs": [],
   "source": [
    "%store XAU15M_0822_0223_TDVIEW_test_saved\n",
    "exit"
   ]
  },
  {
   "cell_type": "code",
   "execution_count": null,
   "id": "3a6288c5-6a20-4dc1-87df-94d180b719cb",
   "metadata": {},
   "outputs": [],
   "source": [
    "XAU15M_121322_012723_test.result_Buy"
   ]
  },
  {
   "cell_type": "code",
   "execution_count": null,
   "id": "bbe058b1-1186-4162-8b91-556fb8e2c13f",
   "metadata": {
    "tags": []
   },
   "outputs": [],
   "source": []
  },
  {
   "cell_type": "markdown",
   "id": "989b6881-f765-49d9-b5cb-34d947de8ca4",
   "metadata": {
    "tags": []
   },
   "source": [
    "## GBPJPY"
   ]
  },
  {
   "cell_type": "markdown",
   "id": "539cb34a-3d65-4e35-a3fb-1e11733ae2d1",
   "metadata": {
    "tags": []
   },
   "source": [
    "### 15 Min"
   ]
  },
  {
   "cell_type": "markdown",
   "id": "a4ddac1e-07a1-4352-a2b1-bc18f6ba81a7",
   "metadata": {
    "tags": []
   },
   "source": [
    "#### Tradng View Data"
   ]
  },
  {
   "cell_type": "code",
   "execution_count": null,
   "id": "2281a54c-b765-4717-834f-c1c5676ec28a",
   "metadata": {},
   "outputs": [],
   "source": [
    "GJ15M_0822_0223 = pd.read_csv(\"D:/Data/Forex/GBPJPY/OANDA_GBPJPY, 15, 0922_0223.csv\")"
   ]
  },
  {
   "cell_type": "code",
   "execution_count": null,
   "id": "2013758f-7815-4c07-ab1a-bc14bb2c144c",
   "metadata": {},
   "outputs": [],
   "source": [
    "GJ15M_0822_0223_test = TradingTest(GJ15M_0822_0223,pipRetMulti=100)"
   ]
  },
  {
   "cell_type": "code",
   "execution_count": null,
   "id": "fdc77bb4-b9cf-4e34-9851-db60b697b5c4",
   "metadata": {
    "tags": []
   },
   "outputs": [],
   "source": [
    "GJ15M_0822_0223_test.gen_pivot(5,5)"
   ]
  },
  {
   "cell_type": "code",
   "execution_count": null,
   "id": "24efd79b-bd6e-455f-a186-7718f83629ea",
   "metadata": {
    "tags": []
   },
   "outputs": [],
   "source": [
    "GJ15M_0822_0223_test.gen_divSignal2(50)"
   ]
  },
  {
   "cell_type": "code",
   "execution_count": null,
   "id": "8127dcab-83b5-48c9-abd7-c5d76c2be515",
   "metadata": {},
   "outputs": [],
   "source": [
    "GJ15M_0822_0223_test.df['pivot10bar'] = GJ15M_0822_0223_test.df.apply(lambda row: pivotid(GJ15M_0822_0223_test.df, row.name, 10, 10), axis=1)"
   ]
  },
  {
   "cell_type": "code",
   "execution_count": null,
   "id": "0dbd0126-da72-4104-88b5-43814ceea85b",
   "metadata": {},
   "outputs": [],
   "source": [
    "(GJ15M_0822_0223_test.df['pivot10bar']).value_counts()"
   ]
  },
  {
   "cell_type": "code",
   "execution_count": null,
   "id": "34c7e7b9-8dea-4ab0-98af-36f2dc351f0a",
   "metadata": {},
   "outputs": [],
   "source": [
    "GJ15M_0822_0223_test.df.divSignal2MACD.value_counts()"
   ]
  },
  {
   "cell_type": "code",
   "execution_count": null,
   "id": "47887cda-8136-4749-95dc-9bda6c955787",
   "metadata": {},
   "outputs": [],
   "source": [
    "sellresult, sellstat = falsebreak_wDiv_test_ver2(GJ15M_0822_0223_test.df,side = 'sell',fwdCandle =10,ATR_surpass=0.3)\n",
    "buyresult, buystat = falsebreak_wDiv_test_ver2(GJ15M_0822_0223_test.df,side = 'buy',fwdCandle =10,ATR_surpass=0.3)\n"
   ]
  },
  {
   "cell_type": "code",
   "execution_count": null,
   "id": "049eef5c-fb20-4799-b7e0-6b39fec8b2c9",
   "metadata": {
    "tags": []
   },
   "outputs": [],
   "source": [
    "sellstat"
   ]
  },
  {
   "cell_type": "code",
   "execution_count": null,
   "id": "ab710f2b-c2ce-421f-9b46-f42badf8debc",
   "metadata": {},
   "outputs": [],
   "source": [
    "sellresult"
   ]
  },
  {
   "cell_type": "code",
   "execution_count": null,
   "id": "8d13f139-2e16-41bb-b576-5df97ac055cb",
   "metadata": {},
   "outputs": [],
   "source": [
    "a = 7621\n",
    "GJ15M_0822_0223_test.graph_Sample(a-100, a+20)"
   ]
  },
  {
   "cell_type": "code",
   "execution_count": null,
   "id": "98e3628d-d8a8-4ebc-9e93-5e2edd5eb162",
   "metadata": {},
   "outputs": [],
   "source": [
    "self.df['pivot'] = self.df.apply(lambda x: pivotid(self.df, x.name, startRange, endRange), axis=1)"
   ]
  },
  {
   "cell_type": "code",
   "execution_count": null,
   "id": "d1b44b4d-4610-4c5e-8cf5-90265d2054a9",
   "metadata": {},
   "outputs": [],
   "source": [
    "GJ15M_0822_0223_test_tdview_saved = [GJ15M_0822_0223_test]"
   ]
  },
  {
   "cell_type": "code",
   "execution_count": null,
   "id": "16aac1ee-dbe1-4c07-8d5e-ddb455a193a4",
   "metadata": {},
   "outputs": [],
   "source": [
    "%store GJ15M_0822_0223_test_tdview_saved\n",
    "exit"
   ]
  },
  {
   "cell_type": "code",
   "execution_count": null,
   "id": "371996fc-38c4-485c-9ebf-32d7adb5a0ca",
   "metadata": {
    "tags": []
   },
   "outputs": [],
   "source": [
    "GJ15M_0822_0223_test.test_falseBreakSig2MACD(ATR_surpass=0.5, div_signal = 'no',ATR_commpare_range=1)"
   ]
  },
  {
   "cell_type": "code",
   "execution_count": null,
   "id": "204503a4-abaa-4edf-baf9-1bc784ca7801",
   "metadata": {},
   "outputs": [],
   "source": [
    "GJ15M_0822_0223_test.df"
   ]
  },
  {
   "cell_type": "code",
   "execution_count": null,
   "id": "e65a9b89-d0d6-4971-bf3a-4fa36a873c32",
   "metadata": {},
   "outputs": [],
   "source": [
    "GJ15M_0822_0223_test.df.time = GJ15M_0822_0223_test.df.time.astype('datetime64')"
   ]
  },
  {
   "cell_type": "code",
   "execution_count": null,
   "id": "653aa6a7-9ed8-462f-9dcf-5f4ce57bfba1",
   "metadata": {},
   "outputs": [],
   "source": [
    "GJ15M_0822_0223_test.df.time[GJ15M_0822_0223_test.df.time == datetime.datetime(2022,11,16,11,30)]"
   ]
  },
  {
   "cell_type": "code",
   "execution_count": null,
   "id": "8970c3ef-9e41-4f0a-98dd-0de1880db32b",
   "metadata": {},
   "outputs": [],
   "source": [
    "GJ15M_0822_0223_test.df.loc[5080]"
   ]
  },
  {
   "cell_type": "code",
   "execution_count": null,
   "id": "02792204-c8b7-46dc-bb78-551dcd738b07",
   "metadata": {},
   "outputs": [],
   "source": [
    "a = 5072   \n",
    "GJ15M_0822_0223_test.graph_Sample(a -120, a+20)"
   ]
  },
  {
   "cell_type": "code",
   "execution_count": null,
   "id": "be7b77c1-fd0d-4c64-8444-854fc45960d3",
   "metadata": {
    "tags": []
   },
   "outputs": [],
   "source": [
    "GJ15M_0822_0223_test.test_falseBreakSig2MACD(ATR_surpass=0.3)"
   ]
  },
  {
   "cell_type": "code",
   "execution_count": null,
   "id": "8d09833e-caf7-4b45-b193-23d96b881911",
   "metadata": {},
   "outputs": [],
   "source": [
    "GJ15M_0822_0223_test.result_Sell"
   ]
  },
  {
   "cell_type": "code",
   "execution_count": null,
   "id": "17ecc2bd-e02a-4b8c-9ab3-db5e7dca772b",
   "metadata": {},
   "outputs": [],
   "source": [
    "a = 3223\n",
    "GJ15M_0822_0223_test.graph_Sample(a-100, a+20)"
   ]
  },
  {
   "cell_type": "code",
   "execution_count": null,
   "id": "91e10165-3df0-4301-ae82-ab44ad8f2211",
   "metadata": {
    "tags": []
   },
   "outputs": [],
   "source": [
    "GJ15M_0822_0223_statB"
   ]
  },
  {
   "cell_type": "code",
   "execution_count": null,
   "id": "3d84a843-dffe-4acb-96c5-bdc21971d47f",
   "metadata": {
    "tags": []
   },
   "outputs": [],
   "source": [
    "GJ15M_0822_0223_resultB.tail(5)"
   ]
  },
  {
   "cell_type": "code",
   "execution_count": null,
   "id": "23115bf9-4548-4048-9c3b-51c66a27b6fe",
   "metadata": {
    "tags": []
   },
   "outputs": [],
   "source": [
    "GJ15M_0822_0223_test.graph_init_Sample(5829,5939,height=1500)"
   ]
  },
  {
   "cell_type": "code",
   "execution_count": null,
   "id": "a47a0fc7-e47d-4dcc-8bff-572fa8851b63",
   "metadata": {
    "tags": []
   },
   "outputs": [],
   "source": [
    "GJ15M_0822_0223_resultAll = GetResultAll(GJ15M_0822_0223_resultS,GJ15M_0822_0223_resultB)\n",
    "GJ15M_0822_0223_stattAll = GetStatAll(GJ15M_0822_0223_resultAll)\n",
    "GJ15M_0822_0223_stattAll"
   ]
  },
  {
   "cell_type": "code",
   "execution_count": null,
   "id": "700710ab-2aff-4f84-a2dc-1f87d0773636",
   "metadata": {},
   "outputs": [],
   "source": [
    "Plot_csPipReturn(GJ15M_0822_0223_resultAll,'All',2,'All')"
   ]
  },
  {
   "cell_type": "code",
   "execution_count": null,
   "id": "854ab463-f0ca-4235-9834-259debab2865",
   "metadata": {},
   "outputs": [],
   "source": [
    "print(os.listdir(\"D:/Data/Forex/GBPJPY/\"))"
   ]
  },
  {
   "cell_type": "code",
   "execution_count": null,
   "id": "246da6ab-136c-4c27-96f8-3c49e73153ce",
   "metadata": {},
   "outputs": [],
   "source": [
    "GJ15M_20_23 = pd.read_csv(\"D:/Data/Forex/GBPJPY/DUKAS_GBPJPY_Candlestick_15_M_BID_01.10.2020-01.01.2023.csv\")"
   ]
  },
  {
   "cell_type": "code",
   "execution_count": null,
   "id": "c25c5f44-0a7c-42a6-9fd0-dc0d6689b5ce",
   "metadata": {},
   "outputs": [],
   "source": [
    "GJ15M_20_23['Gmt time'] = pd.to_datetime(GJ15M_20_23['Gmt time'])"
   ]
  },
  {
   "cell_type": "code",
   "execution_count": null,
   "id": "112cf71e-cf2f-418e-9fd0-cfebeedc195f",
   "metadata": {},
   "outputs": [],
   "source": [
    "GJ15M_2020 = GJ15M_20_23[GJ15M_20_23['Gmt time'] < '2021-1-1']\n",
    "GJ15M_2021 = GJ15M_20_23[(GJ15M_20_23['Gmt time'] > '2021-1-1') &  (GJ15M_20_23['Gmt time'] < '2022-1-1')]\n",
    "GJ15M_2022 = GJ15M_20_23[GJ15M_20_23['Gmt time'] >= '2022-1-1']"
   ]
  },
  {
   "cell_type": "code",
   "execution_count": null,
   "id": "9d1a94ec-2923-41a4-8920-d454d666ab40",
   "metadata": {},
   "outputs": [],
   "source": [
    "GJ15M_2021[GJ15M_2021['Gmt time'] == '2021-11-18']"
   ]
  },
  {
   "cell_type": "code",
   "execution_count": null,
   "id": "3960bf4a-5bae-424c-bc0b-85cf4effe9ed",
   "metadata": {
    "tags": []
   },
   "outputs": [],
   "source": [
    "GJ15M_20_23_statS"
   ]
  },
  {
   "cell_type": "markdown",
   "id": "808bcdfc-6532-41f7-8232-70bd55249b0c",
   "metadata": {
    "tags": []
   },
   "source": [
    "#### DUKASCOPY DATA"
   ]
  },
  {
   "cell_type": "markdown",
   "id": "41da3391-fb56-4782-b772-b5924dd0ec66",
   "metadata": {
    "tags": []
   },
   "source": [
    "##### 2022-2023"
   ]
  },
  {
   "cell_type": "code",
   "execution_count": null,
   "id": "e41472f5-9de3-4ecc-bd70-a9d09113455f",
   "metadata": {
    "tags": []
   },
   "outputs": [],
   "source": [
    "GJ15M_0122_0223 = pd.read_csv('D:Data/Forex/GBPJPY/DUKAS_GBPJPY_Candlestick_15_M_BID_01.01.2022-09.02.2023.csv')\n",
    "GJ15M_0122_0223['Local time'] = pd.to_datetime(GJ15M_0122_0223['Local time'], dayfirst = True )\n",
    "GJ15M_0122_0223 = GJ15M_0122_0223.sort_values(by = 'Local time')\n",
    "GJ15M_0122_0223.reset_index(drop = True)"
   ]
  },
  {
   "cell_type": "code",
   "execution_count": null,
   "id": "fb245fa6-4e52-45f9-acb3-1d29d211a34f",
   "metadata": {
    "tags": []
   },
   "outputs": [],
   "source": [
    "GJ15M_0122_0223.tail(10)"
   ]
  },
  {
   "cell_type": "markdown",
   "id": "1373f37b-314f-4b0f-87cd-9f428d11e65b",
   "metadata": {
    "tags": []
   },
   "source": [
    "###### 1st Half"
   ]
  },
  {
   "cell_type": "code",
   "execution_count": null,
   "id": "c57e6e32-ebe6-47f8-a6b2-01b50bc5d108",
   "metadata": {},
   "outputs": [],
   "source": [
    "GJ15M_0122_0223_H1 = GJ15M_0122_0223.iloc[0:round(len(GJ15M_0122_0223)/2)].reset_index(drop = True)"
   ]
  },
  {
   "cell_type": "code",
   "execution_count": null,
   "id": "8e8e8cac-4263-411b-a0f1-28c543941029",
   "metadata": {
    "tags": []
   },
   "outputs": [],
   "source": [
    "GJ15M_0122_0223_H1_test = TradingTest(GJ15M_0122_0223_H1,100)"
   ]
  },
  {
   "cell_type": "code",
   "execution_count": null,
   "id": "44d3f690-7d69-41aa-8f32-d6d0b06bec18",
   "metadata": {},
   "outputs": [],
   "source": [
    "GJ15M_0122_0223_H1_test.gen_pivot(10,10)"
   ]
  },
  {
   "cell_type": "code",
   "execution_count": null,
   "id": "87d79ffa-7aed-4248-a464-5cb4dd3d65d5",
   "metadata": {},
   "outputs": [],
   "source": [
    "GJ15M_0122_0223_H1_test.gen_divSignal2(100,10)"
   ]
  },
  {
   "cell_type": "code",
   "execution_count": null,
   "id": "76f57e06-893f-4971-b548-eb80ffc2f836",
   "metadata": {},
   "outputs": [],
   "source": [
    "GJ15M_0122_0223_H1_test.test_falseBreakSig2MACD(ATR_surpass=0.3)"
   ]
  },
  {
   "cell_type": "code",
   "execution_count": null,
   "id": "a8f8f9d9-dbd6-4462-8d2c-985f69b9b0ea",
   "metadata": {},
   "outputs": [],
   "source": [
    "GJ15M_0122_0223_H1_test.plot_PipReturn()"
   ]
  },
  {
   "cell_type": "code",
   "execution_count": null,
   "id": "d4f1e949-ad01-4867-945b-02265edb9199",
   "metadata": {
    "tags": []
   },
   "outputs": [],
   "source": [
    "GJ15M_0122_0223_H1_test.result_Sell"
   ]
  },
  {
   "cell_type": "code",
   "execution_count": null,
   "id": "47612fba-1f6d-4312-9a41-27797a0cbff3",
   "metadata": {
    "tags": []
   },
   "outputs": [],
   "source": [
    "a = 6752\n",
    "GJ15M_0122_0223_H1_test.graph_Sample(a-100, a+25)"
   ]
  },
  {
   "cell_type": "markdown",
   "id": "6cfca6d5-bc62-4b7d-9684-89929ed15527",
   "metadata": {
    "tags": []
   },
   "source": [
    "###### 2nd Half"
   ]
  },
  {
   "cell_type": "code",
   "execution_count": null,
   "id": "654dc542-de2f-47be-b759-1775bd80dcd0",
   "metadata": {},
   "outputs": [],
   "source": [
    "GJ15M_0122_0223_H2 = GJ15M_0122_0223.iloc[-round(len(GJ15M_0122_0223)/2):].reset_index(drop = True)"
   ]
  },
  {
   "cell_type": "code",
   "execution_count": null,
   "id": "cd3fdca6-3f9e-4ed9-bc79-f74117e6483e",
   "metadata": {
    "tags": []
   },
   "outputs": [],
   "source": [
    "GJ15M_0122_0223_H2_test = TradingTest(GJ15M_0122_0223_H2,100)"
   ]
  },
  {
   "cell_type": "code",
   "execution_count": null,
   "id": "51288abf-ad13-4308-9656-eeda38717f1f",
   "metadata": {},
   "outputs": [],
   "source": [
    "GJ15M_0122_0223_H2_test.gen_pivot(10,10)"
   ]
  },
  {
   "cell_type": "code",
   "execution_count": null,
   "id": "6b032f66-70a3-47e2-b35e-fb511b3daf0b",
   "metadata": {
    "tags": []
   },
   "outputs": [],
   "source": [
    "GJ15M_0122_0223_H2_test.df[GJ15M_0122_0223_H2_test.df['local time'].dt.date == datetime.date(2022,8,22)]"
   ]
  },
  {
   "cell_type": "code",
   "execution_count": null,
   "id": "b4a320e1-48b4-4ab0-a4fb-0ce86c4a740b",
   "metadata": {
    "tags": []
   },
   "outputs": [],
   "source": [
    "GJ15M_0122_0223_H2_test.df.loc[2031]"
   ]
  },
  {
   "cell_type": "code",
   "execution_count": null,
   "id": "4001a4b8-f7aa-429c-a01d-b4b31bb4045c",
   "metadata": {
    "tags": []
   },
   "outputs": [],
   "source": [
    "a = 2070\n",
    "GJ15M_0122_0223_H2_test.graph_Sample(a-200, a+20,CurrHigh=False, CurrLow= False)"
   ]
  },
  {
   "cell_type": "code",
   "execution_count": null,
   "id": "378a8fbd-a76a-4e7a-ab72-49e77d6cae48",
   "metadata": {},
   "outputs": [],
   "source": [
    "GJ15M_0122_0223_H2_test.gen_divSignal2(100,10)"
   ]
  },
  {
   "cell_type": "code",
   "execution_count": null,
   "id": "7d9c27d9-0430-4c5d-ad61-42cfe700fa8f",
   "metadata": {},
   "outputs": [],
   "source": [
    "GJ15M_0122_0223_H2_test.test_falseBreakSig2MACD(ATR_surpass=0.3)"
   ]
  },
  {
   "cell_type": "code",
   "execution_count": null,
   "id": "4be0991b-0638-4dac-a74d-9310cf1bafe0",
   "metadata": {},
   "outputs": [],
   "source": [
    "GJ15M_0122_0223_H2_test.result_Sell"
   ]
  },
  {
   "cell_type": "code",
   "execution_count": null,
   "id": "13fdec16-da6a-4c55-9830-f2102d69b710",
   "metadata": {},
   "outputs": [],
   "source": [
    "GJ15M_0122_0223_H2_test.graph_Sample(3455 -100, 3455+20)"
   ]
  },
  {
   "cell_type": "markdown",
   "id": "1e719795-cfcf-4107-a373-f3026d93d6c1",
   "metadata": {
    "tags": []
   },
   "source": [
    "#### 2020"
   ]
  },
  {
   "cell_type": "code",
   "execution_count": null,
   "id": "747f5e41-c851-467f-a804-749fd5ceedf0",
   "metadata": {
    "tags": []
   },
   "outputs": [],
   "source": [
    "GJ15M_2020_test = TradingTest(GJ15M_2020.reset_index().drop(columns = ['index']), pipRetMulti = 100)"
   ]
  },
  {
   "cell_type": "code",
   "execution_count": null,
   "id": "9dc172f2-01d9-49f5-be0d-448fe3500f1f",
   "metadata": {
    "tags": []
   },
   "outputs": [],
   "source": [
    "GJ15M_2020_test.gen_pivot(5,5)\n",
    "GJ15M_2020_test.gen_divSignal2(30)\n",
    "GJ15M_2020_test.df.divSignal2MACD.value_counts()"
   ]
  },
  {
   "cell_type": "code",
   "execution_count": null,
   "id": "1410f9d5-2834-4cd8-88b7-59fc69c215ba",
   "metadata": {
    "tags": []
   },
   "outputs": [],
   "source": [
    "GJ15M_2020_resultS, GJ15M_2020_statS = falsebreak_wDiv_test(GJ15M_2020_test.df,side = 'sell', \n",
    "                                                             elim_cons_trade = True , falsebreak_bar= 1, ATR_surpass= 0.0)\n",
    "GJ15M_2020_resultB, GJ15M_2020_statB = falsebreak_wDiv_test(GJ15M_2020_test.df,side = 'buy', \n",
    "                                                             elim_cons_trade = True , falsebreak_bar= 1, ATR_surpass= 0.0)\n",
    "GJ15M_2020_resultAll = GetResultAll(GJ15M_2020_resultS,GJ15M_2020_resultB)\n",
    "GJ15M_2020_statAll = Get_statAll(GJ15M_2020_resultAll)"
   ]
  },
  {
   "cell_type": "code",
   "execution_count": null,
   "id": "7ea9b081-bc3b-481d-9c3e-cce9caeceea6",
   "metadata": {},
   "outputs": [],
   "source": [
    "Plot_csPipReturn(GJ15M_2020_resultAll,side = 'All',spread  = 2, return_bar= 'All')"
   ]
  },
  {
   "cell_type": "code",
   "execution_count": null,
   "id": "a4ca3553-a45d-421b-aece-e54f666b93cb",
   "metadata": {
    "tags": []
   },
   "outputs": [],
   "source": [
    "Plot_csPipReturn(GJ15M_2020_resultS, side = 'sell', spread = 2, return_bar = 'All')\n",
    "Plot_csPipReturn(GJ15M_2020_resultB, side = 'buy', spread = 2, return_bar = 'All')"
   ]
  },
  {
   "cell_type": "markdown",
   "id": "4baaa73d-49ec-458e-ba6a-da4e8d6709c3",
   "metadata": {
    "jp-MarkdownHeadingCollapsed": true,
    "tags": [],
    "toc-hr-collapsed": true
   },
   "source": [
    "#### 2021"
   ]
  },
  {
   "cell_type": "code",
   "execution_count": null,
   "id": "377e6dbd-8946-4419-bd52-615c4a6c5fca",
   "metadata": {
    "tags": []
   },
   "outputs": [],
   "source": [
    "GJ15M_2021_test = TradingTest(GJ15M_2021.reset_index().drop(columns = ['index']), pipRetMulti = 100)"
   ]
  },
  {
   "cell_type": "code",
   "execution_count": null,
   "id": "118b519b-eddd-4d39-8dd9-3acdf6390fce",
   "metadata": {
    "tags": []
   },
   "outputs": [],
   "source": [
    "test = TradingTest(GJ15M_2021, pipRetMulti = 100)"
   ]
  },
  {
   "cell_type": "code",
   "execution_count": null,
   "id": "ef286b43-81e7-48ef-a44d-f0c13ae8d6ca",
   "metadata": {},
   "outputs": [],
   "source": [
    "test.df"
   ]
  },
  {
   "cell_type": "code",
   "execution_count": null,
   "id": "26781c30-5cc5-4144-a0d4-725894e04d19",
   "metadata": {},
   "outputs": [],
   "source": [
    "test.df.columns"
   ]
  },
  {
   "cell_type": "code",
   "execution_count": null,
   "id": "90ac3c65-5995-42df-b977-329e8aa41d3b",
   "metadata": {
    "tags": []
   },
   "outputs": [],
   "source": [
    "GJ15M_2021_test.gen_pivot(5,5)\n",
    "GJ15M_2021_test.gen_divSignal2(30)\n",
    "GJ15M_2021_test.df.divSignal2MACD.value_counts()"
   ]
  },
  {
   "cell_type": "code",
   "execution_count": null,
   "id": "872248dc-2b21-4a97-a063-08980885bfa6",
   "metadata": {
    "tags": []
   },
   "outputs": [],
   "source": [
    "GJ15M_2021_resultS, GJ15M_2021_statS = falsebreak_wDiv_test(GJ15M_2021_test.df,side = 'sell', \n",
    "                                                             elim_cons_trade = True , falsebreak_bar= 1, ATR_surpass= 0.0)\n",
    "GJ15M_2021_resultB, GJ15M_2021_statB = falsebreak_wDiv_test(GJ15M_2021_test.df,side = 'buy', \n",
    "                                                             elim_cons_trade = True , falsebreak_bar= 1, ATR_surpass= 0.0)\n",
    "GJ15M_2021_resultAll = GetResultAll(GJ15M_2021_resultS,GJ15M_2021_resultB)\n",
    "GJ15M_2021_statAll = Get_statAll(GJ15M_2021_resultAll)"
   ]
  },
  {
   "cell_type": "code",
   "execution_count": null,
   "id": "1fb2793d-d3d3-4f3e-ba23-f1e7f0d97822",
   "metadata": {},
   "outputs": [],
   "source": [
    "GJ15M_2021_statAll"
   ]
  },
  {
   "cell_type": "code",
   "execution_count": null,
   "id": "b0f72547-b4c6-4643-b20f-232e1f6dfec9",
   "metadata": {},
   "outputs": [],
   "source": [
    "Plot_csPipReturn(GJ15M_2021_resultAll,side = 'All',spread  = 2, return_bar= 'All')"
   ]
  },
  {
   "cell_type": "code",
   "execution_count": null,
   "id": "7bae365a-454a-4231-bf4e-55f4d2be1b22",
   "metadata": {},
   "outputs": [],
   "source": [
    "dfpl = GJ15M_2021_resultAll\n",
    "fig = make_subplots()       \n",
    "fig.append_trace(go.Scatter(x=dfpl.index,y=dfpl['PipReturn_20bar_cumsum']), row = 1, col = 1)\n",
    "# fig.add_scatter(x = GJ1H_18_23_resultAll.iloc[138:]['gmt time'], y= GJ1H_18_23_resultAll.iloc[138:]['PipReturn_20bar_cumsum'],mode=\"markers\",\n",
    "#                             marker=dict(size=4, color=\"MediumPurple\"),name=\"pivot\", row=2, col=1)\n",
    "       \n",
    "            \n",
    "fig.update_layout(xaxis_rangeslider_visible= False, width= 1000 ,height= 600,margin=dict(l=50,r=50,b=100,t=100,pad=4))"
   ]
  },
  {
   "cell_type": "code",
   "execution_count": null,
   "id": "a399c3fc-8346-423c-92c0-e5a4cd747bf3",
   "metadata": {},
   "outputs": [],
   "source": [
    "GJ15M_2021_resultAll.iloc[313]"
   ]
  },
  {
   "cell_type": "code",
   "execution_count": null,
   "id": "aadae8f7-a308-4763-abdf-4d64651f4f8f",
   "metadata": {},
   "outputs": [],
   "source": [
    "GJ15M_2021[GJ15M_2021['Gmt time'] >= '2021-11-1']"
   ]
  },
  {
   "cell_type": "code",
   "execution_count": null,
   "id": "daa01775-7d6e-45c7-9a70-5dda2782f23e",
   "metadata": {},
   "outputs": [],
   "source": [
    "pd.set_option('display.max_rows', None)\n"
   ]
  },
  {
   "cell_type": "code",
   "execution_count": null,
   "id": "2674dd48-6ce6-4907-aec0-e255ba7afc2d",
   "metadata": {
    "tags": []
   },
   "outputs": [],
   "source": [
    "GJ15M_2021.loc[24170:]"
   ]
  },
  {
   "cell_type": "code",
   "execution_count": null,
   "id": "1069d065-2f21-4cd6-af10-b6cd6c98893b",
   "metadata": {},
   "outputs": [],
   "source": [
    "GJ15M_2021[(GJ15M_2021['Gmt time'] == '2021-11-18 23:30:00')]"
   ]
  },
  {
   "cell_type": "code",
   "execution_count": null,
   "id": "eeb0f07c-a03e-49ef-87f3-e30aee7de457",
   "metadata": {},
   "outputs": [],
   "source": [
    "GJ15M_2021.loc[24260]"
   ]
  },
  {
   "cell_type": "code",
   "execution_count": null,
   "id": "2a011e37-7443-4fb6-a980-bfbc8b187e6a",
   "metadata": {},
   "outputs": [],
   "source": [
    "GJ15M_2021_test.graph_init_Sample(20820,20920,RSIpp= False, RSI= False, height=2000)"
   ]
  },
  {
   "cell_type": "code",
   "execution_count": null,
   "id": "a00de608-36ad-4d89-ad0f-34e5bc3e582c",
   "metadata": {
    "tags": []
   },
   "outputs": [],
   "source": [
    "Plot_csPipReturn(GJ15M_2021_resultS, side = 'sell', spread = 2, return_bar = 'All')\n",
    "Plot_csPipReturn(GJ15M_2021_resultB, side = 'buy', spread = 2, return_bar = 'All')"
   ]
  },
  {
   "cell_type": "code",
   "execution_count": null,
   "id": "1663febb-8854-4a85-bce3-2b7a07be7d4e",
   "metadata": {},
   "outputs": [],
   "source": []
  },
  {
   "cell_type": "markdown",
   "id": "e94dee85-5ce2-4e93-9eea-a42181503c17",
   "metadata": {
    "tags": []
   },
   "source": [
    "### 1 hour"
   ]
  },
  {
   "cell_type": "code",
   "execution_count": null,
   "id": "d8ed1331-fe51-418f-af7d-fdc63295e945",
   "metadata": {},
   "outputs": [],
   "source": [
    "print(os.listdir(\"D:/Data/Forex/GBPJPY/\"))"
   ]
  },
  {
   "cell_type": "code",
   "execution_count": null,
   "id": "1deabacd-4fb4-482e-9e06-8a7c423e1fb6",
   "metadata": {},
   "outputs": [],
   "source": [
    "GJ1H_15_23 = pd.read_csv(\"D:/Data/Forex/GBPJPY/DUKAS_GBPJPY_Candlestick_1_Hour_BID_01.01.2015-14.01.2023.csv\")"
   ]
  },
  {
   "cell_type": "code",
   "execution_count": null,
   "id": "9e8a6384-ce8d-49c4-a426-d33c83f071f9",
   "metadata": {},
   "outputs": [],
   "source": [
    "GJ1H_15_23['Gmt time'] = pd.to_datetime(GJ1H_15_23['Gmt time'])"
   ]
  },
  {
   "cell_type": "code",
   "execution_count": null,
   "id": "4bcfc43c-d028-458d-8ad9-fb92bd77d20d",
   "metadata": {},
   "outputs": [],
   "source": [
    "GJ1H_15_18 = GJ1H_15_23[GJ1H_15_23['Gmt time'] < '2019-1-1']\n",
    "GJ1H_18_23 = GJ1H_15_23[GJ1H_15_23['Gmt time'] >= '2019-1-1']"
   ]
  },
  {
   "cell_type": "markdown",
   "id": "baf31beb-fbf8-4e03-845a-65f84b342e90",
   "metadata": {},
   "source": [
    "#### OANDA_TDV 2021-2023"
   ]
  },
  {
   "cell_type": "code",
   "execution_count": null,
   "id": "eb272159-7171-4f15-9b55-2186f5a0bdeb",
   "metadata": {},
   "outputs": [],
   "source": [
    "GJ1H_21_23 = pd.read_csv(\"D:/Data/Forex/GBPJPY/OANDA_GBPJPY, 60, 0121_0223.csv\")"
   ]
  },
  {
   "cell_type": "code",
   "execution_count": null,
   "id": "6d5fada6-8f38-4b1b-bb77-5a651af9a00d",
   "metadata": {},
   "outputs": [],
   "source": [
    "GJ1H_21_23_test = TradingTest(GJ1H_21_23.reset_index(drop = True), pipRetMulti = 100)"
   ]
  },
  {
   "cell_type": "code",
   "execution_count": null,
   "id": "740cc318-b257-4c1e-848b-ec84800d8022",
   "metadata": {},
   "outputs": [],
   "source": [
    "GJ1H_21_23_test.gen_pivot(10,10)\n"
   ]
  },
  {
   "cell_type": "code",
   "execution_count": null,
   "id": "81e187fc-2d14-4734-a263-985b9c28d22e",
   "metadata": {
    "tags": []
   },
   "outputs": [],
   "source": [
    "GJ1H_21_23_test.gen_divSignal2(100,10)\n"
   ]
  },
  {
   "cell_type": "code",
   "execution_count": null,
   "id": "71e8ad35-5635-456d-94bd-f34d79f2a8ce",
   "metadata": {},
   "outputs": [],
   "source": [
    "GJ1H_21_23_test.df.divSignal2MACD.value_counts()"
   ]
  },
  {
   "cell_type": "code",
   "execution_count": null,
   "id": "95535fc6-0be2-49a0-876e-a8f8feb02367",
   "metadata": {},
   "outputs": [],
   "source": [
    "GJ1H_21_23_test_resultS, GJ1H_21_23_test_statS = falsebreak_wDiv_test(GJ1H_21_23_test.df,side = 'sell', fwdCandle=10,\n",
    "                                                             elim_cons_trade = True , falsebreak_bar= 0, ATR_surpass= 0.3,\n",
    "                                                             ATR_commpare_range = 0)\n",
    "GJ1H_21_23_test_resultB, GJ1H_21_23_test_statB = falsebreak_wDiv_test(GJ1H_21_23_test.df,side = 'buy', fwdCandle=10,\n",
    "                                                             elim_cons_trade = True , falsebreak_bar= 0, ATR_surpass= 0.3,\n",
    "                                                             ATR_commpare_range = 0)"
   ]
  },
  {
   "cell_type": "code",
   "execution_count": null,
   "id": "8779f542-3b9a-4559-828b-13156b88a420",
   "metadata": {},
   "outputs": [],
   "source": [
    "GJ1H_21_23_test_statS"
   ]
  },
  {
   "cell_type": "code",
   "execution_count": null,
   "id": "28c493f0-3861-4088-9a2d-e1cb9ced3052",
   "metadata": {},
   "outputs": [],
   "source": [
    "GJ1H_21_23_test_statB"
   ]
  },
  {
   "cell_type": "code",
   "execution_count": null,
   "id": "84230371-5e58-437f-aab7-db406c639ba4",
   "metadata": {},
   "outputs": [],
   "source": [
    "GJ1H_21_23_resultAll = GetResultAll(GJ1H_21_23_test_resultS,GJ1H_21_23_test_resultB)\n",
    "GJ1H_21_23_statAll = GetStatAll(GJ1H_21_23_resultAll)"
   ]
  },
  {
   "cell_type": "code",
   "execution_count": null,
   "id": "3c749d96-ca0b-4f13-ac24-857f40da01fb",
   "metadata": {},
   "outputs": [],
   "source": [
    "GJ1H_21_23_statAll"
   ]
  },
  {
   "cell_type": "code",
   "execution_count": null,
   "id": "87c683a5-33e1-462e-802c-27e992fa1f3a",
   "metadata": {},
   "outputs": [],
   "source": [
    "GJ1H_21_23_test_resultS"
   ]
  },
  {
   "cell_type": "code",
   "execution_count": null,
   "id": "4e06a534-7105-40ef-b95c-f4b417d05969",
   "metadata": {},
   "outputs": [],
   "source": [
    "GJ1H_21_23_test.graph_init_Sample(3662,3782, height = 1300)"
   ]
  },
  {
   "cell_type": "markdown",
   "id": "bae03734-fa81-4f7f-af93-35499c053825",
   "metadata": {
    "tags": []
   },
   "source": [
    "#### 2015-2018"
   ]
  },
  {
   "cell_type": "code",
   "execution_count": null,
   "id": "3113274e-d865-4228-b793-459556d7fabf",
   "metadata": {
    "tags": []
   },
   "outputs": [],
   "source": [
    "GJ1H_15_18_test = TradingTest(GJ1H_15_18.reset_index().drop(columns = ['index']), pipRetMulti = 100)"
   ]
  },
  {
   "cell_type": "code",
   "execution_count": null,
   "id": "4aaeb3c2-6445-4628-9a86-0d933ceea93b",
   "metadata": {
    "tags": []
   },
   "outputs": [],
   "source": [
    "GJ1H_15_18_test.df"
   ]
  },
  {
   "cell_type": "code",
   "execution_count": null,
   "id": "cdd9b03b-5c53-4f1d-84df-a5871cdf125a",
   "metadata": {
    "tags": []
   },
   "outputs": [],
   "source": [
    "GJ1H_15_18_test.gen_pivot(5,5)\n",
    "GJ1H_15_18_test.gen_divSignal2(30)\n",
    "GJ1H_15_18_test.df.divSignal2MACD.value_counts()"
   ]
  },
  {
   "cell_type": "code",
   "execution_count": null,
   "id": "9ae04f1f-1f0b-41ac-af6c-e90a1c1ee757",
   "metadata": {
    "tags": []
   },
   "outputs": [],
   "source": [
    "GJ1H_15_18_resultS, GJ1H_15_18_statS = falsebreak_wDiv_test(GJ1H_15_18_test.df,side = 'sell', \n",
    "                                                             elim_cons_trade = True , falsebreak_bar= 1, ATR_surpass= 0.0)\n",
    "GJ1H_15_18_resultB, GJ1H_15_18_statB = falsebreak_wDiv_test(GJ1H_15_18_test.df,side = 'buy', \n",
    "                                                             elim_cons_trade = True , falsebreak_bar= 1, ATR_surpass= 0.0)"
   ]
  },
  {
   "cell_type": "code",
   "execution_count": null,
   "id": "1e27b7d9-6115-41f3-8aa8-4f9f0c142e55",
   "metadata": {
    "tags": []
   },
   "outputs": [],
   "source": [
    "GJ1H_15_18_resultAll = GetResultAll(GJ1H_15_18_resultS,GJ1H_15_18_resultB)\n",
    "GJ1H_15_18_statAll = Get_statAll(GJ1H_15_18_resultAll)"
   ]
  },
  {
   "cell_type": "code",
   "execution_count": null,
   "id": "918f3d3b-ebc2-451e-912f-0bd96e49cb6b",
   "metadata": {
    "tags": []
   },
   "outputs": [],
   "source": [
    "Plot_csPipReturn(GJ1H_15_18_resultAll, side = 'All', spread = 2, return_bar = \"All\",figsize = (15,6))"
   ]
  },
  {
   "cell_type": "code",
   "execution_count": null,
   "id": "e1c8e1db-cd1e-49c4-b800-5a40077cb889",
   "metadata": {},
   "outputs": [],
   "source": [
    "GJ1H_15_18_statAll"
   ]
  },
  {
   "cell_type": "code",
   "execution_count": null,
   "id": "9de6b2ca-e07d-4520-b9dc-1beb164e749d",
   "metadata": {},
   "outputs": [],
   "source": [
    "GJ1H_15_18_resultAll.columns"
   ]
  },
  {
   "cell_type": "code",
   "execution_count": null,
   "id": "83e2b3ed-a15d-46bd-9ac6-6cd743144895",
   "metadata": {},
   "outputs": [],
   "source": [
    "dfpl = GJ1H_15_18_resultAll.iloc[138:]\n",
    "fig = make_subplots()       \n",
    "fig.append_trace(go.Scatter(x=dfpl['gmt time'],y=dfpl['PipReturn_3bar_cumsum']), row = 1, col = 1)\n",
    "# fig.add_scatter(x = GJ1H_15_18_resultAll.iloc[138:]['gmt time'], y= GJ1H_15_18_resultAll.iloc[138:]['PipReturn_20bar_cumsum'],mode=\"markers\",\n",
    "#                             marker=dict(size=4, color=\"MediumPurple\"),name=\"pivot\", row=2, col=1)\n",
    "       \n",
    "            \n",
    "fig.update_layout(xaxis_rangeslider_visible= False, width= 1000 ,height= 600,margin=dict(l=50,r=50,b=100,t=100,pad=4))"
   ]
  },
  {
   "cell_type": "code",
   "execution_count": null,
   "id": "022ffbc2-edf5-40d5-aff2-da27f41ef242",
   "metadata": {},
   "outputs": [],
   "source": [
    "datetime.date(2016,7,7) - datetime.date(2018,12,28)"
   ]
  },
  {
   "cell_type": "code",
   "execution_count": null,
   "id": "c555f978-70e0-4a2f-a32b-266332429748",
   "metadata": {},
   "outputs": [],
   "source": [
    "Plot_csPipReturn(GJ1H_15_18_resultS, side = 'sell', spread = 2, return_bar='All')\n",
    "Plot_csPipReturn(GJ1H_15_18_resultB, side = 'buy', spread = 2, return_bar='All')\n"
   ]
  },
  {
   "cell_type": "markdown",
   "id": "f277f3bf-1f4f-4b7d-a629-abf010a49dbc",
   "metadata": {
    "tags": []
   },
   "source": [
    "#### 2018-2023"
   ]
  },
  {
   "cell_type": "code",
   "execution_count": null,
   "id": "2183eda5-a023-4b6c-a695-35709520c43d",
   "metadata": {
    "tags": []
   },
   "outputs": [],
   "source": [
    "GJ1H_18_23_test = TradingTest(GJ1H_18_23.reset_index().drop(columns = ['index']), pipRetMulti = 100)"
   ]
  },
  {
   "cell_type": "code",
   "execution_count": null,
   "id": "9445181c-00dc-4f76-a121-e04d8593fd69",
   "metadata": {
    "tags": []
   },
   "outputs": [],
   "source": [
    "GJ1H_18_23_test.df"
   ]
  },
  {
   "cell_type": "code",
   "execution_count": null,
   "id": "22ffeb40-79f8-4573-9592-b73975461bf9",
   "metadata": {
    "tags": []
   },
   "outputs": [],
   "source": [
    "GJ1H_18_23_test.gen_pivot(5,5)\n",
    "GJ1H_18_23_test.gen_divSignal2(30)\n",
    "GJ1H_18_23_test.df.divSignal2MACD.value_counts()"
   ]
  },
  {
   "cell_type": "code",
   "execution_count": null,
   "id": "ec31e5ed-6f94-4274-96c8-36351b152397",
   "metadata": {
    "tags": []
   },
   "outputs": [],
   "source": [
    "GJ1H_18_23_resultS, GJ1H_18_23_statS = falsebreak_wDiv_test(GJ1H_18_23_test.df,side = 'sell', \n",
    "                                                             elim_cons_trade = True , falsebreak_bar= 1, ATR_surpass= 0.0)\n",
    "GJ1H_18_23_resultB, GJ1H_18_23_statB = falsebreak_wDiv_test(GJ1H_18_23_test.df,side = 'buy', \n",
    "                                                             elim_cons_trade = True , falsebreak_bar= 1, ATR_surpass= 0.0)"
   ]
  },
  {
   "cell_type": "code",
   "execution_count": null,
   "id": "520c6d4f-9ff1-4d4f-ae4a-a13843502fe0",
   "metadata": {
    "tags": []
   },
   "outputs": [],
   "source": [
    "GJ1H_18_23_resultAll = GetResultAll(GJ1H_18_23_resultS,GJ1H_18_23_resultB)\n",
    "GJ1H_18_23_statAll = Get_statAll(GJ1H_18_23_resultAll)"
   ]
  },
  {
   "cell_type": "code",
   "execution_count": null,
   "id": "ee961ad1-726c-49aa-a9d9-42318c045963",
   "metadata": {
    "tags": []
   },
   "outputs": [],
   "source": [
    "Plot_csPipReturn(GJ1H_18_23_resultAll, side = 'All', spread = 2, return_bar = \"All\",figsize = (15,6))"
   ]
  },
  {
   "cell_type": "code",
   "execution_count": null,
   "id": "a67b708b-14bb-4b14-a477-3e4e9985cad0",
   "metadata": {},
   "outputs": [],
   "source": [
    "GJ1H_18_23_statAll"
   ]
  },
  {
   "cell_type": "code",
   "execution_count": null,
   "id": "2140cdc3-5191-48f7-b2f3-3d98e1e389a2",
   "metadata": {},
   "outputs": [],
   "source": [
    "dfpl = GJ1H_18_23_resultAll\n",
    "fig = make_subplots()       \n",
    "fig.append_trace(go.Scatter(x=dfpl['gmt time'],y=dfpl['PipReturn_20bar_cumsum']), row = 1, col = 1)\n",
    "# fig.add_scatter(x = GJ1H_18_23_resultAll.iloc[138:]['gmt time'], y= GJ1H_18_23_resultAll.iloc[138:]['PipReturn_20bar_cumsum'],mode=\"markers\",\n",
    "#                             marker=dict(size=4, color=\"MediumPurple\"),name=\"pivot\", row=2, col=1)\n",
    "       \n",
    "            \n",
    "fig.update_layout(xaxis_rangeslider_visible= False, width= 1000 ,height= 600,margin=dict(l=50,r=50,b=100,t=100,pad=4))"
   ]
  },
  {
   "cell_type": "code",
   "execution_count": null,
   "id": "10ec3178-f69e-451c-84e6-d26a1a8b6ba2",
   "metadata": {},
   "outputs": [],
   "source": [
    "datetime.date(2016,7,7) - datetime.date(2018,12,28)"
   ]
  },
  {
   "cell_type": "code",
   "execution_count": null,
   "id": "9c1b4f43-2364-419e-a9bc-1eae032a78bb",
   "metadata": {},
   "outputs": [],
   "source": [
    "Plot_csPipReturn(GJ1H_18_23_resultS, side = 'sell', spread = 2, return_bar='All')\n",
    "Plot_csPipReturn(GJ1H_18_23_resultB, side = 'buy', spread = 2, return_bar='All')"
   ]
  },
  {
   "cell_type": "markdown",
   "id": "d37f3e2c-9026-426b-a915-755b8d83dff9",
   "metadata": {},
   "source": [
    "#### --------------"
   ]
  },
  {
   "cell_type": "code",
   "execution_count": null,
   "id": "033f76d5",
   "metadata": {},
   "outputs": [],
   "source": [
    "print(os.listdir(\"D:Data/Forex/GBPJPY/OANDA_GBPJPY, 15, 0922_0223.csv\"))"
   ]
  },
  {
   "cell_type": "code",
   "execution_count": null,
   "id": "29d933ab",
   "metadata": {},
   "outputs": [],
   "source": [
    "gbpjpy_df = pd.read_csv(\"D:Data/Forex/GBPJPY/OANDA_GBPJPY, 15, 0922_0223.csv\")\n",
    "gbpjpy_df.columns = ['Gmt time', 'open', 'high', 'low', 'close', 'Volume']\n",
    "gbpjpy_test = TradingTest(gbpjpy_df)\n",
    "gbpjpy_test.gen_pivot(5,5)"
   ]
  },
  {
   "cell_type": "code",
   "execution_count": null,
   "id": "64fdd308",
   "metadata": {},
   "outputs": [],
   "source": [
    "gbpjpy_test.gen_divSignal2(30)"
   ]
  },
  {
   "cell_type": "code",
   "execution_count": null,
   "id": "09438828",
   "metadata": {},
   "outputs": [],
   "source": [
    "gj_sell_result_dfpl, gj_sell_stat_df = falsebreak_wDiv_test(gbpjpy_test.df, side = 'sell', elim_cons_trade = True , falsebreak_bar= 0, ATR_surpass=0.5)\n",
    "gj_sell_stat_df"
   ]
  },
  {
   "cell_type": "code",
   "execution_count": null,
   "id": "5b14aa6a",
   "metadata": {},
   "outputs": [],
   "source": [
    "gj_sell_result_dfpl['PipReturn_10bar_cumsum'] = (gj_sell_result_dfpl['PipReturn_10bar']+0.2).cumsum()\n",
    "plt.plot(gj_sell_result_dfpl.index, -gj_sell_result_dfpl['PipReturn_10bar_cumsum'])"
   ]
  },
  {
   "cell_type": "code",
   "execution_count": null,
   "id": "2895b6b7",
   "metadata": {},
   "outputs": [],
   "source": [
    "gj_buy_result_dfpl, gj_buy_stat_df = falsebreak_wDiv_test(gbpjpy_test.df, side = 'buy', elim_cons_trade = True , falsebreak_bar= 0, ATR_surpass=0)\n",
    "gj_buy_stat_df"
   ]
  },
  {
   "cell_type": "code",
   "execution_count": null,
   "id": "cbf491e3",
   "metadata": {},
   "outputs": [],
   "source": [
    "gj_buy_result_dfpl['PipReturn_10bar_cumsum'] = (gj_buy_result_dfpl['PipReturn_10bar']-0.2).cumsum()\n",
    "plt.plot(gj_buy_result_dfpl.index, gj_buy_result_dfpl['PipReturn_10bar_cumsum'])"
   ]
  },
  {
   "cell_type": "markdown",
   "id": "ed6a8e89-3f45-4ce1-94d8-143b9b11d980",
   "metadata": {
    "tags": [],
    "toc-hr-collapsed": true
   },
   "source": [
    "## GBPUSD"
   ]
  },
  {
   "cell_type": "code",
   "execution_count": null,
   "id": "555c1600-f41b-413d-818d-62a0349f3bfb",
   "metadata": {},
   "outputs": [],
   "source": [
    "GU15M_0922_0223 = pd.read_csv(\"D:/Data/Forex/GBPUSD/OANDA_GBPUSD, 15, 0922_0223.csv\")\n",
    "GU15M_0922_0223_test = TradingTest(GU15M_0922_0223,10000)"
   ]
  },
  {
   "cell_type": "code",
   "execution_count": null,
   "id": "5f9b8cab-b9e5-4d15-b6a6-46cac7ac0b3b",
   "metadata": {},
   "outputs": [],
   "source": [
    "GU15M_0922_0223_test.gen_pivot(10,10)\n",
    "GU15M_0922_0223_test.gen_divSignal2(100,10)"
   ]
  },
  {
   "cell_type": "code",
   "execution_count": null,
   "id": "42e96937-9664-4b12-b088-08d5079d2a3e",
   "metadata": {},
   "outputs": [],
   "source": [
    "GU15M_0922_0223_test.test_falseBreakSig2MACD(ATR_surpass=0.1)"
   ]
  },
  {
   "cell_type": "code",
   "execution_count": null,
   "id": "36c7498d-e6ce-4f0b-aac3-ac0d77e53adf",
   "metadata": {},
   "outputs": [],
   "source": [
    "GU15M_0922_0223_test.result_Buy"
   ]
  },
  {
   "cell_type": "code",
   "execution_count": null,
   "id": "923eb018-8252-410b-b488-4a0f5a0217a1",
   "metadata": {},
   "outputs": [],
   "source": [
    "GU15M_0922_0223_test.graph_Sample(1776,1887)"
   ]
  },
  {
   "cell_type": "markdown",
   "id": "41c6a224-ff6b-4c52-94fe-e8eb00d49b98",
   "metadata": {
    "tags": [],
    "toc-hr-collapsed": true
   },
   "source": [
    "## NZDJPY\n"
   ]
  },
  {
   "cell_type": "markdown",
   "id": "60be55b8-f1d0-43ba-842b-aa5a2a2aa662",
   "metadata": {},
   "source": [
    "### 15M"
   ]
  },
  {
   "cell_type": "markdown",
   "id": "f3545174-9b1c-4513-9f60-e324e12effe0",
   "metadata": {},
   "source": [
    "#### TradingView data"
   ]
  },
  {
   "cell_type": "code",
   "execution_count": null,
   "id": "900ffd86-7023-4abc-a1c5-c63a9bdbbe82",
   "metadata": {},
   "outputs": [],
   "source": [
    "NJ15M_0922_0223 = pd.read_csv(\"D:/Data/Forex/NZDJPY/OANDA_NZDJPY, 15, 0922_0223.csv\")"
   ]
  },
  {
   "cell_type": "code",
   "execution_count": null,
   "id": "88cd9faa-4bfd-4ad1-b611-04c3b8031482",
   "metadata": {},
   "outputs": [],
   "source": [
    "NJ15M_0922_0223_test = TradingTest(NJ15M_0922_0223,100)"
   ]
  },
  {
   "cell_type": "code",
   "execution_count": null,
   "id": "39b9af86-0008-471c-b39a-8625293acd1f",
   "metadata": {},
   "outputs": [],
   "source": [
    "NJ15M_0922_0223_test.gen_pivot(10,10)"
   ]
  },
  {
   "cell_type": "code",
   "execution_count": null,
   "id": "ad239fbe-f549-4830-8419-3294558d6cfc",
   "metadata": {},
   "outputs": [],
   "source": [
    "NJ15M_0922_0223_test.gen_divSignal2(100,10)"
   ]
  },
  {
   "cell_type": "code",
   "execution_count": null,
   "id": "981ae641-f1f5-4851-b365-3d2b0aa4fd8f",
   "metadata": {
    "tags": []
   },
   "outputs": [],
   "source": [
    "NJ15M_0922_0223_test.test_falseBreakSig2MACD(ATR_surpass = 0.2)"
   ]
  },
  {
   "cell_type": "code",
   "execution_count": null,
   "id": "c80e19d5-4438-4242-b844-f935a48cd87e",
   "metadata": {},
   "outputs": [],
   "source": [
    "NJ15M_0922_0223_test.result_Buy"
   ]
  },
  {
   "cell_type": "code",
   "execution_count": null,
   "id": "2d12dc2b-8d0f-4feb-aaea-1dd9e8a5d242",
   "metadata": {},
   "outputs": [],
   "source": [
    "observed_candleID = 6376\n",
    "NJ15M_0922_0223_test.graph_Sample(observed_candleID -100,observed_candleID+20)"
   ]
  },
  {
   "cell_type": "code",
   "execution_count": null,
   "id": "20a58d1a-0443-4443-a686-2f877c67868a",
   "metadata": {},
   "outputs": [],
   "source": []
  },
  {
   "cell_type": "markdown",
   "id": "5005fbd0-de94-4ffb-8c0e-bf5e104eeb4c",
   "metadata": {
    "tags": [],
    "toc-hr-collapsed": true
   },
   "source": [
    "## BTC-USD"
   ]
  },
  {
   "cell_type": "markdown",
   "id": "35cfbe3f-b2a9-481f-8300-3eabffc84286",
   "metadata": {
    "tags": []
   },
   "source": [
    "### 15 Min"
   ]
  },
  {
   "cell_type": "markdown",
   "id": "069d8d5e-72e3-48a7-ae76-bc138f4f4391",
   "metadata": {},
   "source": [
    "#### Trading View data"
   ]
  },
  {
   "cell_type": "code",
   "execution_count": null,
   "id": "86090242-f514-4c24-8b86-83ad487839c0",
   "metadata": {},
   "outputs": [],
   "source": [
    "BTCUSD15M_0822_0223 = pd.read_csv(\"D:/Data/Crypto/BTCUSD/COINBASE_BTCUSD, 15, 0822_0223.csv\")\n",
    "BTCUSD15M_0822_0223_test = TradingTest(BTCUSD15M_0822_0223,pipRetMulti=0.1)"
   ]
  },
  {
   "cell_type": "code",
   "execution_count": null,
   "id": "3c19dcfd-57ea-4b67-b226-17868383f5ae",
   "metadata": {
    "tags": []
   },
   "outputs": [],
   "source": [
    "BTCUSD15M_0822_0223_test.gen_pivot(10,10)\n",
    "BTCUSD15M_0822_0223_test.gen_divSignal2(100,10)"
   ]
  },
  {
   "cell_type": "code",
   "execution_count": null,
   "id": "7ddddbdb-ef0d-4ebf-9521-36657bdb528b",
   "metadata": {},
   "outputs": [],
   "source": [
    "BTCUSD15M_0822_0223_test.df.divSignal2MACD.value_counts()"
   ]
  },
  {
   "cell_type": "code",
   "execution_count": null,
   "id": "da57e0ba-730f-4043-a50b-29a9c2d72e23",
   "metadata": {
    "tags": []
   },
   "outputs": [],
   "source": [
    "BTCUSD15M_0822_0223_test.test_falseBreakSig2MACD(ATR_surpass=0.3)"
   ]
  },
  {
   "cell_type": "code",
   "execution_count": null,
   "id": "712928c8-33cd-401f-94bd-ef1da9565d7b",
   "metadata": {},
   "outputs": [],
   "source": [
    "BTCUSD15M_0822_0223_test.result_Buy"
   ]
  },
  {
   "cell_type": "code",
   "execution_count": null,
   "id": "9e58a233-7c7a-48a4-bbf6-ad8425187e5b",
   "metadata": {},
   "outputs": [],
   "source": [
    "a = 1957\n",
    "BTCUSD15M_0822_0223_test.graph_Sample(a -80, a+ 20)"
   ]
  },
  {
   "cell_type": "code",
   "execution_count": null,
   "id": "db047f08-7d66-43a0-82f5-077c0d08f835",
   "metadata": {
    "tags": []
   },
   "outputs": [],
   "source": [
    "BTCUSD15M_0822_0223_test.plot_PipReturn()"
   ]
  },
  {
   "cell_type": "code",
   "execution_count": null,
   "id": "3214414b-8a22-4088-815d-3952a6239c57",
   "metadata": {
    "tags": []
   },
   "outputs": [],
   "source": [
    "BTCUSD15M_0822_0223_test.result_Sell"
   ]
  },
  {
   "cell_type": "code",
   "execution_count": null,
   "id": "b7704d82-dcce-463d-bbe8-58c1c94f1ccf",
   "metadata": {
    "tags": []
   },
   "outputs": [],
   "source": [
    "compare_index = 9660\n",
    "BTCUSD15M_0822_0223_test.graph_Sample(compare_index - 100, compare_index+25)"
   ]
  },
  {
   "cell_type": "code",
   "execution_count": null,
   "id": "d495e3c6-8ef6-429b-af80-4527fb83ad90",
   "metadata": {
    "tags": []
   },
   "outputs": [],
   "source": [
    "BTCUSD15M_0822_0223_statS"
   ]
  },
  {
   "cell_type": "code",
   "execution_count": null,
   "id": "f41e2196-db8b-4e4b-b3b1-2a7e95776d88",
   "metadata": {
    "tags": []
   },
   "outputs": [],
   "source": [
    "BTCUSD15M_0822_0223_statB"
   ]
  },
  {
   "cell_type": "code",
   "execution_count": null,
   "id": "77404c2f-9220-4cb3-a655-229138a26dd8",
   "metadata": {
    "tags": []
   },
   "outputs": [],
   "source": [
    "BTCUSD15M_0822_0223_resultB"
   ]
  },
  {
   "cell_type": "code",
   "execution_count": null,
   "id": "fd1c3cb6-8081-4a00-9be3-4af9bf98c75d",
   "metadata": {},
   "outputs": [],
   "source": [
    "dfpl = USOIL_1122_0123_resultAll\n",
    "fig = make_subplots()       \n",
    "fig.append_trace(go.Scatter(x=dfpl['time'],y=dfpl['PipReturn_3bar_cumsum']), row = 1, col = 1)    \n",
    "            \n",
    "fig.update_layout(xaxis_rangeslider_visible= False, width= 1000 ,height= 600,margin=dict(l=50,r=50,b=100,t=100,pad=4))"
   ]
  },
  {
   "cell_type": "markdown",
   "id": "0627b5b7",
   "metadata": {
    "tags": [],
    "toc-hr-collapsed": true
   },
   "source": [
    "## USOIL"
   ]
  },
  {
   "cell_type": "markdown",
   "id": "2e6d85fb-8211-4aba-af86-9bca114d2ca0",
   "metadata": {
    "tags": []
   },
   "source": [
    "### 15 Min"
   ]
  },
  {
   "cell_type": "code",
   "execution_count": null,
   "id": "c53bbca4-3276-4a80-9da5-7f1388cd76eb",
   "metadata": {},
   "outputs": [],
   "source": [
    "print(os.listdir(\"D:/Data/Commodity/USOIL/FX_USOIL, 15, 010922_080323.csv))"
   ]
  },
  {
   "cell_type": "code",
   "execution_count": null,
   "id": "80144f72-4577-4b97-9733-9fe56d60c4d7",
   "metadata": {},
   "outputs": [],
   "source": [
    "USOIL15M = pd.read_csv(\"D:/Data/Commodity/USOIL/FX_USOIL, 15, 010922_080323.csv\")\n",
    "USOIL15M_test = TradingTest(USOIL15M,pipRetMulti=100)"
   ]
  },
  {
   "cell_type": "code",
   "execution_count": null,
   "id": "c1cfdda6-9279-4441-a34e-977770aa5c25",
   "metadata": {},
   "outputs": [],
   "source": [
    "compare_range = 10"
   ]
  },
  {
   "cell_type": "code",
   "execution_count": null,
   "id": "5ef9d5eb-ed74-4d30-a10d-de5166fa5f5d",
   "metadata": {
    "tags": []
   },
   "outputs": [],
   "source": [
    "USOIL15M_test.gen_pivot(compare_range,compare_range)\n",
    "USOIL15M_test.gen_divSignal2(compare_range*10,compare_range)"
   ]
  },
  {
   "cell_type": "code",
   "execution_count": null,
   "id": "c123ebb3-239f-46f1-9738-c7e1c3a72be0",
   "metadata": {},
   "outputs": [],
   "source": [
    "USOIL15M_test.df.divSignal2MACD.value_counts()"
   ]
  },
  {
   "cell_type": "code",
   "execution_count": null,
   "id": "d3d835b1-3b71-447d-b9e7-6e3f2e655cb3",
   "metadata": {},
   "outputs": [],
   "source": [
    "USOIL15M_010922_080323_TDview_saved = [USOIL15M_test]"
   ]
  },
  {
   "cell_type": "code",
   "execution_count": null,
   "id": "cabd0818-e4c2-4113-a044-3d830a398210",
   "metadata": {},
   "outputs": [],
   "source": [
    "%store USOIL15M_010922_080323_TDview_saved\n",
    "exit"
   ]
  },
  {
   "cell_type": "code",
   "execution_count": null,
   "id": "c59a2978-d500-458a-8573-9cdd6a4ffb42",
   "metadata": {},
   "outputs": [],
   "source": [
    "%store -d USOIL15M_010922_080323_saved                       "
   ]
  },
  {
   "cell_type": "code",
   "execution_count": null,
   "id": "9b44f05d-7af2-4b96-a35a-ad78d595e1e5",
   "metadata": {
    "tags": []
   },
   "outputs": [],
   "source": [
    "USOIL15M_test.test_falseBreakSig2MACD(ATR_surpass= 0.3,div_signal = 'no',ATR_commpare_range = 1)"
   ]
  },
  {
   "cell_type": "code",
   "execution_count": null,
   "id": "f0bbfbb1-f6af-43f3-b2b1-cac50a3910e0",
   "metadata": {},
   "outputs": [],
   "source": [
    "USOIL15M_test.result_Sell"
   ]
  },
  {
   "cell_type": "code",
   "execution_count": null,
   "id": "ed3ddbd3-d0f8-47ef-b92a-efb80d9b5d34",
   "metadata": {},
   "outputs": [],
   "source": [
    "a = 4728\n",
    "USOIL15M_test.graph_Sample(a - 100, a+30)"
   ]
  },
  {
   "cell_type": "code",
   "execution_count": null,
   "id": "4fdb80ac-8374-45a1-b827-26f6d31fcf26",
   "metadata": {},
   "outputs": [],
   "source": [
    "dfpl = USOIL15M_resultAll\n",
    "fig = make_subplots()       \n",
    "fig.append_trace(go.Scatter(x=dfpl['time'],y=dfpl['PipReturn_10bar_cumsum']), row = 1, col = 1)    \n",
    "            \n",
    "fig.update_layout(xaxis_rangeslider_visible= False, width= 1000 ,height= 600,margin=dict(l=50,r=50,b=100,t=100,pad=4))"
   ]
  },
  {
   "cell_type": "markdown",
   "id": "26d905b0-31ce-4b9c-be9f-3191e77d7db4",
   "metadata": {
    "tags": []
   },
   "source": [
    "## EURAUD"
   ]
  },
  {
   "cell_type": "markdown",
   "id": "29d4cc15-50ec-40ae-86a5-1e994e634c79",
   "metadata": {
    "tags": []
   },
   "source": [
    "### 15 Min"
   ]
  },
  {
   "cell_type": "markdown",
   "id": "fd39ea08-224a-440c-958d-6a48fa27fd8b",
   "metadata": {
    "tags": []
   },
   "source": [
    "#### Trading view data"
   ]
  },
  {
   "cell_type": "code",
   "execution_count": null,
   "id": "cb61bbdf",
   "metadata": {},
   "outputs": [],
   "source": [
    "EURAUD_15M_df = pd.read_csv(\"D:Data/Forex/EURAUD/OANDA_EURAUD, 15 0822_0223.csv\")\n",
    "EURAUD_15M_test = TradingTest(EURAUD_15M_df, pipRetMulti= 10000)"
   ]
  },
  {
   "cell_type": "code",
   "execution_count": null,
   "id": "21572edf-3a21-457d-b603-650544572279",
   "metadata": {},
   "outputs": [],
   "source": [
    "compare_range = 10"
   ]
  },
  {
   "cell_type": "code",
   "execution_count": null,
   "id": "32a8970b-f6dc-4590-8345-a3c199a7f51d",
   "metadata": {
    "tags": []
   },
   "outputs": [],
   "source": [
    "EURAUD_15M_test.gen_pivot(compare_range,compare_range)"
   ]
  },
  {
   "cell_type": "code",
   "execution_count": null,
   "id": "d2e2600b-1288-4bcc-b899-fd16ec29e883",
   "metadata": {
    "tags": []
   },
   "outputs": [],
   "source": [
    "EURAUD_15M_test.gen_divSignal2(compare_range*10,compare_range)"
   ]
  },
  {
   "cell_type": "code",
   "execution_count": null,
   "id": "b0af37ec-e6fd-4013-a623-6981eae13219",
   "metadata": {
    "tags": []
   },
   "outputs": [],
   "source": [
    "EURAUD_15M_test.df.divSignal2MACD.value_counts()"
   ]
  },
  {
   "cell_type": "code",
   "execution_count": null,
   "id": "d37c455d-9445-45fa-ba8f-33e58b21ffe1",
   "metadata": {},
   "outputs": [],
   "source": [
    "EURAUD_15M_0822_0223_TDVIEW = [EURAUD_15M_test]"
   ]
  },
  {
   "cell_type": "code",
   "execution_count": null,
   "id": "af2c7819-f46a-4a3a-bad4-66c1b7ec90c5",
   "metadata": {},
   "outputs": [],
   "source": [
    "%store -d EURAUD_15M_0822_0223_TDVIEW                     "
   ]
  },
  {
   "cell_type": "code",
   "execution_count": null,
   "id": "717f825b-6420-4556-a675-27bd5cd2c4e9",
   "metadata": {},
   "outputs": [],
   "source": [
    "%store EURAUD_15M_0822_0223_TDVIEW\n",
    "exit"
   ]
  },
  {
   "cell_type": "code",
   "execution_count": null,
   "id": "23c5f92e-4b74-45d0-ad80-b02c7d559348",
   "metadata": {},
   "outputs": [],
   "source": [
    "a = EURAUD_15M_0822_0223_TDVIEW[0]"
   ]
  },
  {
   "cell_type": "code",
   "execution_count": null,
   "id": "b735c5bf-4601-4b67-a8d8-0dd60073cf29",
   "metadata": {},
   "outputs": [],
   "source": [
    "a.test_falseBreakSig2MACD()"
   ]
  },
  {
   "cell_type": "code",
   "execution_count": null,
   "id": "e3c29eac-cc36-425f-a817-85cfaff6f5a8",
   "metadata": {},
   "outputs": [],
   "source": [
    "EURAUD15M_0122_0622_saved_test = EURAUD15M_0122_0622_list[1]"
   ]
  },
  {
   "cell_type": "code",
   "execution_count": null,
   "id": "e396e762-da8f-4036-bcd7-2d05a142f447",
   "metadata": {},
   "outputs": [],
   "source": [
    "EURAUD15M_0122_0622_saved_test.test_falseBreakSig2MACD(ATR_surpass = 0)"
   ]
  },
  {
   "cell_type": "code",
   "execution_count": null,
   "id": "e54834be-244d-4766-8f25-e8c22006dae4",
   "metadata": {},
   "outputs": [],
   "source": [
    "EURAUD_15M_test.result_Sell"
   ]
  },
  {
   "cell_type": "code",
   "execution_count": null,
   "id": "afdab193-ef53-47ad-b5af-16d729cca455",
   "metadata": {},
   "outputs": [],
   "source": [
    "a = 6337"
   ]
  },
  {
   "cell_type": "code",
   "execution_count": null,
   "id": "c3cbe99b-740b-4581-9403-60e92ab6c1c4",
   "metadata": {},
   "outputs": [],
   "source": [
    "EURAUD_15M_test.graph_Sample(a-100, a+20)"
   ]
  },
  {
   "cell_type": "markdown",
   "id": "d0f95a97-f61c-4db4-b8a7-2a184baca8a3",
   "metadata": {},
   "source": [
    "#### Dukas data"
   ]
  },
  {
   "cell_type": "markdown",
   "id": "90c469a0-a89c-4a2f-a036-4e4fbdcd2af4",
   "metadata": {},
   "source": [
    "##### 2022"
   ]
  },
  {
   "cell_type": "markdown",
   "id": "e90e8708-c6f8-43ab-ab6f-2b3bb6b730c2",
   "metadata": {
    "tags": []
   },
   "source": [
    "1H"
   ]
  },
  {
   "cell_type": "code",
   "execution_count": null,
   "id": "de817f11-d70f-41d3-800c-f98047ca774a",
   "metadata": {},
   "outputs": [],
   "source": [
    "EURAUD15M_0122_0622 = pd.read_csv(\"D:Data/Forex/EURAUD/Dukas_EURAUD_Candlestick_15_M_BID_01.01.2022-30.06.2022.csv\")\n",
    "EURAUD15M_0122_0622['Local time'] = pd.to_datetime(EURAUD15M_0122_0622['Local time'],dayfirst=True)\n",
    "EURAUD15M_0122_0622.sort_values(by = 'Local time',inplace=True)\n",
    "EURAUD15M_0122_0622.reset_index(drop = True, inplace=True)"
   ]
  },
  {
   "cell_type": "code",
   "execution_count": null,
   "id": "db94dd51-630e-46d4-809b-f294a53016b9",
   "metadata": {},
   "outputs": [],
   "source": [
    "EURAUD15M_0122_0622_test = TradingTest(EURAUD15M_0122_0622,10000)"
   ]
  },
  {
   "cell_type": "code",
   "execution_count": null,
   "id": "fdcaabe4-b0e3-46bf-a760-957edd1c6f92",
   "metadata": {},
   "outputs": [],
   "source": [
    "EURAUD15M_0122_0622_test.gen_pivot(10,10)"
   ]
  },
  {
   "cell_type": "code",
   "execution_count": null,
   "id": "3a2f90d7-893f-44ce-a105-f65d2c13701f",
   "metadata": {
    "tags": []
   },
   "outputs": [],
   "source": [
    "EURAUD15M_0122_0622_test.gen_divSignal2(100)"
   ]
  },
  {
   "cell_type": "code",
   "execution_count": null,
   "id": "b6c106e9-30e5-40f9-aea1-b006ea128c60",
   "metadata": {
    "tags": []
   },
   "outputs": [],
   "source": [
    "EURAUD15M_0122_0622_test.test_falseBreakSig2MACD(ATR_surpass=0)"
   ]
  },
  {
   "cell_type": "code",
   "execution_count": null,
   "id": "fb8d57d5-7610-4f3a-9331-187c826214d8",
   "metadata": {
    "tags": []
   },
   "outputs": [],
   "source": [
    "EURAUD15M_0122_0622_test.result_Buy"
   ]
  },
  {
   "cell_type": "code",
   "execution_count": null,
   "id": "8f444244-244c-4367-8cf7-7677d15454e9",
   "metadata": {
    "tags": []
   },
   "outputs": [],
   "source": [
    "a = 219\n",
    "EURAUD15M_0122_0622_test.graph_Sample(a-100, a+20)"
   ]
  },
  {
   "cell_type": "code",
   "execution_count": null,
   "id": "319c84c1-b81b-43c4-a1ac-ccec4b153270",
   "metadata": {},
   "outputs": [],
   "source": [
    "EURAUD15M_0122_0622_best_param = {'HiLowRange':'yes', 'ATR_surpass':'0'}"
   ]
  },
  {
   "cell_type": "code",
   "execution_count": null,
   "id": "a532362e-ddf2-4b8a-a40c-2943e8def0ed",
   "metadata": {},
   "outputs": [],
   "source": [
    "EURAUD15M_0122_0622_list = [EURAUD15M_0122_0622_best_param,EURAUD15M_0122_0622_test]"
   ]
  },
  {
   "cell_type": "code",
   "execution_count": null,
   "id": "04013f22-73a3-408d-8065-ece61ec3792e",
   "metadata": {},
   "outputs": [],
   "source": [
    "%store EURAUD15M_0122_0622_list\n",
    "exit"
   ]
  },
  {
   "cell_type": "markdown",
   "id": "6a4b7249-ec81-4a74-8af0-8e872cf54dea",
   "metadata": {},
   "source": [
    "2H"
   ]
  },
  {
   "cell_type": "code",
   "execution_count": null,
   "id": "1902e912-f89a-4819-83b5-9cfc1cc4e043",
   "metadata": {},
   "outputs": [],
   "source": [
    "EURAUD15M_0722_1222 = pd.read_csv(\"D:Data/Forex/EURAUD/Dukas_EURAUD_Candlestick_15_M_BID_01.07.2022-30.12.2022.csv\")\n",
    "EURAUD15M_0722_1222['Local time'] = pd.to_datetime(EURAUD15M_0722_1222['Local time'],dayfirst=True)\n",
    "EURAUD15M_0722_1222.sort_values(by = 'Local time',inplace=True)\n",
    "EURAUD15M_0722_1222.reset_index(drop = True, inplace=True)"
   ]
  },
  {
   "cell_type": "code",
   "execution_count": null,
   "id": "2929ea33-00d6-4de0-a363-03dc60abdf72",
   "metadata": {},
   "outputs": [],
   "source": [
    "EURAUD15M_0722_1222_test = TradingTest(EURAUD15M_0722_1222,10000)"
   ]
  },
  {
   "cell_type": "code",
   "execution_count": null,
   "id": "871f7a50-f5a1-415a-b209-8e669170f90a",
   "metadata": {},
   "outputs": [],
   "source": [
    "EURAUD15M_0722_1222_test.gen_pivot(10,10)"
   ]
  },
  {
   "cell_type": "code",
   "execution_count": null,
   "id": "ad15972a-446b-45ff-a28e-bceee225a7f6",
   "metadata": {
    "tags": []
   },
   "outputs": [],
   "source": [
    "EURAUD15M_0722_1222_test.gen_divSignal2(100)"
   ]
  },
  {
   "cell_type": "code",
   "execution_count": null,
   "id": "0098629a-7280-400a-8942-39e7e444135e",
   "metadata": {},
   "outputs": [],
   "source": [
    "EURAUD15M_0722_1222_Dukas = [EURAUD15M_0722_1222_test]"
   ]
  },
  {
   "cell_type": "code",
   "execution_count": null,
   "id": "6b987ebc-a495-48f8-8c6c-92b6ab0af994",
   "metadata": {},
   "outputs": [],
   "source": [
    "%store EURAUD15M_0722_1222_Dukas"
   ]
  },
  {
   "cell_type": "code",
   "execution_count": null,
   "id": "4677bc94-70ea-4bac-a2c3-60c3f23eaa2c",
   "metadata": {},
   "outputs": [],
   "source": [
    "exit"
   ]
  },
  {
   "cell_type": "code",
   "execution_count": null,
   "id": "cde02ab3-e41a-47fc-beed-a7b7366b9fa4",
   "metadata": {},
   "outputs": [],
   "source": [
    "%store"
   ]
  },
  {
   "cell_type": "code",
   "execution_count": null,
   "id": "192e9f23-fde5-4686-a7e2-6316ed585ff2",
   "metadata": {},
   "outputs": [],
   "source": []
  },
  {
   "cell_type": "code",
   "execution_count": null,
   "id": "55ecaaeb-4483-4bcc-9f31-4a6add1ee479",
   "metadata": {
    "tags": []
   },
   "outputs": [],
   "source": [
    "EURAUD15M_0722_1222_test.test_falseBreakSig2MACD(ATR_surpass=0)"
   ]
  },
  {
   "cell_type": "code",
   "execution_count": null,
   "id": "194d62f2-d86d-4ed1-b101-104af6b70907",
   "metadata": {},
   "outputs": [],
   "source": [
    "EURAUD15M_0722_1222_test.result_Sell"
   ]
  },
  {
   "cell_type": "code",
   "execution_count": null,
   "id": "7c8f828b-229e-42b4-a6f3-9377e78ae0df",
   "metadata": {
    "tags": []
   },
   "outputs": [],
   "source": [
    "EURAUD15M_0722_1222_test.df.iloc[10575:]"
   ]
  },
  {
   "cell_type": "code",
   "execution_count": null,
   "id": "3e1c8ba3-93f8-4b0e-816a-22b32ee3e2a2",
   "metadata": {},
   "outputs": [],
   "source": [
    "a = 10576\n",
    "EURAUD15M_0722_1222_test.graph_Sample(a-100,a+20)"
   ]
  },
  {
   "cell_type": "markdown",
   "id": "8b55a43b-d996-4196-b425-8a6f21a5b51b",
   "metadata": {
    "tags": []
   },
   "source": [
    "## GBPAUD"
   ]
  },
  {
   "cell_type": "code",
   "execution_count": null,
   "id": "843c80ab-d9d6-4eda-bb4c-5d928ff223a3",
   "metadata": {},
   "outputs": [],
   "source": [
    "GBPAUD15M_0922_0223 = pd.read_csv(\"D:Data/Forex/GBPAUD/OANDA_GBPAUD, 15, 0922_0223.csv\")\n",
    "GBPAUD15M_0922_0223_test = TradingTest(GBPAUD15M_0922_0223,10000)"
   ]
  },
  {
   "cell_type": "code",
   "execution_count": null,
   "id": "b026e2e0-7121-495e-9e58-d031ed6ca04a",
   "metadata": {},
   "outputs": [],
   "source": [
    "GBPAUD15M_0922_0223_test.gen_pivot(10,10)\n",
    "GBPAUD15M_0922_0223_test.gen_divSignal2(100,10)"
   ]
  },
  {
   "cell_type": "code",
   "execution_count": null,
   "id": "73680933-5b83-41de-960f-88032acd8c36",
   "metadata": {},
   "outputs": [],
   "source": [
    "GBPAUD15M_0922_0223_test.test_falseBreakSig2MACD(ATR_surpass=0.1)"
   ]
  },
  {
   "cell_type": "code",
   "execution_count": null,
   "id": "b1171084-fb18-49b8-805f-acfb882b8d24",
   "metadata": {},
   "outputs": [],
   "source": [
    "GBPAUD15M_0922_0223_test.plot_PipReturn()"
   ]
  },
  {
   "cell_type": "code",
   "execution_count": null,
   "id": "d8404194-ecfc-4941-abc0-11214524f6a3",
   "metadata": {},
   "outputs": [],
   "source": [
    "GBPAUD15M_0922_0223_test.result_Sell"
   ]
  },
  {
   "cell_type": "code",
   "execution_count": null,
   "id": "5ea6a0ee-d88d-4a97-8055-c8732a4e93dc",
   "metadata": {},
   "outputs": [],
   "source": [
    "a = 3107\n",
    "GBPAUD15M_0922_0223_test.graph_Sample(a-100, a+30)"
   ]
  },
  {
   "cell_type": "markdown",
   "id": "8921f88e-f77f-4a1b-bf3d-26cb3464cb84",
   "metadata": {
    "tags": []
   },
   "source": [
    "## EURCHF"
   ]
  },
  {
   "cell_type": "code",
   "execution_count": null,
   "id": "30d61780-c9f1-4973-9e71-011799be974f",
   "metadata": {},
   "outputs": [],
   "source": [
    "print(os.listdir(\"D:Data/Forex/EURCHF/OANDA_EURCHF, 15, 0822_0223.csv))"
   ]
  },
  {
   "cell_type": "code",
   "execution_count": null,
   "id": "c0037265-862d-452b-b11d-8155f8cda3da",
   "metadata": {
    "tags": []
   },
   "outputs": [],
   "source": [
    "EURCHF_15M_df = pd.read_csv(\"D:Data/Forex/EURCHF/OANDA_EURCHF, 15, 0822_0223.csv\")\n",
    "EURCHF_15M_test = TradingTest(EURCHF_15M_df, pipRetMulti= 10000)"
   ]
  },
  {
   "cell_type": "code",
   "execution_count": null,
   "id": "d9024125-7cf6-4bb5-ab22-aec7f506a881",
   "metadata": {},
   "outputs": [],
   "source": [
    "compare_range = 10"
   ]
  },
  {
   "cell_type": "code",
   "execution_count": null,
   "id": "c37a2451-a480-4b85-b19c-dee1163b203d",
   "metadata": {
    "tags": []
   },
   "outputs": [],
   "source": [
    "EURCHF_15M_test.gen_pivot(compare_range,compare_range)"
   ]
  },
  {
   "cell_type": "code",
   "execution_count": null,
   "id": "b68cfb77-e363-4138-be3a-182b690a0ec1",
   "metadata": {
    "tags": []
   },
   "outputs": [],
   "source": [
    "EURCHF_15M_test.gen_divSignal2(compare_range*10,compare_range)"
   ]
  },
  {
   "cell_type": "code",
   "execution_count": null,
   "id": "8b0ef859-bc41-4ba5-bf3c-2507930ec274",
   "metadata": {},
   "outputs": [],
   "source": [
    "EURCHF_15M_test.df.divSignal2MACD.value_counts()"
   ]
  },
  {
   "cell_type": "code",
   "execution_count": null,
   "id": "a74f89e6-0f78-4140-866d-20a53957c6c0",
   "metadata": {
    "tags": []
   },
   "outputs": [],
   "source": [
    "EURCHF_15M_resultS, EURCHF_15M_statS = falsebreak_wDiv_test(EURCHF_15M_test.df,\n",
    "                                                                side = 'sell', elim_cons_trade = True,\n",
    "                                                                falsebreak_bar= 0, ATR_surpass= 0,\n",
    "                                                                ATR_commpare_range=0, fwdCandle=compare_range\n",
    "                                                                )\n",
    "EURCHF_15M_resultB, EURCHF_15M_statB = falsebreak_wDiv_test(EURCHF_15M_test.df,\n",
    "                                                                side = 'buy', elim_cons_trade = True , \n",
    "                                                                falsebreak_bar= 0, ATR_surpass= 0,\n",
    "                                                                ATR_commpare_range=0,fwdCandle=compare_range\n",
    "                                                                )"
   ]
  },
  {
   "cell_type": "code",
   "execution_count": null,
   "id": "41351097-4d3a-428a-b807-d8ff4928fd6f",
   "metadata": {},
   "outputs": [],
   "source": [
    "EURCHF_15M_resultS_copy = EURCHF_15M_resultS.copy()\n",
    "EURCHF_15M_resultS_copy[pip_return_masking]  = EURCHF_15M_resultS_copy[pip_return_masking]*-1\n",
    "EURCHF_15M_resultAll = pd.concat([EURCHF_15M_resultB, EURCHF_15M_resultS_copy])\n",
    "EURCHF_15M_resultAll['time'] = pd.to_datetime(EURCHF_15M_resultAll['time'])\n",
    "EURCHF_15M_resultAll = EURCHF_15M_resultAll.sort_values(by = \"time\")\n",
    "EURCHF_15M_resultAll = EURCHF_15M_resultAll.reset_index().drop(columns = ['level_0'])\n",
    "EURCHF_15M_StatAll = GetStatAll(EURCHF_15M_resultAll)"
   ]
  },
  {
   "cell_type": "code",
   "execution_count": null,
   "id": "70234337-893b-4198-b6eb-1a06a6b744b6",
   "metadata": {
    "tags": []
   },
   "outputs": [],
   "source": [
    "EURCHF_15M_statS"
   ]
  },
  {
   "cell_type": "code",
   "execution_count": null,
   "id": "f014d2e2-4ad2-4468-a3f3-d9870621e5e0",
   "metadata": {
    "tags": []
   },
   "outputs": [],
   "source": [
    "EURCHF_15M_statB"
   ]
  },
  {
   "cell_type": "code",
   "execution_count": null,
   "id": "eea4c3b5-9fa3-4685-ae78-51d1350c0c47",
   "metadata": {
    "tags": []
   },
   "outputs": [],
   "source": [
    "EURCHF_15M_StatAll"
   ]
  },
  {
   "cell_type": "code",
   "execution_count": null,
   "id": "4266eefa-afce-4d73-a0d7-789e71c3149d",
   "metadata": {
    "tags": []
   },
   "outputs": [],
   "source": [
    "Plot_csPipReturn(EURCHF_15M_resultAll,side='All',spread=2, return_bar='All')"
   ]
  },
  {
   "cell_type": "code",
   "execution_count": null,
   "id": "92dd193f-4f89-4e01-9c9e-f941a5a28675",
   "metadata": {},
   "outputs": [],
   "source": [
    "EURCHF_15M_resultB"
   ]
  },
  {
   "cell_type": "code",
   "execution_count": null,
   "id": "8d08fbf3-bd13-46f8-9393-ee40a94a62bc",
   "metadata": {
    "tags": []
   },
   "outputs": [],
   "source": [
    "EURCHF_15M_test.df.iloc[6071]"
   ]
  },
  {
   "cell_type": "code",
   "execution_count": null,
   "id": "6c322851-5288-4a8e-8b5a-2b8001bdd4f2",
   "metadata": {},
   "outputs": [],
   "source": [
    "EURCHF_15M_test.graph_init_Sample(9322,9452, height = 1500)"
   ]
  },
  {
   "cell_type": "code",
   "execution_count": null,
   "id": "b119489e-9c86-4226-8bdd-18cbe6299caa",
   "metadata": {},
   "outputs": [],
   "source": []
  },
  {
   "cell_type": "markdown",
   "id": "1b4287f0-28a0-408c-a7d5-328d601c2a74",
   "metadata": {
    "toc-hr-collapsed": true
   },
   "source": [
    "## GBPCAD"
   ]
  },
  {
   "cell_type": "markdown",
   "id": "76110a80-46f1-4bff-9a1b-900a891a5803",
   "metadata": {},
   "source": [
    "### 15 Min\n"
   ]
  },
  {
   "cell_type": "code",
   "execution_count": null,
   "id": "636d15e3-61d9-41d7-bf4b-70914a2482b0",
   "metadata": {},
   "outputs": [],
   "source": [
    "print(os.listdir(\"D:Data/Forex/GBPCAD/OANDA_GBPCAD, 15, 0822_0223.csv))"
   ]
  },
  {
   "cell_type": "code",
   "execution_count": null,
   "id": "6f409e63-f465-4c8c-ac4c-7e887dc1a951",
   "metadata": {},
   "outputs": [],
   "source": [
    "GBPCAD_15M_df = pd.read_csv(\"D:Data/Forex/GBPCAD/OANDA_GBPCAD, 15, 0822_0223.csv\")\n",
    "GBPCAD_15M_test = TradingTest(GBPCAD_15M_df, pipRetMulti= 10000)"
   ]
  },
  {
   "cell_type": "code",
   "execution_count": null,
   "id": "dcf4c6b7-2e48-4035-a116-ce15d1467813",
   "metadata": {},
   "outputs": [],
   "source": [
    "compare_range = 10"
   ]
  },
  {
   "cell_type": "code",
   "execution_count": null,
   "id": "47e948f8-df44-498e-8fa5-73376d142794",
   "metadata": {
    "tags": []
   },
   "outputs": [],
   "source": [
    "GBPCAD_15M_test.gen_pivot(compare_range,compare_range)"
   ]
  },
  {
   "cell_type": "code",
   "execution_count": null,
   "id": "c6cabcda-6d8e-4600-b5e2-9614b2fcf713",
   "metadata": {
    "tags": []
   },
   "outputs": [],
   "source": [
    "GBPCAD_15M_test.gen_divSignal2(compare_range*10,compare_range)"
   ]
  },
  {
   "cell_type": "code",
   "execution_count": null,
   "id": "3a3c6a85-0aa9-4085-8dea-72e743951e8e",
   "metadata": {},
   "outputs": [],
   "source": [
    "GBPCAD_15M_test.df.divSignal2MACD.value_counts()"
   ]
  },
  {
   "cell_type": "code",
   "execution_count": null,
   "id": "31a951b6-ec33-4f50-8e17-2e6378886c5b",
   "metadata": {
    "tags": []
   },
   "outputs": [],
   "source": [
    "GBPCAD_15M_resultS, GBPCAD_15M_statS = falsebreak_wDiv_test(GBPCAD_15M_test.df,\n",
    "                                                                side = 'sell', elim_cons_trade = True,\n",
    "                                                                falsebreak_bar= 0, ATR_surpass= 0,\n",
    "                                                                ATR_commpare_range=0, fwdCandle=compare_range\n",
    "                                                                )\n",
    "GBPCAD_15M_resultB, GBPCAD_15M_statB = falsebreak_wDiv_test(GBPCAD_15M_test.df,\n",
    "                                                                side = 'buy', elim_cons_trade = True , \n",
    "                                                                falsebreak_bar= 0, ATR_surpass= 0,\n",
    "                                                                ATR_commpare_range=0,fwdCandle=compare_range\n",
    "                                                                )"
   ]
  },
  {
   "cell_type": "code",
   "execution_count": null,
   "id": "2061e028-02f0-4681-9480-bf8a7ba23e9d",
   "metadata": {},
   "outputs": [],
   "source": [
    "GBPCAD_15M_resultS_copy = GBPCAD_15M_resultS.copy()\n",
    "GBPCAD_15M_resultS_copy[pip_return_masking]  = GBPCAD_15M_resultS_copy[pip_return_masking]*-1\n",
    "GBPCAD_15M_resultAll = pd.concat([GBPCAD_15M_resultB, GBPCAD_15M_resultS_copy])\n",
    "GBPCAD_15M_resultAll['time'] = pd.to_datetime(GBPCAD_15M_resultAll['time'])\n",
    "GBPCAD_15M_resultAll = GBPCAD_15M_resultAll.sort_values(by = \"time\")\n",
    "GBPCAD_15M_resultAll = GBPCAD_15M_resultAll.reset_index().drop(columns = ['level_0'])\n",
    "GBPCAD_15M_StatAll = GetStatAll(GBPCAD_15M_resultAll)"
   ]
  },
  {
   "cell_type": "code",
   "execution_count": null,
   "id": "4f13d629-3d90-4e7a-afd0-0bd0badc4577",
   "metadata": {
    "tags": []
   },
   "outputs": [],
   "source": [
    "GBPCAD_15M_statS"
   ]
  },
  {
   "cell_type": "code",
   "execution_count": null,
   "id": "355ecd2c-2081-46ac-830f-01a9e37501f2",
   "metadata": {
    "tags": []
   },
   "outputs": [],
   "source": [
    "GBPCAD_15M_statB"
   ]
  },
  {
   "cell_type": "code",
   "execution_count": null,
   "id": "a27ec607-9d52-40a5-86a7-60b54f831efb",
   "metadata": {
    "tags": []
   },
   "outputs": [],
   "source": [
    "GBPCAD_15M_StatAll"
   ]
  },
  {
   "cell_type": "code",
   "execution_count": null,
   "id": "a37e114e-d17a-44f9-885e-f3c54211f3c3",
   "metadata": {
    "tags": []
   },
   "outputs": [],
   "source": [
    "Plot_csPipReturn(XAU15M_121322_012723_resultAll,side='All',spread=2, return_bar='All')"
   ]
  },
  {
   "cell_type": "code",
   "execution_count": null,
   "id": "9f19f76b-430d-4d2b-a7a6-d12268c8d60e",
   "metadata": {},
   "outputs": [],
   "source": [
    "GBPCAD_15M_resultB"
   ]
  },
  {
   "cell_type": "code",
   "execution_count": null,
   "id": "2d51736a-ee35-423f-83e8-fb089021409f",
   "metadata": {
    "tags": []
   },
   "outputs": [],
   "source": [
    "GBPCAD_15M_test.df.iloc[6071]"
   ]
  },
  {
   "cell_type": "code",
   "execution_count": null,
   "id": "fb5cbaa1-e485-4e59-8ee6-6613eb6cd486",
   "metadata": {},
   "outputs": [],
   "source": [
    "GBPCAD_15M_test.graph_init_Sample(9322,9452, height = 1500)"
   ]
  },
  {
   "cell_type": "code",
   "execution_count": null,
   "id": "ba9ce27b-005b-4e31-9fa3-b64a96416ec9",
   "metadata": {},
   "outputs": [],
   "source": []
  },
  {
   "cell_type": "markdown",
   "id": "9d304d22-0227-415c-aec8-e9253a446503",
   "metadata": {
    "toc-hr-collapsed": true
   },
   "source": [
    "## EURUSD"
   ]
  },
  {
   "cell_type": "markdown",
   "id": "92d6e6e0",
   "metadata": {
    "tags": []
   },
   "source": [
    "#### EURUSD 5 min\n"
   ]
  },
  {
   "cell_type": "code",
   "execution_count": null,
   "id": "e7d5aa54",
   "metadata": {},
   "outputs": [],
   "source": [
    "print(os.listdir(\"D:Data/Forex/EURUSD/FX_EURUSD, 15, 010922_080223.csv\"))"
   ]
  },
  {
   "cell_type": "code",
   "execution_count": null,
   "id": "4b5a45a2",
   "metadata": {},
   "outputs": [],
   "source": [
    "EU15M_0922_0223 = pd.read_csv(\"D:Data/Forex/EURUSD/FX_EURUSD, 15, 010922_080223.csv\")\n",
    "EU15M_0922_0223_test = TradingTest(EU15M_0922_0223,pipRetMulti=10000)"
   ]
  },
  {
   "cell_type": "code",
   "execution_count": null,
   "id": "437ccf12-7213-4f80-93da-02847453c4d5",
   "metadata": {},
   "outputs": [],
   "source": [
    "compare_range = 10"
   ]
  },
  {
   "cell_type": "code",
   "execution_count": null,
   "id": "fa5ced53-c19f-49d0-b9ce-1f810ad96044",
   "metadata": {},
   "outputs": [],
   "source": [
    "EU15M_0922_0223_test.gen_pivot(compare_range,compare_range)"
   ]
  },
  {
   "cell_type": "code",
   "execution_count": null,
   "id": "eefab8a2",
   "metadata": {
    "tags": []
   },
   "outputs": [],
   "source": [
    "EU15M_0922_0223_test.gen_divSignal2(compare_range*10,compare_range)"
   ]
  },
  {
   "cell_type": "code",
   "execution_count": null,
   "id": "4179c682",
   "metadata": {},
   "outputs": [],
   "source": [
    "EU15M_0922_0223_test.df.divSignal2MACD.value_counts()"
   ]
  },
  {
   "cell_type": "code",
   "execution_count": null,
   "id": "b420a8f0",
   "metadata": {},
   "outputs": [],
   "source": [
    "EU15M_0922_0223_resultS, EU15M_0922_0223_statS = falsebreak_wDiv_test(EU15M_0922_0223_test.df,\n",
    "                                                                side = 'sell', elim_cons_trade = True,\n",
    "                                                                falsebreak_bar= 0, ATR_surpass= 0.1,\n",
    "                                                                ATR_commpare_range=0, fwdCandle=compare_range\n",
    "                                                                )\n",
    "EU15M_0922_0223_resultB, EU15M_0922_0223_statB = falsebreak_wDiv_test(EU15M_0922_0223_test.df,\n",
    "                                                                side = 'buy', elim_cons_trade = True , \n",
    "                                                                falsebreak_bar= 0, ATR_surpass= 0.1,\n",
    "                                                                ATR_commpare_range=0,fwdCandle=compare_range\n",
    "                                                                )"
   ]
  },
  {
   "cell_type": "code",
   "execution_count": null,
   "id": "6ccc050a",
   "metadata": {},
   "outputs": [],
   "source": [
    "EU15M_0922_0223_statS"
   ]
  },
  {
   "cell_type": "code",
   "execution_count": null,
   "id": "46fbdf52-906e-4970-bc52-a35c580ca674",
   "metadata": {},
   "outputs": [],
   "source": [
    "EU15M_0922_0223_statB"
   ]
  },
  {
   "cell_type": "markdown",
   "id": "ba647f29",
   "metadata": {},
   "source": [
    "### VN30F1M"
   ]
  },
  {
   "cell_type": "markdown",
   "id": "94f09a9b",
   "metadata": {},
   "source": [
    "#### 5 min from 04/12/2022"
   ]
  },
  {
   "cell_type": "code",
   "execution_count": null,
   "id": "c4f88c7c",
   "metadata": {},
   "outputs": [],
   "source": [
    "print(os.listdir(\"D:/Data/Stock/VN/Future/\"))"
   ]
  },
  {
   "cell_type": "code",
   "execution_count": null,
   "id": "fe1ff2d5",
   "metadata": {},
   "outputs": [],
   "source": [
    "VN30F1M_5m_df = pd.read_csv(\"D:/Data/Stock/VN/Future/TDView_HNX_DLY_VN301!, 5.csv\")"
   ]
  },
  {
   "cell_type": "code",
   "execution_count": null,
   "id": "598be886",
   "metadata": {},
   "outputs": [],
   "source": [
    "VN30F1M_5m_df = VN30F1M_5m_df[['time', 'open', 'high', 'low', 'close','Volume']]"
   ]
  },
  {
   "cell_type": "code",
   "execution_count": null,
   "id": "e4818b40",
   "metadata": {
    "tags": []
   },
   "outputs": [],
   "source": [
    "VN30F1M_5m_tdtest = TradingTest(VN30F1M_5m_df, pipRetMulti= 1)"
   ]
  },
  {
   "cell_type": "code",
   "execution_count": null,
   "id": "dc87b780",
   "metadata": {
    "tags": []
   },
   "outputs": [],
   "source": [
    "VN30F1M_5m_tdtest.gen_pivot(5,5)\n",
    "VN30F1M_5m_tdtest.gen_divSignal2(30)"
   ]
  },
  {
   "cell_type": "markdown",
   "id": "b9fd29a6",
   "metadata": {},
   "source": [
    "##### Sell"
   ]
  },
  {
   "cell_type": "code",
   "execution_count": null,
   "id": "38595a67",
   "metadata": {
    "tags": []
   },
   "outputs": [],
   "source": [
    "VN30_5m_sell_df, VN30_5m_sell_stats = falsebreak_wDiv_test(VN30F1M_5m_tdtest.df, side = 'sell', elim_cons_trade = True , falsebreak_bar = 1, ATR_surpass=0.1)\n",
    "VN30_5m_sell_stats"
   ]
  },
  {
   "cell_type": "code",
   "execution_count": null,
   "id": "c7b5883e",
   "metadata": {},
   "outputs": [],
   "source": [
    "Plot_csPipReturn(VN30_5m_sell_df,'sell', 0.15, 3 )\n"
   ]
  },
  {
   "cell_type": "markdown",
   "id": "678ffa2c",
   "metadata": {},
   "source": [
    "##### Buy"
   ]
  },
  {
   "cell_type": "code",
   "execution_count": null,
   "id": "ceda6fcf",
   "metadata": {
    "tags": []
   },
   "outputs": [],
   "source": [
    "VN30_5m_buy_df, VN30_5m_buy_stats = falsebreak_wDiv_test(VN30F1M_5m_tdtest.df, side = 'buy', elim_cons_trade = True , falsebreak_bar= 1, ATR_surpass=0.1)\n",
    "VN30_5m_buy_stats"
   ]
  },
  {
   "cell_type": "code",
   "execution_count": null,
   "id": "4a1fd1a7",
   "metadata": {},
   "outputs": [],
   "source": [
    "Plot_csPipReturn(VN30_5m_buy_df, 'buy', 0.15, 1)"
   ]
  },
  {
   "cell_type": "code",
   "execution_count": null,
   "id": "fdbf1372",
   "metadata": {},
   "outputs": [],
   "source": [
    "VN30_5m_buy_df['PipReturn_3bar_cumsum'] = (VN30_5m_buy_df['PipReturn_3bar'] - 0.15).cumsum()\n",
    "plt.plot(VN30_5m_buy_df.index, VN30_5m_buy_df['PipReturn_3bar_cumsum'])"
   ]
  },
  {
   "cell_type": "markdown",
   "id": "41c38287",
   "metadata": {},
   "source": [
    "#### 15 min from 04/2020"
   ]
  },
  {
   "cell_type": "code",
   "execution_count": null,
   "id": "06f4a04b",
   "metadata": {},
   "outputs": [],
   "source": [
    "print(os.listdir(\"D:/Data/Stock/VN/Future/\"))"
   ]
  },
  {
   "cell_type": "code",
   "execution_count": null,
   "id": "ccadb9a1",
   "metadata": {},
   "outputs": [],
   "source": [
    "VN30F1M_15m_df = pd.read_csv(\"D:/Data/Stock/VN/Future/TDView_HNX_DLY_VN301!, 15.csv\")"
   ]
  },
  {
   "cell_type": "code",
   "execution_count": null,
   "id": "3d512c05",
   "metadata": {},
   "outputs": [],
   "source": [
    "VN30F1M_15m_test.df"
   ]
  },
  {
   "cell_type": "code",
   "execution_count": null,
   "id": "fb42ffe0",
   "metadata": {},
   "outputs": [],
   "source": [
    "VN30F1M_15m_test = TradingTest(VN30F1M_15m_df, pipRetMulti=1)"
   ]
  },
  {
   "cell_type": "code",
   "execution_count": null,
   "id": "092a584a",
   "metadata": {
    "tags": []
   },
   "outputs": [],
   "source": [
    "VN30F1M_15m_test.gen_pivot(5,5)\n",
    "VN30F1M_15m_test.gen_divSignal2(30)"
   ]
  },
  {
   "cell_type": "markdown",
   "id": "365b71d2",
   "metadata": {},
   "source": [
    "##### Sell"
   ]
  },
  {
   "cell_type": "code",
   "execution_count": null,
   "id": "4686354d",
   "metadata": {},
   "outputs": [],
   "source": [
    "VN30_15m_sell_df, VN30_15m_sell_stats = falsebreak_wDiv_test(VN30F1M_15m_test.df,\n",
    "                                                             side = 'sell', elim_cons_trade = True , falsebreak_bar= 0, ATR_surpass=0)\n",
    "VN30_15m_sell_stats"
   ]
  },
  {
   "cell_type": "code",
   "execution_count": null,
   "id": "dea3aafc",
   "metadata": {},
   "outputs": [],
   "source": [
    "Plot_csPipReturn(VN30_15m_sell_df, side = 'sell', spread = 0.15, return_bar='All')"
   ]
  },
  {
   "cell_type": "markdown",
   "id": "2580d4fb",
   "metadata": {},
   "source": [
    "##### Buy"
   ]
  },
  {
   "cell_type": "code",
   "execution_count": null,
   "id": "b9fd97d6",
   "metadata": {},
   "outputs": [],
   "source": [
    "VN30_15m_buy_df, VN30_15m_buy_stats = falsebreak_wDiv_test(VN30F1M_15m_test.df, side = 'buy', elim_cons_trade = True , falsebreak_bar= 0, ATR_surpass=0.)\n",
    "VN30_15m_buy_stats"
   ]
  },
  {
   "cell_type": "code",
   "execution_count": null,
   "id": "6bd4efd6",
   "metadata": {},
   "outputs": [],
   "source": [
    "VN30_15m_buy_df.tail(5)"
   ]
  },
  {
   "cell_type": "code",
   "execution_count": null,
   "id": "6101f77f",
   "metadata": {},
   "outputs": [],
   "source": [
    "Plot_csPipReturn(VN30_15m_buy_df, side = 'buy', spread = 0.15, return_bar='All')"
   ]
  },
  {
   "cell_type": "markdown",
   "id": "0b66dfc7",
   "metadata": {},
   "source": [
    "### AUDNZD"
   ]
  },
  {
   "cell_type": "markdown",
   "id": "bd38042a",
   "metadata": {},
   "source": [
    "#### DUKAS_AUDNZD_Candlestick_5_M_BID_01.07.2022-14.01.2023"
   ]
  },
  {
   "cell_type": "code",
   "execution_count": null,
   "id": "53023e78",
   "metadata": {},
   "outputs": [],
   "source": [
    "print(os.listdir(\"D:/5.Data center/Forex/AUDNZD/\"))"
   ]
  },
  {
   "cell_type": "code",
   "execution_count": null,
   "id": "72b2d680",
   "metadata": {
    "tags": []
   },
   "outputs": [],
   "source": [
    "AN_df = pd.read_csv(\"D:/5.Data center/Forex/AUDNZD/DUKAS_AUDNZD_Candlestick_5_M_BID_01.07.2022-14.01.2023.csv\")\n",
    "AN_df.columns = ['Gmt time', 'open', 'high', 'low', 'close', 'Volume']"
   ]
  },
  {
   "cell_type": "code",
   "execution_count": null,
   "id": "f3470d2c",
   "metadata": {},
   "outputs": [],
   "source": [
    "AN_tdtest = TradingTest(AN_df, pipRetMulti=10000)"
   ]
  },
  {
   "cell_type": "code",
   "execution_count": null,
   "id": "a1e86e00",
   "metadata": {
    "tags": []
   },
   "outputs": [],
   "source": [
    "AN_tdtest.gen_pivot(5,5)\n",
    "AN_tdtest.gen_divSignal2(30)"
   ]
  },
  {
   "cell_type": "code",
   "execution_count": null,
   "id": "49231a9f",
   "metadata": {},
   "outputs": [],
   "source": [
    "AN_tdtest.df.divSignal2MACD.value_counts()"
   ]
  },
  {
   "cell_type": "code",
   "execution_count": null,
   "id": "d0eeab60",
   "metadata": {},
   "outputs": [],
   "source": [
    "AN_sell_df, AN_sell_stat = falsebreak_wDiv_test(AN_tdtest.df, side = 'sell', elim_cons_trade = True , falsebreak_bar=0, ATR_surpass=0)\n",
    "AN_sell_stat"
   ]
  },
  {
   "cell_type": "code",
   "execution_count": null,
   "id": "d16f36b8",
   "metadata": {},
   "outputs": [],
   "source": [
    "AN_buy_df, AN_buy_stat = falsebreak_wDiv_test(AN_tdtest.df, side = 'buy', elim_cons_trade = True , falsebreak_bar=0, ATR_surpass=0)\n",
    "AN_buy_stat"
   ]
  },
  {
   "cell_type": "markdown",
   "id": "9398f5bc",
   "metadata": {},
   "source": [
    "### EURGBP"
   ]
  },
  {
   "cell_type": "markdown",
   "id": "98856cde",
   "metadata": {
    "tags": []
   },
   "source": [
    "#### DUKAS_EURGBP_Candlestick_5_M_BID_01.07.2022-14.01.2023"
   ]
  },
  {
   "cell_type": "code",
   "execution_count": null,
   "id": "beefdddf",
   "metadata": {},
   "outputs": [],
   "source": [
    "EG_df = pd.read_csv(\"D:/5.Data center/Forex/EURGBP/DUKAS_EURGBP_Candlestick_5_M_BID_01.07.2022-14.01.2023.csv\")"
   ]
  },
  {
   "cell_type": "code",
   "execution_count": null,
   "id": "ede8a700",
   "metadata": {},
   "outputs": [],
   "source": []
  },
  {
   "cell_type": "code",
   "execution_count": null,
   "id": "0a356588",
   "metadata": {},
   "outputs": [],
   "source": [
    "EG_tdtest = TradingTest(EG_df, pipRetMulti=10000)"
   ]
  },
  {
   "cell_type": "code",
   "execution_count": null,
   "id": "b33406dd",
   "metadata": {
    "tags": []
   },
   "outputs": [],
   "source": [
    "EG_tdtest.gen_pivot(5,5)\n",
    "EG_tdtest.gen_divSignal2(30)"
   ]
  },
  {
   "cell_type": "code",
   "execution_count": null,
   "id": "cf61e56b",
   "metadata": {},
   "outputs": [],
   "source": [
    "EG_tdtest.df.divSignal2MACD.value_counts()"
   ]
  },
  {
   "cell_type": "code",
   "execution_count": null,
   "id": "d247f831",
   "metadata": {},
   "outputs": [],
   "source": [
    "EG_sell_df,EG_sell_stat = falsebreak_wDiv_test(EG_tdtest.df, side = 'sell', elim_cons_trade = False , falsebreak_bar=1, ATR_surpass=0)\n",
    "EG_sell_stat"
   ]
  },
  {
   "cell_type": "code",
   "execution_count": null,
   "id": "011c7d10",
   "metadata": {},
   "outputs": [],
   "source": [
    "EG_buy_df,EG_buy_stat = falsebreak_wDiv_test(EG_tdtest.df, side = 'buy', elim_cons_trade = True , falsebreak_bar=1, ATR_surpass=0)\n",
    "EG_buy_stat"
   ]
  },
  {
   "cell_type": "code",
   "execution_count": null,
   "id": "ef475fa3",
   "metadata": {},
   "outputs": [],
   "source": [
    "np.polyfit??"
   ]
  },
  {
   "cell_type": "code",
   "execution_count": null,
   "id": "f54bc422-5789-4a99-ad93-727c2397bdf5",
   "metadata": {},
   "outputs": [],
   "source": [
    "import plotly.graph_objects as go\n",
    "from plotly.subplots import make_subplots\n",
    "\n",
    "fig = make_subplots(rows=3, cols=1, row_heights=[0.7, 0.2,0.1])\n",
    "\n",
    "fig.add_trace(go.Scatter(x=[1, 2, 3], y=[4, 5, 6]),\n",
    "              row=1, col=1)\n",
    "\n",
    "fig.add_trace(go.Scatter(x=[20, 30, 40], y=[50, 60, 70]),\n",
    "              row=2, col=1)\n",
    "fig.add_trace(go.Scatter(x=[20, 30, 40], y=[50, 60, 70]),\n",
    "              row=3, col=1)\n",
    "\n",
    "fig.show()"
   ]
  },
  {
   "cell_type": "markdown",
   "id": "2f88ef3c-7eea-44e4-a84c-30de09e0ec8d",
   "metadata": {
    "toc-hr-collapsed": true
   },
   "source": [
    "## Combination"
   ]
  },
  {
   "cell_type": "markdown",
   "id": "6fbec8cc-bff8-4915-af12-8c070379b255",
   "metadata": {
    "tags": []
   },
   "source": [
    "### Tradingview data 0822-0223 "
   ]
  },
  {
   "cell_type": "code",
   "execution_count": null,
   "id": "c409d76b-b7b1-4c65-9d16-6d9db8642a2b",
   "metadata": {},
   "outputs": [],
   "source": [
    "%store"
   ]
  },
  {
   "cell_type": "code",
   "execution_count": null,
   "id": "cec3ec38-d4e6-4c11-a1f7-16e3adb08f17",
   "metadata": {},
   "outputs": [],
   "source": [
    "%store -r USOIL15M_010922_080323_TDview_saved  \n",
    "USOIL15M_010922_080323_TDview_test = USOIL15M_010922_080323_TDview_saved[0]\n",
    "USOIL15M_010922_080323_TDview_test"
   ]
  },
  {
   "cell_type": "code",
   "execution_count": null,
   "id": "27a4984a-9072-4331-b5f0-9101fe2c3792",
   "metadata": {},
   "outputs": [],
   "source": [
    "%store -r EURAUD_15M_0822_0223_TDVIEW                          \n",
    "EURAUD_15M_0822_0223_TDVIEW_test = EURAUD_15M_0822_0223_TDVIEW[0]\n",
    "EURAUD_15M_0822_0223_TDVIEW_test"
   ]
  },
  {
   "cell_type": "code",
   "execution_count": null,
   "id": "968fd2cb-8ac8-4abc-b345-dca86d425fe4",
   "metadata": {},
   "outputs": [],
   "source": [
    "%store -r GJ15M_0822_0223_test_tdview_saved                    \n",
    "GJ15M_0822_0223_TDview_test = GJ15M_0822_0223_test_tdview_saved[0]\n",
    "GJ15M_0822_0223_TDview_test"
   ]
  },
  {
   "cell_type": "code",
   "execution_count": null,
   "id": "12f41bc0-4160-4b0a-925d-661a7e144e87",
   "metadata": {},
   "outputs": [],
   "source": [
    "%store -r XAU15M_0822_0223_TDVIEW_test_saved                                  \n",
    "XAU15M_0822_0223_TDVIEW_test = XAU15M_0822_0223_TDVIEW_test_saved[0]\n",
    "XAU15M_0822_0223_TDVIEW_test\n"
   ]
  },
  {
   "cell_type": "markdown",
   "id": "edefe239-5a16-4212-b574-c54497363e3d",
   "metadata": {},
   "source": [
    "### With divergence"
   ]
  },
  {
   "cell_type": "code",
   "execution_count": null,
   "id": "68cb7f5f-1c39-480a-b70b-c445411aea87",
   "metadata": {
    "tags": []
   },
   "outputs": [],
   "source": [
    "ATR_surpass = 0.3\n",
    "USOIL15M_010922_080323_TDview_test.test_falseBreakSig2MACD(ATR_surpass=ATR_surpass)\n",
    "EURAUD_15M_0822_0223_TDVIEW_test.test_falseBreakSig2MACD(ATR_surpass=ATR_surpass)\n",
    "GJ15M_0822_0223_TDview_test.test_falseBreakSig2MACD(ATR_surpass= ATR_surpass)\n",
    "XAU15M_0822_0223_TDVIEW_test.test_falseBreakSig2MACD(ATR_surpass= ATR_surpass)"
   ]
  },
  {
   "cell_type": "code",
   "execution_count": null,
   "id": "5b4f9193-bba7-49db-be76-e10e5fc10263",
   "metadata": {
    "tags": []
   },
   "outputs": [],
   "source": [
    "# Eliminate BTCUSD due to high volatility\n",
    "XAU_GJ_OIL_EA_15M_0822_0223 = pd.concat([USOIL15M_010922_080323_TDview_test.result_All, \n",
    "                                              EURAUD_15M_0822_0223_TDVIEW_test.result_All,\n",
    "                                              GJ15M_0822_0223_TDview_test.result_All,\n",
    "                                              XAU15M_0822_0223_TDVIEW_test.result_All])\n",
    "XAU_GJ_OIL_EA_15M_0822_0223 = XAU_GJ_OIL_EA_15M_0822_0223.sort_values(by = 'time').reset_index(drop = True)\n",
    "display(GetStatAll(XAU_GJ_OIL_EA_15M_0822_0223))\n",
    "Plot_csPipReturn(XAU_GJ_OIL_EA_15M_0822_0223,side = 'All', spread = 2, return_bar = 'All')"
   ]
  },
  {
   "cell_type": "markdown",
   "id": "bd45f4a0-4238-4808-b153-e4940aa1d9a0",
   "metadata": {},
   "source": [
    "### Without divergence"
   ]
  },
  {
   "cell_type": "code",
   "execution_count": null,
   "id": "768b5271-bdf2-406a-b6ef-f8c5cdbc7f06",
   "metadata": {
    "tags": []
   },
   "outputs": [],
   "source": [
    "ATR_surpass = 0.3\n",
    "div_signal = 'no'\n",
    "ATR_commpare_range = 1\n",
    "USOIL15M_010922_080323_TDview_test.test_falseBreakSig2MACD(ATR_surpass=ATR_surpass,div_signal=div_signal,ATR_commpare_range = ATR_commpare_range)\n",
    "EURAUD_15M_0822_0223_TDVIEW_test.test_falseBreakSig2MACD(ATR_surpass=ATR_surpass,div_signal=div_signal,ATR_commpare_range = ATR_commpare_range)\n",
    "GJ15M_0822_0223_TDview_test.test_falseBreakSig2MACD(ATR_surpass=ATR_surpass,div_signal=div_signal,ATR_commpare_range = ATR_commpare_range)\n",
    "XAU15M_0822_0223_TDVIEW_test.test_falseBreakSig2MACD(ATR_surpass=ATR_surpass,div_signal=div_signal,ATR_commpare_range = ATR_commpare_range)"
   ]
  },
  {
   "cell_type": "code",
   "execution_count": null,
   "id": "2d43503f-10f1-45c1-ac67-8550d0437588",
   "metadata": {
    "tags": []
   },
   "outputs": [],
   "source": [
    "# Eliminate BTCUSD due to high volatility\n",
    "XAU_GJ_OIL_EA_15M_0822_0223 = pd.concat([\n",
    "                                              USOIL15M_010922_080323_TDview_test.result_All, \n",
    "                                              EURAUD_15M_0822_0223_TDVIEW_test.result_All,\n",
    "                                              GJ15M_0822_0223_TDview_test.result_All,\n",
    "                                              XAU15M_0822_0223_TDVIEW_test.result_All\n",
    "                                        ])\n",
    "XAU_GJ_OIL_EA_15M_0822_0223 = XAU_GJ_OIL_EA_15M_0822_0223.sort_values(by = 'time').reset_index(drop = True)\n",
    "display(GetStatAll(XAU_GJ_OIL_EA_15M_0822_0223))\n",
    "Plot_csPipReturn(XAU_GJ_OIL_EA_15M_0822_0223,side = 'All', spread = 2, return_bar = 'All')"
   ]
  },
  {
   "cell_type": "code",
   "execution_count": null,
   "id": "2894a7a9-b8eb-40b2-bd58-f1a149dc9d1a",
   "metadata": {},
   "outputs": [],
   "source": []
  }
 ],
 "metadata": {
  "kernelspec": {
   "display_name": "Python 3 (ipykernel)",
   "language": "python",
   "name": "python3"
  },
  "language_info": {
   "codemirror_mode": {
    "name": "ipython",
    "version": 3
   },
   "file_extension": ".py",
   "mimetype": "text/x-python",
   "name": "python",
   "nbconvert_exporter": "python",
   "pygments_lexer": "ipython3",
   "version": "3.9.5"
  },
  "toc-showcode": false,
  "toc-showmarkdowntxt": false,
  "toc-showtags": false
 },
 "nbformat": 4,
 "nbformat_minor": 5
}
