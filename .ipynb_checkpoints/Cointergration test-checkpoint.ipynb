{
 "cells": [
  {
   "cell_type": "code",
   "execution_count": 1,
   "id": "3bd27d8a",
   "metadata": {
    "tags": []
   },
   "outputs": [],
   "source": [
    "import matplotlib.pyplot as plt\n",
    "import numpy as np\n",
    "import pandas as pd\n",
    "import pandas_datareader as dr\n",
    "import yfinance as yf\n",
    "import statsmodels.api as sm\n",
    "\n",
    "from arch.unitroot import ADF\n",
    "from statsmodels.tsa.api import VAR\n",
    "from statsmodels.tsa.vector_ar.vecm import VECM, coint_johansen\n",
    "\n",
    "from pmdarima.arima import auto_arima\n",
    "from statsmodels.tsa.arima.model import ARIMA\n",
    "\n",
    "from statsmodels.tsa.statespace.sarimax import SARIMAX\n",
    "from tqdm import tqdm_notebook\n",
    "from itertools import product\n",
    "\n",
    "\n",
    "\n",
    "\n",
    "import datetime\n",
    "plt.style.use('classic')\n",
    "import seaborn as sns"
   ]
  },
  {
   "cell_type": "code",
   "execution_count": 31,
   "id": "8eee278f-d467-4d86-89c6-6b3b407b4500",
   "metadata": {
    "tags": []
   },
   "outputs": [],
   "source": [
    "xau_df = pd.read_csv(\"D:/Data/Forex/XAUUSD/OANDA_XAUUSD, 1D_maxtime_0523.csv\").iloc[-3034:]"
   ]
  },
  {
   "cell_type": "code",
   "execution_count": 32,
   "id": "2bfadacb-81cc-4bd5-ab20-8b0d9a60af29",
   "metadata": {
    "tags": []
   },
   "outputs": [],
   "source": [
    "xag_df = pd.read_csv(\"D:/Data/Forex/XAGUSD/OANDA_XAGUSD, 1D_maxtime_0523.csv\").iloc[-3034:]"
   ]
  },
  {
   "cell_type": "code",
   "execution_count": 17,
   "id": "570629cb-f487-41bc-8c22-21869b06bcc6",
   "metadata": {
    "tags": []
   },
   "outputs": [],
   "source": [
    "copper_df = pd.read_csv(\"D:/Data/Forex/Copper/FX_COPPER, 1D_12y_0523.csv\")"
   ]
  },
  {
   "cell_type": "code",
   "execution_count": 30,
   "id": "e797752a-abd8-4e57-bdd0-d41697fa4a84",
   "metadata": {
    "tags": []
   },
   "outputs": [
    {
     "data": {
      "text/html": [
       "<div>\n",
       "<style scoped>\n",
       "    .dataframe tbody tr th:only-of-type {\n",
       "        vertical-align: middle;\n",
       "    }\n",
       "\n",
       "    .dataframe tbody tr th {\n",
       "        vertical-align: top;\n",
       "    }\n",
       "\n",
       "    .dataframe thead th {\n",
       "        text-align: right;\n",
       "    }\n",
       "</style>\n",
       "<table border=\"1\" class=\"dataframe\">\n",
       "  <thead>\n",
       "    <tr style=\"text-align: right;\">\n",
       "      <th></th>\n",
       "      <th>time</th>\n",
       "      <th>open</th>\n",
       "      <th>high</th>\n",
       "      <th>low</th>\n",
       "      <th>close</th>\n",
       "      <th>Volume</th>\n",
       "      <th>Volume MA</th>\n",
       "    </tr>\n",
       "  </thead>\n",
       "  <tbody>\n",
       "    <tr>\n",
       "      <th>0</th>\n",
       "      <td>2011-08-29T04:00:00+07:00</td>\n",
       "      <td>3.9540</td>\n",
       "      <td>4.1130</td>\n",
       "      <td>3.9540</td>\n",
       "      <td>4.0920</td>\n",
       "      <td>751</td>\n",
       "      <td>NaN</td>\n",
       "    </tr>\n",
       "    <tr>\n",
       "      <th>1</th>\n",
       "      <td>2011-08-30T04:00:00+07:00</td>\n",
       "      <td>4.0920</td>\n",
       "      <td>4.1730</td>\n",
       "      <td>4.0810</td>\n",
       "      <td>4.1350</td>\n",
       "      <td>803</td>\n",
       "      <td>NaN</td>\n",
       "    </tr>\n",
       "    <tr>\n",
       "      <th>2</th>\n",
       "      <td>2011-08-31T04:00:00+07:00</td>\n",
       "      <td>4.1350</td>\n",
       "      <td>4.2000</td>\n",
       "      <td>4.1030</td>\n",
       "      <td>4.1700</td>\n",
       "      <td>232</td>\n",
       "      <td>NaN</td>\n",
       "    </tr>\n",
       "    <tr>\n",
       "      <th>3</th>\n",
       "      <td>2011-09-01T04:00:00+07:00</td>\n",
       "      <td>4.1700</td>\n",
       "      <td>4.1830</td>\n",
       "      <td>4.1090</td>\n",
       "      <td>4.1210</td>\n",
       "      <td>767</td>\n",
       "      <td>NaN</td>\n",
       "    </tr>\n",
       "    <tr>\n",
       "      <th>4</th>\n",
       "      <td>2011-09-02T04:00:00+07:00</td>\n",
       "      <td>4.1210</td>\n",
       "      <td>4.1420</td>\n",
       "      <td>4.0710</td>\n",
       "      <td>4.1020</td>\n",
       "      <td>740</td>\n",
       "      <td>NaN</td>\n",
       "    </tr>\n",
       "    <tr>\n",
       "      <th>...</th>\n",
       "      <td>...</td>\n",
       "      <td>...</td>\n",
       "      <td>...</td>\n",
       "      <td>...</td>\n",
       "      <td>...</td>\n",
       "      <td>...</td>\n",
       "      <td>...</td>\n",
       "    </tr>\n",
       "    <tr>\n",
       "      <th>3029</th>\n",
       "      <td>2023-05-09T04:00:00+07:00</td>\n",
       "      <td>3.9218</td>\n",
       "      <td>3.9218</td>\n",
       "      <td>3.8791</td>\n",
       "      <td>3.9029</td>\n",
       "      <td>29993</td>\n",
       "      <td>42111.95</td>\n",
       "    </tr>\n",
       "    <tr>\n",
       "      <th>3030</th>\n",
       "      <td>2023-05-10T04:00:00+07:00</td>\n",
       "      <td>3.9029</td>\n",
       "      <td>3.9163</td>\n",
       "      <td>3.8266</td>\n",
       "      <td>3.8474</td>\n",
       "      <td>40431</td>\n",
       "      <td>42034.40</td>\n",
       "    </tr>\n",
       "    <tr>\n",
       "      <th>3031</th>\n",
       "      <td>2023-05-11T04:00:00+07:00</td>\n",
       "      <td>3.8474</td>\n",
       "      <td>3.8533</td>\n",
       "      <td>3.6816</td>\n",
       "      <td>3.6972</td>\n",
       "      <td>55320</td>\n",
       "      <td>42861.30</td>\n",
       "    </tr>\n",
       "    <tr>\n",
       "      <th>3032</th>\n",
       "      <td>2023-05-12T04:00:00+07:00</td>\n",
       "      <td>3.6972</td>\n",
       "      <td>3.7495</td>\n",
       "      <td>3.6758</td>\n",
       "      <td>3.7228</td>\n",
       "      <td>42793</td>\n",
       "      <td>42532.20</td>\n",
       "    </tr>\n",
       "    <tr>\n",
       "      <th>3033</th>\n",
       "      <td>2023-05-15T04:00:00+07:00</td>\n",
       "      <td>3.7228</td>\n",
       "      <td>3.7318</td>\n",
       "      <td>3.7001</td>\n",
       "      <td>3.7043</td>\n",
       "      <td>6446</td>\n",
       "      <td>40901.95</td>\n",
       "    </tr>\n",
       "  </tbody>\n",
       "</table>\n",
       "<p>3034 rows × 7 columns</p>\n",
       "</div>"
      ],
      "text/plain": [
       "                           time    open    high     low   close  Volume  \\\n",
       "0     2011-08-29T04:00:00+07:00  3.9540  4.1130  3.9540  4.0920     751   \n",
       "1     2011-08-30T04:00:00+07:00  4.0920  4.1730  4.0810  4.1350     803   \n",
       "2     2011-08-31T04:00:00+07:00  4.1350  4.2000  4.1030  4.1700     232   \n",
       "3     2011-09-01T04:00:00+07:00  4.1700  4.1830  4.1090  4.1210     767   \n",
       "4     2011-09-02T04:00:00+07:00  4.1210  4.1420  4.0710  4.1020     740   \n",
       "...                         ...     ...     ...     ...     ...     ...   \n",
       "3029  2023-05-09T04:00:00+07:00  3.9218  3.9218  3.8791  3.9029   29993   \n",
       "3030  2023-05-10T04:00:00+07:00  3.9029  3.9163  3.8266  3.8474   40431   \n",
       "3031  2023-05-11T04:00:00+07:00  3.8474  3.8533  3.6816  3.6972   55320   \n",
       "3032  2023-05-12T04:00:00+07:00  3.6972  3.7495  3.6758  3.7228   42793   \n",
       "3033  2023-05-15T04:00:00+07:00  3.7228  3.7318  3.7001  3.7043    6446   \n",
       "\n",
       "      Volume MA  \n",
       "0           NaN  \n",
       "1           NaN  \n",
       "2           NaN  \n",
       "3           NaN  \n",
       "4           NaN  \n",
       "...         ...  \n",
       "3029   42111.95  \n",
       "3030   42034.40  \n",
       "3031   42861.30  \n",
       "3032   42532.20  \n",
       "3033   40901.95  \n",
       "\n",
       "[3034 rows x 7 columns]"
      ]
     },
     "execution_count": 30,
     "metadata": {},
     "output_type": "execute_result"
    }
   ],
   "source": [
    "copper_df"
   ]
  },
  {
   "cell_type": "code",
   "execution_count": 38,
   "id": "b139ae17-8dd7-4966-ba66-5b39dfaf4516",
   "metadata": {
    "tags": []
   },
   "outputs": [],
   "source": [
    "['time'] = pd.to_datetime(xau_df['time'])"
   ]
  },
  {
   "cell_type": "code",
   "execution_count": 39,
   "id": "de4f8dd2-e2fb-4f27-ba30-7b39948244dc",
   "metadata": {
    "tags": []
   },
   "outputs": [],
   "source": [
    "xag_df['time'] = pd.to_datetime(xag_df['time'])\n",
    "copper_df['time'] = pd.to_datetime(copper_df['time'])"
   ]
  },
  {
   "cell_type": "code",
   "execution_count": 43,
   "id": "b6f87d57-041d-4864-9cb3-3498117ae68c",
   "metadata": {
    "tags": []
   },
   "outputs": [],
   "source": [
    "xag_df = xag_df[['time','close']]\n",
    "xau_df = xau_df[['time','close']]\n",
    "copper_df = copper_df[['time','close']]\n"
   ]
  },
  {
   "cell_type": "code",
   "execution_count": 45,
   "id": "2f079e2b-e4f1-4505-9467-d0fc97ac3fc8",
   "metadata": {
    "tags": []
   },
   "outputs": [],
   "source": [
    "xag_df.set_index('time',inplace=True)\n",
    "xau_df.set_index('time',inplace=True)\n",
    "copper_df.set_index('time',inplace=True)\n"
   ]
  },
  {
   "cell_type": "code",
   "execution_count": 50,
   "id": "8646d649-2acd-469b-b8be-29e48b3e01b4",
   "metadata": {
    "tags": []
   },
   "outputs": [],
   "source": [
    "xag_df.columns = ['XAGUSD']\n",
    "xau_df.columns = ['XAUUSD']\n",
    "copper_df.columns = ['COPPER']\n",
    "\n"
   ]
  },
  {
   "cell_type": "code",
   "execution_count": 58,
   "id": "267c11de-794c-4ad9-a77f-c51471471a5a",
   "metadata": {
    "tags": []
   },
   "outputs": [
    {
     "data": {
      "text/html": [
       "<div>\n",
       "<style scoped>\n",
       "    .dataframe tbody tr th:only-of-type {\n",
       "        vertical-align: middle;\n",
       "    }\n",
       "\n",
       "    .dataframe tbody tr th {\n",
       "        vertical-align: top;\n",
       "    }\n",
       "\n",
       "    .dataframe thead th {\n",
       "        text-align: right;\n",
       "    }\n",
       "</style>\n",
       "<table border=\"1\" class=\"dataframe\">\n",
       "  <thead>\n",
       "    <tr style=\"text-align: right;\">\n",
       "      <th></th>\n",
       "      <th>COPPER</th>\n",
       "    </tr>\n",
       "    <tr>\n",
       "      <th>time</th>\n",
       "      <th></th>\n",
       "    </tr>\n",
       "  </thead>\n",
       "  <tbody>\n",
       "    <tr>\n",
       "      <th>2011-08-29 04:00:00+07:00</th>\n",
       "      <td>4.0920</td>\n",
       "    </tr>\n",
       "    <tr>\n",
       "      <th>2011-08-30 04:00:00+07:00</th>\n",
       "      <td>4.1350</td>\n",
       "    </tr>\n",
       "    <tr>\n",
       "      <th>2011-08-31 04:00:00+07:00</th>\n",
       "      <td>4.1700</td>\n",
       "    </tr>\n",
       "    <tr>\n",
       "      <th>2011-09-01 04:00:00+07:00</th>\n",
       "      <td>4.1210</td>\n",
       "    </tr>\n",
       "    <tr>\n",
       "      <th>2011-09-02 04:00:00+07:00</th>\n",
       "      <td>4.1020</td>\n",
       "    </tr>\n",
       "    <tr>\n",
       "      <th>...</th>\n",
       "      <td>...</td>\n",
       "    </tr>\n",
       "    <tr>\n",
       "      <th>2023-05-09 04:00:00+07:00</th>\n",
       "      <td>3.9029</td>\n",
       "    </tr>\n",
       "    <tr>\n",
       "      <th>2023-05-10 04:00:00+07:00</th>\n",
       "      <td>3.8474</td>\n",
       "    </tr>\n",
       "    <tr>\n",
       "      <th>2023-05-11 04:00:00+07:00</th>\n",
       "      <td>3.6972</td>\n",
       "    </tr>\n",
       "    <tr>\n",
       "      <th>2023-05-12 04:00:00+07:00</th>\n",
       "      <td>3.7228</td>\n",
       "    </tr>\n",
       "    <tr>\n",
       "      <th>2023-05-15 04:00:00+07:00</th>\n",
       "      <td>3.7043</td>\n",
       "    </tr>\n",
       "  </tbody>\n",
       "</table>\n",
       "<p>3034 rows × 1 columns</p>\n",
       "</div>"
      ],
      "text/plain": [
       "                           COPPER\n",
       "time                             \n",
       "2011-08-29 04:00:00+07:00  4.0920\n",
       "2011-08-30 04:00:00+07:00  4.1350\n",
       "2011-08-31 04:00:00+07:00  4.1700\n",
       "2011-09-01 04:00:00+07:00  4.1210\n",
       "2011-09-02 04:00:00+07:00  4.1020\n",
       "...                           ...\n",
       "2023-05-09 04:00:00+07:00  3.9029\n",
       "2023-05-10 04:00:00+07:00  3.8474\n",
       "2023-05-11 04:00:00+07:00  3.6972\n",
       "2023-05-12 04:00:00+07:00  3.7228\n",
       "2023-05-15 04:00:00+07:00  3.7043\n",
       "\n",
       "[3034 rows x 1 columns]"
      ]
     },
     "execution_count": 58,
     "metadata": {},
     "output_type": "execute_result"
    }
   ],
   "source": [
    "copper_df"
   ]
  },
  {
   "cell_type": "code",
   "execution_count": 59,
   "id": "82938f1d-63c1-4527-8da1-8fff89344b3e",
   "metadata": {
    "tags": []
   },
   "outputs": [],
   "source": [
    "df = pd.concat([xau_df,xag_df,copper_df], axis = 1)"
   ]
  },
  {
   "cell_type": "code",
   "execution_count": 61,
   "id": "1632547f-51ac-4f93-9b31-36b3df54b3c5",
   "metadata": {
    "tags": []
   },
   "outputs": [],
   "source": [
    "df = df.dropna()"
   ]
  },
  {
   "cell_type": "code",
   "execution_count": 62,
   "id": "b6008357-c776-4139-9a0e-ba7af849fc21",
   "metadata": {
    "collapsed": true,
    "jupyter": {
     "outputs_hidden": true
    },
    "tags": []
   },
   "outputs": [
    {
     "data": {
      "text/html": [
       "<div>\n",
       "<style scoped>\n",
       "    .dataframe tbody tr th:only-of-type {\n",
       "        vertical-align: middle;\n",
       "    }\n",
       "\n",
       "    .dataframe tbody tr th {\n",
       "        vertical-align: top;\n",
       "    }\n",
       "\n",
       "    .dataframe thead th {\n",
       "        text-align: right;\n",
       "    }\n",
       "</style>\n",
       "<table border=\"1\" class=\"dataframe\">\n",
       "  <thead>\n",
       "    <tr style=\"text-align: right;\">\n",
       "      <th></th>\n",
       "      <th>XAUUSD</th>\n",
       "      <th>XAGUSD</th>\n",
       "      <th>COPPER</th>\n",
       "    </tr>\n",
       "    <tr>\n",
       "      <th>time</th>\n",
       "      <th></th>\n",
       "      <th></th>\n",
       "      <th></th>\n",
       "    </tr>\n",
       "  </thead>\n",
       "  <tbody>\n",
       "    <tr>\n",
       "      <th>2011-08-29 04:00:00+07:00</th>\n",
       "      <td>1788.297</td>\n",
       "      <td>40.87260</td>\n",
       "      <td>4.0920</td>\n",
       "    </tr>\n",
       "    <tr>\n",
       "      <th>2011-08-30 04:00:00+07:00</th>\n",
       "      <td>1835.339</td>\n",
       "      <td>41.32370</td>\n",
       "      <td>4.1350</td>\n",
       "    </tr>\n",
       "    <tr>\n",
       "      <th>2011-08-31 04:00:00+07:00</th>\n",
       "      <td>1825.613</td>\n",
       "      <td>41.56206</td>\n",
       "      <td>4.1700</td>\n",
       "    </tr>\n",
       "    <tr>\n",
       "      <th>2011-09-01 04:00:00+07:00</th>\n",
       "      <td>1826.184</td>\n",
       "      <td>41.57525</td>\n",
       "      <td>4.1210</td>\n",
       "    </tr>\n",
       "    <tr>\n",
       "      <th>2011-09-02 04:00:00+07:00</th>\n",
       "      <td>1883.050</td>\n",
       "      <td>43.25750</td>\n",
       "      <td>4.1020</td>\n",
       "    </tr>\n",
       "    <tr>\n",
       "      <th>...</th>\n",
       "      <td>...</td>\n",
       "      <td>...</td>\n",
       "      <td>...</td>\n",
       "    </tr>\n",
       "    <tr>\n",
       "      <th>2023-05-09 04:00:00+07:00</th>\n",
       "      <td>2034.535</td>\n",
       "      <td>25.60450</td>\n",
       "      <td>3.9029</td>\n",
       "    </tr>\n",
       "    <tr>\n",
       "      <th>2023-05-10 04:00:00+07:00</th>\n",
       "      <td>2029.740</td>\n",
       "      <td>25.39000</td>\n",
       "      <td>3.8474</td>\n",
       "    </tr>\n",
       "    <tr>\n",
       "      <th>2023-05-11 04:00:00+07:00</th>\n",
       "      <td>2015.030</td>\n",
       "      <td>24.18700</td>\n",
       "      <td>3.6972</td>\n",
       "    </tr>\n",
       "    <tr>\n",
       "      <th>2023-05-12 04:00:00+07:00</th>\n",
       "      <td>2011.025</td>\n",
       "      <td>23.97400</td>\n",
       "      <td>3.7228</td>\n",
       "    </tr>\n",
       "    <tr>\n",
       "      <th>2023-05-15 04:00:00+07:00</th>\n",
       "      <td>2014.380</td>\n",
       "      <td>24.02645</td>\n",
       "      <td>3.7043</td>\n",
       "    </tr>\n",
       "  </tbody>\n",
       "</table>\n",
       "<p>3024 rows × 3 columns</p>\n",
       "</div>"
      ],
      "text/plain": [
       "                             XAUUSD    XAGUSD  COPPER\n",
       "time                                                 \n",
       "2011-08-29 04:00:00+07:00  1788.297  40.87260  4.0920\n",
       "2011-08-30 04:00:00+07:00  1835.339  41.32370  4.1350\n",
       "2011-08-31 04:00:00+07:00  1825.613  41.56206  4.1700\n",
       "2011-09-01 04:00:00+07:00  1826.184  41.57525  4.1210\n",
       "2011-09-02 04:00:00+07:00  1883.050  43.25750  4.1020\n",
       "...                             ...       ...     ...\n",
       "2023-05-09 04:00:00+07:00  2034.535  25.60450  3.9029\n",
       "2023-05-10 04:00:00+07:00  2029.740  25.39000  3.8474\n",
       "2023-05-11 04:00:00+07:00  2015.030  24.18700  3.6972\n",
       "2023-05-12 04:00:00+07:00  2011.025  23.97400  3.7228\n",
       "2023-05-15 04:00:00+07:00  2014.380  24.02645  3.7043\n",
       "\n",
       "[3024 rows x 3 columns]"
      ]
     },
     "execution_count": 62,
     "metadata": {},
     "output_type": "execute_result"
    }
   ],
   "source": [
    "df"
   ]
  },
  {
   "cell_type": "code",
   "execution_count": 63,
   "id": "03b05748-a277-496c-aac2-c74c49091db9",
   "metadata": {
    "tags": []
   },
   "outputs": [
    {
     "name": "stderr",
     "output_type": "stream",
     "text": [
      "C:\\Users\\admin\\.conda\\envs\\sklearn-env\\lib\\site-packages\\statsmodels\\tsa\\base\\tsa_model.py:471: ValueWarning: A date index has been provided, but it has no associated frequency information and so will be ignored when e.g. forecasting.\n",
      "  self._init_dates(dates, freq)\n"
     ]
    },
    {
     "data": {
      "text/html": [
       "<table class=\"simpletable\">\n",
       "<caption>VAR Order Selection (* highlights the minimums)</caption>\n",
       "<tr>\n",
       "   <td></td>      <th>AIC</th>         <th>BIC</th>         <th>FPE</th>        <th>HQIC</th>    \n",
       "</tr>\n",
       "<tr>\n",
       "  <th>0</th>  <td>     12.14</td>  <td>     12.14</td>  <td> 1.867e+05</td>  <td>     12.14</td> \n",
       "</tr>\n",
       "<tr>\n",
       "  <th>1</th>  <td>    -3.870*</td> <td>    -3.846*</td> <td>   0.02085*</td> <td>    -3.862*</td>\n",
       "</tr>\n",
       "<tr>\n",
       "  <th>2</th>  <td>    -3.870</td>  <td>    -3.828</td>  <td>   0.02086</td>  <td>    -3.855</td> \n",
       "</tr>\n",
       "<tr>\n",
       "  <th>3</th>  <td>    -3.870</td>  <td>    -3.810</td>  <td>   0.02086</td>  <td>    -3.848</td> \n",
       "</tr>\n",
       "<tr>\n",
       "  <th>4</th>  <td>    -3.867</td>  <td>    -3.790</td>  <td>   0.02091</td>  <td>    -3.839</td> \n",
       "</tr>\n",
       "<tr>\n",
       "  <th>5</th>  <td>    -3.863</td>  <td>    -3.767</td>  <td>   0.02100</td>  <td>    -3.829</td> \n",
       "</tr>\n",
       "<tr>\n",
       "  <th>6</th>  <td>    -3.860</td>  <td>    -3.747</td>  <td>   0.02106</td>  <td>    -3.819</td> \n",
       "</tr>\n",
       "<tr>\n",
       "  <th>7</th>  <td>    -3.863</td>  <td>    -3.731</td>  <td>   0.02101</td>  <td>    -3.815</td> \n",
       "</tr>\n",
       "<tr>\n",
       "  <th>8</th>  <td>    -3.860</td>  <td>    -3.710</td>  <td>   0.02107</td>  <td>    -3.806</td> \n",
       "</tr>\n",
       "<tr>\n",
       "  <th>9</th>  <td>    -3.857</td>  <td>    -3.689</td>  <td>   0.02114</td>  <td>    -3.797</td> \n",
       "</tr>\n",
       "<tr>\n",
       "  <th>10</th> <td>    -3.855</td>  <td>    -3.669</td>  <td>   0.02118</td>  <td>    -3.788</td> \n",
       "</tr>\n",
       "</table>"
      ],
      "text/plain": [
       "<class 'statsmodels.iolib.table.SimpleTable'>"
      ]
     },
     "execution_count": 63,
     "metadata": {},
     "output_type": "execute_result"
    }
   ],
   "source": [
    "model = VAR(df)\n",
    "x = model.select_order(maxlags=10, trend=\"c\")\n",
    "x.summary()"
   ]
  },
  {
   "cell_type": "code",
   "execution_count": 65,
   "id": "b0261029-6380-4a64-b4af-71a72e590560",
   "metadata": {
    "tags": []
   },
   "outputs": [
    {
     "name": "stdout",
     "output_type": "stream",
     "text": [
      "Eigenvalues of VECM coefficient matrix : [6.09032146e-03 3.27564620e-03 7.66853126e-05]\n",
      "\n"
     ]
    },
    {
     "data": {
      "text/html": [
       "<div>\n",
       "<style scoped>\n",
       "    .dataframe tbody tr th:only-of-type {\n",
       "        vertical-align: middle;\n",
       "    }\n",
       "\n",
       "    .dataframe tbody tr th {\n",
       "        vertical-align: top;\n",
       "    }\n",
       "\n",
       "    .dataframe thead th {\n",
       "        text-align: right;\n",
       "    }\n",
       "</style>\n",
       "<table border=\"1\" class=\"dataframe\">\n",
       "  <thead>\n",
       "    <tr style=\"text-align: right;\">\n",
       "      <th></th>\n",
       "      <th>Test statistic</th>\n",
       "      <th>Critical values (90%)</th>\n",
       "      <th>Critical values (95%)</th>\n",
       "      <th>Critical values (99%)</th>\n",
       "    </tr>\n",
       "  </thead>\n",
       "  <tbody>\n",
       "    <tr>\n",
       "      <th>rank=0</th>\n",
       "      <td>28.608229</td>\n",
       "      <td>27.0669</td>\n",
       "      <td>29.7961</td>\n",
       "      <td>35.4628</td>\n",
       "    </tr>\n",
       "    <tr>\n",
       "      <th>rank&lt;=1</th>\n",
       "      <td>10.147003</td>\n",
       "      <td>13.4294</td>\n",
       "      <td>15.4943</td>\n",
       "      <td>19.9349</td>\n",
       "    </tr>\n",
       "    <tr>\n",
       "      <th>rank&lt;=2</th>\n",
       "      <td>0.231752</td>\n",
       "      <td>2.7055</td>\n",
       "      <td>3.8415</td>\n",
       "      <td>6.6349</td>\n",
       "    </tr>\n",
       "  </tbody>\n",
       "</table>\n",
       "</div>"
      ],
      "text/plain": [
       "         Test statistic  Critical values (90%)  Critical values (95%)  \\\n",
       "rank=0        28.608229                27.0669                29.7961   \n",
       "rank<=1       10.147003                13.4294                15.4943   \n",
       "rank<=2        0.231752                 2.7055                 3.8415   \n",
       "\n",
       "         Critical values (99%)  \n",
       "rank=0                 35.4628  \n",
       "rank<=1                19.9349  \n",
       "rank<=2                 6.6349  "
      ]
     },
     "execution_count": 65,
     "metadata": {},
     "output_type": "execute_result"
    }
   ],
   "source": [
    "jtest = coint_johansen(df, det_order=0, k_ar_diff=1)\n",
    "\n",
    "# Print the results\n",
    "print(f\"Eigenvalues of VECM coefficient matrix : {jtest.eig}\\n\")\n",
    "\n",
    "pd.DataFrame(\n",
    "    {\n",
    "        \"Test statistic\": jtest.trace_stat,\n",
    "        \"Critical values (90%)\": jtest.trace_stat_crit_vals[:, 0],\n",
    "        \"Critical values (95%)\": jtest.trace_stat_crit_vals[:, 1],\n",
    "        \"Critical values (99%)\": jtest.trace_stat_crit_vals[:, 2],\n",
    "    },\n",
    "    index=[\"rank=0\", \"rank<=1\", \"rank<=2\"]\n",
    ")"
   ]
  },
  {
   "cell_type": "code",
   "execution_count": 66,
   "id": "39f6d2b6-7c6c-4e05-95fb-cf41aec856d2",
   "metadata": {
    "tags": []
   },
   "outputs": [
    {
     "name": "stderr",
     "output_type": "stream",
     "text": [
      "C:\\Users\\admin\\.conda\\envs\\sklearn-env\\lib\\site-packages\\statsmodels\\tsa\\base\\tsa_model.py:471: ValueWarning: A date index has been provided, but it has no associated frequency information and so will be ignored when e.g. forecasting.\n",
      "  self._init_dates(dates, freq)\n"
     ]
    },
    {
     "name": "stdout",
     "output_type": "stream",
     "text": [
      "Det. terms outside the coint. relation & lagged endog. parameters for equation XAUUSD\n",
      "==============================================================================\n",
      "                 coef    std err          z      P>|z|      [0.025      0.975]\n",
      "------------------------------------------------------------------------------\n",
      "L1.XAUUSD      0.0216      0.030      0.724      0.469      -0.037       0.080\n",
      "L1.XAGUSD     -0.0206      1.147     -0.018      0.986      -2.269       2.228\n",
      "L1.COPPER     -3.2740      6.560     -0.499      0.618     -16.131       9.583\n",
      "Det. terms outside the coint. relation & lagged endog. parameters for equation XAGUSD\n",
      "==============================================================================\n",
      "                 coef    std err          z      P>|z|      [0.025      0.975]\n",
      "------------------------------------------------------------------------------\n",
      "L1.XAUUSD      0.0019      0.001      2.339      0.019       0.000       0.004\n",
      "L1.XAGUSD     -0.0676      0.031     -2.152      0.031      -0.129      -0.006\n",
      "L1.COPPER      0.1256      0.180      0.700      0.484      -0.226       0.478\n",
      "Det. terms outside the coint. relation & lagged endog. parameters for equation COPPER\n",
      "==============================================================================\n",
      "                 coef    std err          z      P>|z|      [0.025      0.975]\n",
      "------------------------------------------------------------------------------\n",
      "L1.XAUUSD      0.0002   9.13e-05      1.752      0.080    -1.9e-05       0.000\n",
      "L1.XAGUSD     -0.0029      0.004     -0.828      0.407      -0.010       0.004\n",
      "L1.COPPER     -0.0102      0.020     -0.506      0.613      -0.049       0.029\n",
      "               Loading coefficients (alpha) for equation XAUUSD               \n",
      "==============================================================================\n",
      "                 coef    std err          z      P>|z|      [0.025      0.975]\n",
      "------------------------------------------------------------------------------\n",
      "ec1            0.0027      0.001      3.348      0.001       0.001       0.004\n",
      "               Loading coefficients (alpha) for equation XAGUSD               \n",
      "==============================================================================\n",
      "                 coef    std err          z      P>|z|      [0.025      0.975]\n",
      "------------------------------------------------------------------------------\n",
      "ec1         9.553e-05   2.18e-05      4.383      0.000    5.28e-05       0.000\n",
      "               Loading coefficients (alpha) for equation COPPER               \n",
      "==============================================================================\n",
      "                 coef    std err          z      P>|z|      [0.025      0.975]\n",
      "------------------------------------------------------------------------------\n",
      "ec1         4.203e-06   2.44e-06      1.725      0.084   -5.71e-07    8.98e-06\n",
      "          Cointegration relations for loading-coefficients-column 1           \n",
      "==============================================================================\n",
      "                 coef    std err          z      P>|z|      [0.025      0.975]\n",
      "------------------------------------------------------------------------------\n",
      "beta.1         1.0000          0          0      0.000       1.000       1.000\n",
      "beta.2       -77.3567     18.398     -4.205      0.000    -113.416     -41.298\n",
      "beta.3       -64.6683    156.794     -0.412      0.680    -371.980     242.643\n",
      "const        260.2549    378.457      0.688      0.492    -481.508    1002.017\n",
      "==============================================================================\n"
     ]
    }
   ],
   "source": [
    "vecm_model = VECM(endog=df, k_ar_diff=1, deterministic=\"ci\").fit()\n",
    "print(vecm_model.summary())"
   ]
  },
  {
   "cell_type": "code",
   "execution_count": 68,
   "id": "3b00d21c-fc51-4c1f-95bf-b13890e85bf7",
   "metadata": {
    "tags": []
   },
   "outputs": [],
   "source": [
    "S = df['XAUUSD'] -77.35 * df['XAGUSD']- 64.668 * df['COPPER']"
   ]
  },
  {
   "cell_type": "code",
   "execution_count": 69,
   "id": "4494a623-5010-4a65-89cd-8c6ffe705c45",
   "metadata": {
    "tags": []
   },
   "outputs": [
    {
     "data": {
      "text/plain": [
       "[<matplotlib.lines.Line2D at 0x1e6b3117460>]"
      ]
     },
     "execution_count": 69,
     "metadata": {},
     "output_type": "execute_result"
    },
    {
     "data": {
      "image/png": "[encoded data removed]",
      "text/plain": [
       "<Figure size 432x288 with 1 Axes>"
      ]
     },
     "metadata": {
      "needs_background": "light"
     },
     "output_type": "display_data"
    }
   ],
   "source": [
    "plt.plot(S)"
   ]
  },
  {
   "cell_type": "code",
   "execution_count": null,
   "id": "fa4aef62-cd63-47e4-ad57-72fbf72b02c5",
   "metadata": {},
   "outputs": [],
   "source": []
  }
 ],
 "metadata": {
  "kernelspec": {
   "display_name": "Python 3 (ipykernel)",
   "language": "python",
   "name": "python3"
  },
  "language_info": {
   "codemirror_mode": {
    "name": "ipython",
    "version": 3
   },
   "file_extension": ".py",
   "mimetype": "text/x-python",
   "name": "python",
   "nbconvert_exporter": "python",
   "pygments_lexer": "ipython3",
   "version": "3.10.5"
  },
  "toc-autonumbering": false,
  "toc-showcode": true
 },
 "nbformat": 4,
 "nbformat_minor": 5
}
